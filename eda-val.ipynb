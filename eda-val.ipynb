{
 "cells": [
  {
   "cell_type": "code",
   "execution_count": 108,
   "metadata": {},
   "outputs": [],
   "source": [
    "import pandas as pd\n",
    "import glob\n",
    "import matplotlib.pyplot as plt\n",
    "import numpy as np"
   ]
  },
  {
   "cell_type": "code",
   "execution_count": 2,
   "metadata": {},
   "outputs": [],
   "source": [
    "def load_df(path, encoding=\"utf-8\"):\n",
    "    loaded_pd = pd.read_csv(path, sep=\"\\t\", encoding=encoding)\n",
    "    pd_name = path.split(\"/\")[-1].split(\".\")[0]\n",
    "    return pd_name, loaded_pd"
   ]
  },
  {
   "cell_type": "code",
   "execution_count": 3,
   "metadata": {},
   "outputs": [],
   "source": [
    "paths_expression = glob.glob(\"data/expression data/*.txt\")"
   ]
  },
  {
   "cell_type": "code",
   "execution_count": 4,
   "metadata": {},
   "outputs": [],
   "source": [
    "expression_data = []\n",
    "for path in paths_expression:\n",
    "    expression_data.append(load_df(path))"
   ]
  },
  {
   "cell_type": "code",
   "execution_count": 5,
   "metadata": {},
   "outputs": [],
   "source": [
    "paths_other = glob.glob(\"data/*.txt\")\n",
    "aligner_path = \"data\\phenotypes_id_aligner.txt\"\n",
    "other_data = []\n",
    "for path in paths_other:\n",
    "    if path == aligner_path:\n",
    "        other_data.append(load_df(path, encoding=\"latin\"))\n",
    "    else:\n",
    "        other_data.append(load_df(path))"
   ]
  },
  {
   "cell_type": "markdown",
   "metadata": {},
   "source": [
    "## We have loaded the dataframes to lists\n",
    "\n",
    "Each list contains tuples (name, dataframe)\n",
    "- expression_data: tables with gene expressions\n",
    "- other_data: all the remaining tables"
   ]
  },
  {
   "cell_type": "code",
   "execution_count": 6,
   "metadata": {},
   "outputs": [],
   "source": [
    "#(other_data[2][1]).sum(axis=0)"
   ]
  },
  {
   "cell_type": "code",
   "execution_count": 7,
   "metadata": {},
   "outputs": [],
   "source": [
    "#(other_data[2][1][\"BXD8\"] == 0).sum()"
   ]
  },
  {
   "cell_type": "code",
   "execution_count": 8,
   "metadata": {},
   "outputs": [],
   "source": [
    "#[name for name, table in other_data]"
   ]
  },
  {
   "cell_type": "code",
   "execution_count": 9,
   "metadata": {},
   "outputs": [],
   "source": [
    "#[name for name, table in expression_data]"
   ]
  },
  {
   "cell_type": "code",
   "execution_count": 10,
   "metadata": {},
   "outputs": [],
   "source": [
    "#[name for name, table in other_data]"
   ]
  },
  {
   "cell_type": "code",
   "execution_count": 11,
   "metadata": {},
   "outputs": [],
   "source": [
    "#list(other_data[3][1][other_data[3][1][\"Category\"] == \"Immune\"].sort_values(\"Strains\", ascending=False)[\"Phenotype\"])"
   ]
  },
  {
   "cell_type": "code",
   "execution_count": 12,
   "metadata": {},
   "outputs": [],
   "source": [
    "#other_data[3][1][other_data[3][1][\"Category\"] == \"Activity\"].sort_values(\"Strains\", ascending=False)"
   ]
  },
  {
   "cell_type": "code",
   "execution_count": 13,
   "metadata": {},
   "outputs": [],
   "source": [
    "#other_data[3][1][other_data[3][1][\"Phenotype\"] == \"Infectious disease, immune system: H5N1 influenza A virus survival time (10^4 EID-50 of HK213 virus in 30 microliters saline) [days, max to 30]\"]"
   ]
  },
  {
   "cell_type": "code",
   "execution_count": 14,
   "metadata": {},
   "outputs": [],
   "source": [
    "#list(other_data[3][1].sort_values(\"Strains\", ascending=False)[16:][\"Phenotype\"])"
   ]
  },
  {
   "cell_type": "code",
   "execution_count": 139,
   "metadata": {
    "scrolled": true
   },
   "outputs": [
    {
     "name": "stdout",
     "output_type": "stream",
     "text": [
      "Shape: (50, 25613) ; Number of NaN values: 0\n",
      "Shape: (46, 25613) ; Number of NaN values: 0\n",
      "Shape: (53, 25613) ; Number of NaN values: 0\n",
      "Shape: (56, 25601) ; Number of NaN values: 0\n",
      "Shape: (37, 28407) ; Number of NaN values: 0\n",
      "Shape: (32, 46623) ; Number of NaN values: 2\n",
      "Shape: (43, 45079) ; Number of NaN values: 0\n",
      "Shape: (32, 25699) ; Number of NaN values: 0\n",
      "Shape: (30, 45079) ; Number of NaN values: 0\n",
      "Shape: (72, 45080) ; Number of NaN values: 0\n",
      "Shape: (50, 26226) ; Number of NaN values: 0\n",
      "Shape: (42, 28000) ; Number of NaN values: 0\n",
      "Shape: (39, 28000) ; Number of NaN values: 0\n",
      "Shape: (71, 45080) ; Number of NaN values: 0\n",
      "Shape: (43, 25613) ; Number of NaN values: 0\n",
      "Shape: (44, 25613) ; Number of NaN values: 0\n",
      "Shape: (52, 45079) ; Number of NaN values: 0\n",
      "Shape: (38, 45079) ; Number of NaN values: 0\n",
      "Shape: (97, 2622) ; Number of NaN values: 154698\n",
      "Shape: (97, 2622) ; Number of NaN values: 162564\n",
      "Shape: (41, 26205) ; Number of NaN values: 0\n",
      "Shape: (40, 26205) ; Number of NaN values: 0\n",
      "Shape: (97, 979) ; Number of NaN values: 55043\n",
      "Shape: (97, 979) ; Number of NaN values: 56988\n",
      "Shape: (51, 45079) ; Number of NaN values: 0\n",
      "Shape: (37, 55681) ; Number of NaN values: 0\n",
      "Shape: (42, 26205) ; Number of NaN values: 0\n",
      "Shape: (37, 26205) ; Number of NaN values: 0\n",
      "Shape: (97, 979) ; Number of NaN values: 54058\n",
      "Shape: (97, 979) ; Number of NaN values: 56002\n",
      "Shape: (36, 45080) ; Number of NaN values: 0\n",
      "Shape: (29, 45016) ; Number of NaN values: 0\n",
      "Shape: (45, 25613) ; Number of NaN values: 0\n",
      "Shape: (49, 25613) ; Number of NaN values: 0\n",
      "Shape: (41, 65770) ; Number of NaN values: 0\n",
      "Shape: (38, 65770) ; Number of NaN values: 0\n",
      "Shape: (67, 26227) ; Number of NaN values: 71\n",
      "Shape: (67, 26214) ; Number of NaN values: 0\n",
      "Shape: (32, 22691) ; Number of NaN values: 0\n",
      "Shape: (37, 45015) ; Number of NaN values: 0\n"
     ]
    }
   ],
   "source": [
    "# Look at the shapes and the NaN values of the dataframes\n",
    "\n",
    "for i in range(len(expression_data)):\n",
    "    df = expression_data[i][1].set_index('gene').transpose()\n",
    "    print(\"Shape: \" + repr(df.shape) + \" ; Number of NaN values: \" + repr(df.isna().sum().sum()))"
   ]
  },
  {
   "cell_type": "code",
   "execution_count": 140,
   "metadata": {},
   "outputs": [
    {
     "name": "stdout",
     "output_type": "stream",
     "text": [
      "97\n"
     ]
    }
   ],
   "source": [
    "# Compute the total set of mice strains present in the expressions dataframes\n",
    "mice_set = set()\n",
    "\n",
    "for i in range(len(expression_data)):\n",
    "    df = expression_data[i][1].set_index('gene')\n",
    "    mice_set.update(list(df.columns))\n",
    "\n",
    "# Compute the total list of mice strains sorted alphabetically\n",
    "mice_list = sorted(list(mice_set))\n",
    "print(len(mice_list))"
   ]
  },
  {
   "cell_type": "code",
   "execution_count": 141,
   "metadata": {},
   "outputs": [],
   "source": [
    "# Create a list of dataframes that always contain all mice (with NaN values if the mice are not originally present)\n",
    "df_list = []\n",
    "\n",
    "for i in range(len(expression_data)):\n",
    "    df = expression_data[i][1].set_index('gene')\n",
    "    missing_mice = mice_set - set(df.columns)\n",
    "    for mouse in missing_mice:\n",
    "        df[mouse] = np.NaN\n",
    "        \n",
    "    # Order the columns alphabetically\n",
    "    df = df[mice_list]\n",
    "    df_list.append(df)"
   ]
  },
  {
   "cell_type": "code",
   "execution_count": 142,
   "metadata": {},
   "outputs": [
    {
     "data": {
      "text/plain": [
       "<matplotlib.axes._subplots.AxesSubplot at 0x89a4e55b00>"
      ]
     },
     "execution_count": 142,
     "metadata": {},
     "output_type": "execute_result"
    },
    {
     "data": {
      "image/png": "[encoded data removed]",
      "text/plain": [
       "<Figure size 432x288 with 1 Axes>"
      ]
     },
     "metadata": {
      "needs_background": "light"
     },
     "output_type": "display_data"
    }
   ],
   "source": [
    "df_list[0]['BXD99'].plot.hist(bins=50)"
   ]
  },
  {
   "cell_type": "code",
   "execution_count": 143,
   "metadata": {},
   "outputs": [
    {
     "data": {
      "text/plain": [
       "<matplotlib.axes._subplots.AxesSubplot at 0x899b8861d0>"
      ]
     },
     "execution_count": 143,
     "metadata": {},
     "output_type": "execute_result"
    },
    {
     "data": {
      "image/png": "[encoded data removed]",
      "text/plain": [
       "<Figure size 432x288 with 1 Axes>"
      ]
     },
     "metadata": {
      "needs_background": "light"
     },
     "output_type": "display_data"
    }
   ],
   "source": [
    "df_list[0].transpose()['Nmt1_10338077'].plot.hist(bins=10)"
   ]
  }
 ],
 "metadata": {
  "kernelspec": {
   "display_name": "Python 3",
   "language": "python",
   "name": "python3"
  },
  "language_info": {
   "codemirror_mode": {
    "name": "ipython",
    "version": 3
   },
   "file_extension": ".py",
   "mimetype": "text/x-python",
   "name": "python",
   "nbconvert_exporter": "python",
   "pygments_lexer": "ipython3",
   "version": "3.6.7"
  }
 },
 "nbformat": 4,
 "nbformat_minor": 4
}
