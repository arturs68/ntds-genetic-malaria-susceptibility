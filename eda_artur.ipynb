{
 "cells": [
  {
   "cell_type": "code",
   "execution_count": 8,
   "metadata": {},
   "outputs": [],
   "source": [
    "import pandas as pd\n",
    "import glob\n",
    "import matplotlib.pyplot as plt\n",
    "import numpy as np"
   ]
  },
  {
   "cell_type": "code",
   "execution_count": 9,
   "metadata": {},
   "outputs": [],
   "source": [
    "def load_df(path, encoding=\"utf-8\"):\n",
    "    loaded_pd = pd.read_csv(path, sep=\"\\t\", encoding=encoding)\n",
    "    pd_name = path.split(\"/\")[-1].split(\".\")[0]\n",
    "    return pd_name, loaded_pd"
   ]
  },
  {
   "cell_type": "code",
   "execution_count": 10,
   "metadata": {},
   "outputs": [],
   "source": [
    "paths_expression = glob.glob(\"data/expression data/*.txt\")"
   ]
  },
  {
   "cell_type": "code",
   "execution_count": 11,
   "metadata": {},
   "outputs": [],
   "source": [
    "expression_data = []\n",
    "for path in paths_expression:\n",
    "    expression_data.append(load_df(path))"
   ]
  },
  {
   "cell_type": "code",
   "execution_count": 12,
   "metadata": {},
   "outputs": [],
   "source": [
    "paths_other = glob.glob(\"data/*.txt\")\n",
    "aligner_path = \"data/phenotypes_id_aligner.txt\"\n",
    "other_data = []\n",
    "for path in paths_other:\n",
    "    if path == aligner_path:\n",
    "        other_data.append(load_df(path, encoding=\"latin\"))\n",
    "    else:\n",
    "        other_data.append(load_df(path))"
   ]
  },
  {
   "cell_type": "markdown",
   "metadata": {},
   "source": [
    "## We have loaded the dataframes to lists\n",
    "\n",
    "Each list contains tuples (name, dataframe)\n",
    "- expression_data: tables with gene expressions\n",
    "- other_data: all the remaining tables"
   ]
  },
  {
   "cell_type": "code",
   "execution_count": 13,
   "metadata": {},
   "outputs": [
    {
     "name": "stdout",
     "output_type": "stream",
     "text": [
      "97\n"
     ]
    }
   ],
   "source": [
    "# Compute the total set of mice strains present in the expressions dataframes\n",
    "mice_set = set()\n",
    "\n",
    "for i in range(len(expression_data)):\n",
    "    df = expression_data[i][1].set_index('gene')\n",
    "    mice_set.update(list(df.columns))\n",
    "\n",
    "# Compute the total list of mice strains sorted alphabetically\n",
    "mice_list = sorted(list(mice_set))\n",
    "print(len(mice_list))"
   ]
  },
  {
   "cell_type": "code",
   "execution_count": 14,
   "metadata": {},
   "outputs": [],
   "source": [
    "# Create a list of dataframes that always contain all mice (with NaN values if the mice are not originally present)\n",
    "df_list = []\n",
    "\n",
    "for i in range(len(expression_data)):\n",
    "    df = expression_data[i][1].set_index('gene')\n",
    "    # standardize to fight the issue of different means and deviations - to make all of the values comparable\n",
    "    df = df.sub(df.mean(1), axis=0).div(df.std(1), axis=0)\n",
    "    missing_mice = mice_set - set(df.columns)\n",
    "    for mouse in missing_mice:\n",
    "        df[mouse] = np.NaN\n",
    "        \n",
    "    # Order the columns alphabetically\n",
    "    df = df[mice_list]\n",
    "    df.reset_index(inplace=True)\n",
    "    df[\"gene\"] = df[\"gene\"].apply(lambda name: name + \"_\" + expression_data[i][0])\n",
    "    df.rename(columns={\"gene\": \"strain\"}, inplace=True)\n",
    "    df.set_index(\"strain\", inplace=True)\n",
    "    df_list.append(df.transpose())"
   ]
  },
  {
   "cell_type": "code",
   "execution_count": 15,
   "metadata": {},
   "outputs": [],
   "source": [
    "base_df = df_list[0]\n",
    "for other_df in df_list[1:]:\n",
    "    base_df = base_df.join(other_df)"
   ]
  },
  {
   "cell_type": "markdown",
   "metadata": {},
   "source": [
    "We note that all in all the tissues apart from [9, 14, 16, 17, 22, 26, 27, 30, 31, 32, 34, 35, 37, 38, 39] the values appear to follow normal distribution. To make all of them comparable we standardize them by (SNP, tissue)"
   ]
  },
  {
   "cell_type": "code",
   "execution_count": 16,
   "metadata": {},
   "outputs": [],
   "source": [
    "gene_tissue_num = len(base_df.columns)"
   ]
  },
  {
   "cell_type": "code",
   "execution_count": 17,
   "metadata": {},
   "outputs": [],
   "source": [
    "# we remove the mice for which we have no expression data whatsoever\n",
    "base_df.drop(base_df[base_df.isnull().sum(axis=1) == gene_tissue_num].index, inplace=True)"
   ]
  },
  {
   "cell_type": "markdown",
   "metadata": {},
   "source": [
    "We remove the (SNP, tissue) for which we do not have data for at least 4 mice"
   ]
  },
  {
   "cell_type": "code",
   "execution_count": 18,
   "metadata": {},
   "outputs": [],
   "source": [
    "strains_num = len(base_df)"
   ]
  },
  {
   "cell_type": "code",
   "execution_count": 19,
   "metadata": {},
   "outputs": [],
   "source": [
    "columns_to_drop = base_df.columns[base_df.isnull().sum(axis=0) > strains_num - 4]"
   ]
  },
  {
   "cell_type": "code",
   "execution_count": 20,
   "metadata": {},
   "outputs": [],
   "source": [
    "base_df.drop(columns_to_drop, axis=1, inplace=True)"
   ]
  },
  {
   "cell_type": "code",
   "execution_count": 21,
   "metadata": {},
   "outputs": [],
   "source": [
    "base_df.to_pickle(\"processed_data/expression_standardized_cleaned.pkl\")"
   ]
  },
  {
   "cell_type": "code",
   "execution_count": 22,
   "metadata": {},
   "outputs": [],
   "source": [
    "phenotype_present = pd.read_pickle(\"processed_data/pheno_joined_present.pkl\")"
   ]
  },
  {
   "cell_type": "code",
   "execution_count": 23,
   "metadata": {},
   "outputs": [],
   "source": [
    "strains_with_pheno = phenotype_present.columns[:-2]"
   ]
  },
  {
   "cell_type": "code",
   "execution_count": 24,
   "metadata": {},
   "outputs": [
    {
     "data": {
      "text/html": [
       "<div>\n",
       "<style scoped>\n",
       "    .dataframe tbody tr th:only-of-type {\n",
       "        vertical-align: middle;\n",
       "    }\n",
       "\n",
       "    .dataframe tbody tr th {\n",
       "        vertical-align: top;\n",
       "    }\n",
       "\n",
       "    .dataframe thead th {\n",
       "        text-align: right;\n",
       "    }\n",
       "</style>\n",
       "<table border=\"1\" class=\"dataframe\">\n",
       "  <thead>\n",
       "    <tr style=\"text-align: right;\">\n",
       "      <th></th>\n",
       "      <th>B6D2F1</th>\n",
       "      <th>BXD1</th>\n",
       "      <th>BXD100</th>\n",
       "      <th>BXD101</th>\n",
       "      <th>BXD102</th>\n",
       "      <th>BXD11</th>\n",
       "      <th>BXD12</th>\n",
       "      <th>BXD13</th>\n",
       "      <th>BXD14</th>\n",
       "      <th>BXD15</th>\n",
       "      <th>...</th>\n",
       "      <th>BXD9</th>\n",
       "      <th>BXD90</th>\n",
       "      <th>BXD93</th>\n",
       "      <th>BXD94</th>\n",
       "      <th>BXD95</th>\n",
       "      <th>BXD98</th>\n",
       "      <th>BXD99</th>\n",
       "      <th>C57BL.6J</th>\n",
       "      <th>D2B6F1</th>\n",
       "      <th>DBA.2J</th>\n",
       "    </tr>\n",
       "    <tr>\n",
       "      <th>strain</th>\n",
       "      <th></th>\n",
       "      <th></th>\n",
       "      <th></th>\n",
       "      <th></th>\n",
       "      <th></th>\n",
       "      <th></th>\n",
       "      <th></th>\n",
       "      <th></th>\n",
       "      <th></th>\n",
       "      <th></th>\n",
       "      <th></th>\n",
       "      <th></th>\n",
       "      <th></th>\n",
       "      <th></th>\n",
       "      <th></th>\n",
       "      <th></th>\n",
       "      <th></th>\n",
       "      <th></th>\n",
       "      <th></th>\n",
       "      <th></th>\n",
       "      <th></th>\n",
       "    </tr>\n",
       "  </thead>\n",
       "  <tbody>\n",
       "    <tr>\n",
       "      <th>Nmt1_10338077_Muscle_CD</th>\n",
       "      <td>NaN</td>\n",
       "      <td>NaN</td>\n",
       "      <td>-0.725161</td>\n",
       "      <td>-1.317918</td>\n",
       "      <td>NaN</td>\n",
       "      <td>NaN</td>\n",
       "      <td>NaN</td>\n",
       "      <td>NaN</td>\n",
       "      <td>NaN</td>\n",
       "      <td>NaN</td>\n",
       "      <td>...</td>\n",
       "      <td>NaN</td>\n",
       "      <td>-0.792381</td>\n",
       "      <td>NaN</td>\n",
       "      <td>NaN</td>\n",
       "      <td>-1.360695</td>\n",
       "      <td>2.220295</td>\n",
       "      <td>-1.305697</td>\n",
       "      <td>-1.929009</td>\n",
       "      <td>NaN</td>\n",
       "      <td>-0.156847</td>\n",
       "    </tr>\n",
       "    <tr>\n",
       "      <th>Psmb5_10338095_Muscle_CD</th>\n",
       "      <td>NaN</td>\n",
       "      <td>NaN</td>\n",
       "      <td>0.007720</td>\n",
       "      <td>1.462562</td>\n",
       "      <td>NaN</td>\n",
       "      <td>NaN</td>\n",
       "      <td>NaN</td>\n",
       "      <td>NaN</td>\n",
       "      <td>NaN</td>\n",
       "      <td>NaN</td>\n",
       "      <td>...</td>\n",
       "      <td>NaN</td>\n",
       "      <td>-0.067101</td>\n",
       "      <td>NaN</td>\n",
       "      <td>NaN</td>\n",
       "      <td>-0.649038</td>\n",
       "      <td>-1.073020</td>\n",
       "      <td>0.207241</td>\n",
       "      <td>-0.557591</td>\n",
       "      <td>NaN</td>\n",
       "      <td>1.263041</td>\n",
       "    </tr>\n",
       "    <tr>\n",
       "      <th>Hdac5_10338098_Muscle_CD</th>\n",
       "      <td>NaN</td>\n",
       "      <td>NaN</td>\n",
       "      <td>0.376058</td>\n",
       "      <td>0.845329</td>\n",
       "      <td>NaN</td>\n",
       "      <td>NaN</td>\n",
       "      <td>NaN</td>\n",
       "      <td>NaN</td>\n",
       "      <td>NaN</td>\n",
       "      <td>NaN</td>\n",
       "      <td>...</td>\n",
       "      <td>NaN</td>\n",
       "      <td>-1.774767</td>\n",
       "      <td>NaN</td>\n",
       "      <td>NaN</td>\n",
       "      <td>0.854019</td>\n",
       "      <td>0.193564</td>\n",
       "      <td>1.453644</td>\n",
       "      <td>-0.353919</td>\n",
       "      <td>NaN</td>\n",
       "      <td>1.831667</td>\n",
       "    </tr>\n",
       "    <tr>\n",
       "      <th>Dlg1_10338109_Muscle_CD</th>\n",
       "      <td>NaN</td>\n",
       "      <td>NaN</td>\n",
       "      <td>0.545516</td>\n",
       "      <td>0.515211</td>\n",
       "      <td>NaN</td>\n",
       "      <td>NaN</td>\n",
       "      <td>NaN</td>\n",
       "      <td>NaN</td>\n",
       "      <td>NaN</td>\n",
       "      <td>NaN</td>\n",
       "      <td>...</td>\n",
       "      <td>NaN</td>\n",
       "      <td>-1.444705</td>\n",
       "      <td>NaN</td>\n",
       "      <td>NaN</td>\n",
       "      <td>-1.347606</td>\n",
       "      <td>0.252363</td>\n",
       "      <td>0.255455</td>\n",
       "      <td>-0.014195</td>\n",
       "      <td>NaN</td>\n",
       "      <td>-0.289412</td>\n",
       "    </tr>\n",
       "    <tr>\n",
       "      <th>Wars_10338116_Muscle_CD</th>\n",
       "      <td>NaN</td>\n",
       "      <td>NaN</td>\n",
       "      <td>-1.104466</td>\n",
       "      <td>-1.058281</td>\n",
       "      <td>NaN</td>\n",
       "      <td>NaN</td>\n",
       "      <td>NaN</td>\n",
       "      <td>NaN</td>\n",
       "      <td>NaN</td>\n",
       "      <td>NaN</td>\n",
       "      <td>...</td>\n",
       "      <td>NaN</td>\n",
       "      <td>0.304157</td>\n",
       "      <td>NaN</td>\n",
       "      <td>NaN</td>\n",
       "      <td>1.089291</td>\n",
       "      <td>1.052343</td>\n",
       "      <td>-0.748846</td>\n",
       "      <td>0.050143</td>\n",
       "      <td>NaN</td>\n",
       "      <td>-0.166923</td>\n",
       "    </tr>\n",
       "    <tr>\n",
       "      <th>...</th>\n",
       "      <td>...</td>\n",
       "      <td>...</td>\n",
       "      <td>...</td>\n",
       "      <td>...</td>\n",
       "      <td>...</td>\n",
       "      <td>...</td>\n",
       "      <td>...</td>\n",
       "      <td>...</td>\n",
       "      <td>...</td>\n",
       "      <td>...</td>\n",
       "      <td>...</td>\n",
       "      <td>...</td>\n",
       "      <td>...</td>\n",
       "      <td>...</td>\n",
       "      <td>...</td>\n",
       "      <td>...</td>\n",
       "      <td>...</td>\n",
       "      <td>...</td>\n",
       "      <td>...</td>\n",
       "      <td>...</td>\n",
       "      <td>...</td>\n",
       "    </tr>\n",
       "    <tr>\n",
       "      <th>Tfrc_AFFX-TransRecMur-X57349_5_at_Eye</th>\n",
       "      <td>1.036264</td>\n",
       "      <td>-0.566462</td>\n",
       "      <td>NaN</td>\n",
       "      <td>NaN</td>\n",
       "      <td>NaN</td>\n",
       "      <td>-1.180697</td>\n",
       "      <td>0.207761</td>\n",
       "      <td>-1.209266</td>\n",
       "      <td>0.464883</td>\n",
       "      <td>-0.372192</td>\n",
       "      <td>...</td>\n",
       "      <td>-0.672167</td>\n",
       "      <td>2.201883</td>\n",
       "      <td>NaN</td>\n",
       "      <td>NaN</td>\n",
       "      <td>NaN</td>\n",
       "      <td>-0.740733</td>\n",
       "      <td>-0.757874</td>\n",
       "      <td>0.979126</td>\n",
       "      <td>0.744860</td>\n",
       "      <td>-0.297912</td>\n",
       "    </tr>\n",
       "    <tr>\n",
       "      <th>Tfrc_AFFX-TransRecMur-X57349_M_at_Eye</th>\n",
       "      <td>1.008312</td>\n",
       "      <td>-0.427261</td>\n",
       "      <td>NaN</td>\n",
       "      <td>NaN</td>\n",
       "      <td>NaN</td>\n",
       "      <td>-1.017522</td>\n",
       "      <td>-0.143061</td>\n",
       "      <td>-1.494832</td>\n",
       "      <td>0.312387</td>\n",
       "      <td>-0.740610</td>\n",
       "      <td>...</td>\n",
       "      <td>-1.046671</td>\n",
       "      <td>2.043091</td>\n",
       "      <td>NaN</td>\n",
       "      <td>NaN</td>\n",
       "      <td>NaN</td>\n",
       "      <td>-0.645876</td>\n",
       "      <td>0.082841</td>\n",
       "      <td>0.822489</td>\n",
       "      <td>0.724112</td>\n",
       "      <td>0.039118</td>\n",
       "    </tr>\n",
       "    <tr>\n",
       "      <th>AFFX-TrpnX-3_AFFX-TrpnX-3_at_Eye</th>\n",
       "      <td>-0.810138</td>\n",
       "      <td>-0.273595</td>\n",
       "      <td>NaN</td>\n",
       "      <td>NaN</td>\n",
       "      <td>NaN</td>\n",
       "      <td>1.964559</td>\n",
       "      <td>-1.530640</td>\n",
       "      <td>-0.258265</td>\n",
       "      <td>1.596643</td>\n",
       "      <td>0.845482</td>\n",
       "      <td>...</td>\n",
       "      <td>-1.346682</td>\n",
       "      <td>-0.258265</td>\n",
       "      <td>NaN</td>\n",
       "      <td>NaN</td>\n",
       "      <td>NaN</td>\n",
       "      <td>-0.672170</td>\n",
       "      <td>-0.610851</td>\n",
       "      <td>-1.086075</td>\n",
       "      <td>-0.518872</td>\n",
       "      <td>-0.334914</td>\n",
       "    </tr>\n",
       "    <tr>\n",
       "      <th>AFFX-TrpnX-5_AFFX-TrpnX-5_at_Eye</th>\n",
       "      <td>-0.336536</td>\n",
       "      <td>-2.101328</td>\n",
       "      <td>NaN</td>\n",
       "      <td>NaN</td>\n",
       "      <td>NaN</td>\n",
       "      <td>0.792931</td>\n",
       "      <td>-1.501299</td>\n",
       "      <td>0.122310</td>\n",
       "      <td>0.969410</td>\n",
       "      <td>-1.218932</td>\n",
       "      <td>...</td>\n",
       "      <td>1.216481</td>\n",
       "      <td>-0.018873</td>\n",
       "      <td>NaN</td>\n",
       "      <td>NaN</td>\n",
       "      <td>NaN</td>\n",
       "      <td>-1.854257</td>\n",
       "      <td>1.463552</td>\n",
       "      <td>-0.830678</td>\n",
       "      <td>0.192902</td>\n",
       "      <td>-0.495367</td>\n",
       "    </tr>\n",
       "    <tr>\n",
       "      <th>AFFX-TrpnX-M_AFFX-TrpnX-M_at_Eye</th>\n",
       "      <td>-0.813993</td>\n",
       "      <td>1.004035</td>\n",
       "      <td>NaN</td>\n",
       "      <td>NaN</td>\n",
       "      <td>NaN</td>\n",
       "      <td>1.610044</td>\n",
       "      <td>-0.526936</td>\n",
       "      <td>0.493712</td>\n",
       "      <td>1.259197</td>\n",
       "      <td>-0.303669</td>\n",
       "      <td>...</td>\n",
       "      <td>1.259197</td>\n",
       "      <td>0.653188</td>\n",
       "      <td>NaN</td>\n",
       "      <td>NaN</td>\n",
       "      <td>NaN</td>\n",
       "      <td>0.509659</td>\n",
       "      <td>1.673835</td>\n",
       "      <td>-0.112298</td>\n",
       "      <td>-1.196735</td>\n",
       "      <td>-0.510988</td>\n",
       "    </tr>\n",
       "  </tbody>\n",
       "</table>\n",
       "<p>1201231 rows × 86 columns</p>\n",
       "</div>"
      ],
      "text/plain": [
       "                                         B6D2F1      BXD1    BXD100    BXD101  \\\n",
       "strain                                                                          \n",
       "Nmt1_10338077_Muscle_CD                     NaN       NaN -0.725161 -1.317918   \n",
       "Psmb5_10338095_Muscle_CD                    NaN       NaN  0.007720  1.462562   \n",
       "Hdac5_10338098_Muscle_CD                    NaN       NaN  0.376058  0.845329   \n",
       "Dlg1_10338109_Muscle_CD                     NaN       NaN  0.545516  0.515211   \n",
       "Wars_10338116_Muscle_CD                     NaN       NaN -1.104466 -1.058281   \n",
       "...                                         ...       ...       ...       ...   \n",
       "Tfrc_AFFX-TransRecMur-X57349_5_at_Eye  1.036264 -0.566462       NaN       NaN   \n",
       "Tfrc_AFFX-TransRecMur-X57349_M_at_Eye  1.008312 -0.427261       NaN       NaN   \n",
       "AFFX-TrpnX-3_AFFX-TrpnX-3_at_Eye      -0.810138 -0.273595       NaN       NaN   \n",
       "AFFX-TrpnX-5_AFFX-TrpnX-5_at_Eye      -0.336536 -2.101328       NaN       NaN   \n",
       "AFFX-TrpnX-M_AFFX-TrpnX-M_at_Eye      -0.813993  1.004035       NaN       NaN   \n",
       "\n",
       "                                       BXD102     BXD11     BXD12     BXD13  \\\n",
       "strain                                                                        \n",
       "Nmt1_10338077_Muscle_CD                   NaN       NaN       NaN       NaN   \n",
       "Psmb5_10338095_Muscle_CD                  NaN       NaN       NaN       NaN   \n",
       "Hdac5_10338098_Muscle_CD                  NaN       NaN       NaN       NaN   \n",
       "Dlg1_10338109_Muscle_CD                   NaN       NaN       NaN       NaN   \n",
       "Wars_10338116_Muscle_CD                   NaN       NaN       NaN       NaN   \n",
       "...                                       ...       ...       ...       ...   \n",
       "Tfrc_AFFX-TransRecMur-X57349_5_at_Eye     NaN -1.180697  0.207761 -1.209266   \n",
       "Tfrc_AFFX-TransRecMur-X57349_M_at_Eye     NaN -1.017522 -0.143061 -1.494832   \n",
       "AFFX-TrpnX-3_AFFX-TrpnX-3_at_Eye          NaN  1.964559 -1.530640 -0.258265   \n",
       "AFFX-TrpnX-5_AFFX-TrpnX-5_at_Eye          NaN  0.792931 -1.501299  0.122310   \n",
       "AFFX-TrpnX-M_AFFX-TrpnX-M_at_Eye          NaN  1.610044 -0.526936  0.493712   \n",
       "\n",
       "                                          BXD14     BXD15  ...      BXD9  \\\n",
       "strain                                                     ...             \n",
       "Nmt1_10338077_Muscle_CD                     NaN       NaN  ...       NaN   \n",
       "Psmb5_10338095_Muscle_CD                    NaN       NaN  ...       NaN   \n",
       "Hdac5_10338098_Muscle_CD                    NaN       NaN  ...       NaN   \n",
       "Dlg1_10338109_Muscle_CD                     NaN       NaN  ...       NaN   \n",
       "Wars_10338116_Muscle_CD                     NaN       NaN  ...       NaN   \n",
       "...                                         ...       ...  ...       ...   \n",
       "Tfrc_AFFX-TransRecMur-X57349_5_at_Eye  0.464883 -0.372192  ... -0.672167   \n",
       "Tfrc_AFFX-TransRecMur-X57349_M_at_Eye  0.312387 -0.740610  ... -1.046671   \n",
       "AFFX-TrpnX-3_AFFX-TrpnX-3_at_Eye       1.596643  0.845482  ... -1.346682   \n",
       "AFFX-TrpnX-5_AFFX-TrpnX-5_at_Eye       0.969410 -1.218932  ...  1.216481   \n",
       "AFFX-TrpnX-M_AFFX-TrpnX-M_at_Eye       1.259197 -0.303669  ...  1.259197   \n",
       "\n",
       "                                          BXD90  BXD93  BXD94     BXD95  \\\n",
       "strain                                                                    \n",
       "Nmt1_10338077_Muscle_CD               -0.792381    NaN    NaN -1.360695   \n",
       "Psmb5_10338095_Muscle_CD              -0.067101    NaN    NaN -0.649038   \n",
       "Hdac5_10338098_Muscle_CD              -1.774767    NaN    NaN  0.854019   \n",
       "Dlg1_10338109_Muscle_CD               -1.444705    NaN    NaN -1.347606   \n",
       "Wars_10338116_Muscle_CD                0.304157    NaN    NaN  1.089291   \n",
       "...                                         ...    ...    ...       ...   \n",
       "Tfrc_AFFX-TransRecMur-X57349_5_at_Eye  2.201883    NaN    NaN       NaN   \n",
       "Tfrc_AFFX-TransRecMur-X57349_M_at_Eye  2.043091    NaN    NaN       NaN   \n",
       "AFFX-TrpnX-3_AFFX-TrpnX-3_at_Eye      -0.258265    NaN    NaN       NaN   \n",
       "AFFX-TrpnX-5_AFFX-TrpnX-5_at_Eye      -0.018873    NaN    NaN       NaN   \n",
       "AFFX-TrpnX-M_AFFX-TrpnX-M_at_Eye       0.653188    NaN    NaN       NaN   \n",
       "\n",
       "                                          BXD98     BXD99  C57BL.6J    D2B6F1  \\\n",
       "strain                                                                          \n",
       "Nmt1_10338077_Muscle_CD                2.220295 -1.305697 -1.929009       NaN   \n",
       "Psmb5_10338095_Muscle_CD              -1.073020  0.207241 -0.557591       NaN   \n",
       "Hdac5_10338098_Muscle_CD               0.193564  1.453644 -0.353919       NaN   \n",
       "Dlg1_10338109_Muscle_CD                0.252363  0.255455 -0.014195       NaN   \n",
       "Wars_10338116_Muscle_CD                1.052343 -0.748846  0.050143       NaN   \n",
       "...                                         ...       ...       ...       ...   \n",
       "Tfrc_AFFX-TransRecMur-X57349_5_at_Eye -0.740733 -0.757874  0.979126  0.744860   \n",
       "Tfrc_AFFX-TransRecMur-X57349_M_at_Eye -0.645876  0.082841  0.822489  0.724112   \n",
       "AFFX-TrpnX-3_AFFX-TrpnX-3_at_Eye      -0.672170 -0.610851 -1.086075 -0.518872   \n",
       "AFFX-TrpnX-5_AFFX-TrpnX-5_at_Eye      -1.854257  1.463552 -0.830678  0.192902   \n",
       "AFFX-TrpnX-M_AFFX-TrpnX-M_at_Eye       0.509659  1.673835 -0.112298 -1.196735   \n",
       "\n",
       "                                         DBA.2J  \n",
       "strain                                           \n",
       "Nmt1_10338077_Muscle_CD               -0.156847  \n",
       "Psmb5_10338095_Muscle_CD               1.263041  \n",
       "Hdac5_10338098_Muscle_CD               1.831667  \n",
       "Dlg1_10338109_Muscle_CD               -0.289412  \n",
       "Wars_10338116_Muscle_CD               -0.166923  \n",
       "...                                         ...  \n",
       "Tfrc_AFFX-TransRecMur-X57349_5_at_Eye -0.297912  \n",
       "Tfrc_AFFX-TransRecMur-X57349_M_at_Eye  0.039118  \n",
       "AFFX-TrpnX-3_AFFX-TrpnX-3_at_Eye      -0.334914  \n",
       "AFFX-TrpnX-5_AFFX-TrpnX-5_at_Eye      -0.495367  \n",
       "AFFX-TrpnX-M_AFFX-TrpnX-M_at_Eye      -0.510988  \n",
       "\n",
       "[1201231 rows x 86 columns]"
      ]
     },
     "execution_count": 24,
     "metadata": {},
     "output_type": "execute_result"
    }
   ],
   "source": [
    "base_df = base_df.transpose()\n",
    "base_df.rename(columns={\"strain\": \"SNP\"})"
   ]
  },
  {
   "cell_type": "code",
   "execution_count": 25,
   "metadata": {},
   "outputs": [],
   "source": [
    "strain_with_pheno = []\n",
    "for index, row in phenotype_present.iterrows():\n",
    "    strain_with_pheno.append(row[~row.isnull()].index.tolist()[:-2])"
   ]
  },
  {
   "cell_type": "markdown",
   "metadata": {},
   "source": [
    "# Malaria Susceptibility regression baseline"
   ]
  },
  {
   "cell_type": "markdown",
   "metadata": {},
   "source": [
    "We decide to replace the missing values with mean. This is for simplicity."
   ]
  },
  {
   "cell_type": "code",
   "execution_count": 48,
   "metadata": {},
   "outputs": [],
   "source": [
    "df_pheno = []\n",
    "base_df = base_df.T\n",
    "for index, row in phenotype_present.iterrows():\n",
    "    row = row[~row.isna()]\n",
    "    row_df = pd.DataFrame(row)\n",
    "    column_name = row_df.columns[0]\n",
    "    row_df.rename(columns={column_name: row[\"Shown_pheno\"]}, inplace=True)\n",
    "    df_pheno.append(base_df.join(row_df, how=\"inner\"))"
   ]
  },
  {
   "cell_type": "code",
   "execution_count": 39,
   "metadata": {},
   "outputs": [],
   "source": [
    "from sklearn.linear_model import RidgeCV\n",
    "from sklearn.model_selection import train_test_split"
   ]
  },
  {
   "cell_type": "code",
   "execution_count": 40,
   "metadata": {},
   "outputs": [],
   "source": [
    "pheno_idx_of_interest = [0, 1, 2, 3, -1, -2]\n",
    "malaria_susceptibility_idx = [-1]"
   ]
  },
  {
   "cell_type": "code",
   "execution_count": 49,
   "metadata": {},
   "outputs": [
    {
     "name": "stdout",
     "output_type": "stream",
     "text": [
      "Malaria susceptibility, murine Plasmodium yoelli 17X-lethal (PY17X-L) [0=100% resistant, 1= 100% susceptible], test+score: 0.10180054576041642, number_of_samples: 57\n",
      "Malaria susceptibility, murine Plasmodium yoelli 17X-lethal (PY17X-L) [0=100% resistant, 1= 100% susceptible], test+score: 0.1396917513959589, number_of_samples: 57\n",
      "Malaria susceptibility, murine Plasmodium yoelli 17X-lethal (PY17X-L) [0=100% resistant, 1= 100% susceptible], test+score: 0.12795961323819094, number_of_samples: 57\n",
      "Malaria susceptibility, murine Plasmodium yoelli 17X-lethal (PY17X-L) [0=100% resistant, 1= 100% susceptible], test+score: 0.16958417245691604, number_of_samples: 57\n",
      "Malaria susceptibility, murine Plasmodium yoelli 17X-lethal (PY17X-L) [0=100% resistant, 1= 100% susceptible], test+score: 0.27511877033908516, number_of_samples: 57\n",
      "Malaria susceptibility, murine Plasmodium yoelli 17X-lethal (PY17X-L) [0=100% resistant, 1= 100% susceptible], test+score: -0.07999826243561435, number_of_samples: 57\n",
      "Malaria susceptibility, murine Plasmodium yoelli 17X-lethal (PY17X-L) [0=100% resistant, 1= 100% susceptible], test+score: 0.1098312347927919, number_of_samples: 57\n",
      "Malaria susceptibility, murine Plasmodium yoelli 17X-lethal (PY17X-L) [0=100% resistant, 1= 100% susceptible], test+score: -0.6661262229036093, number_of_samples: 57\n",
      "Malaria susceptibility, murine Plasmodium yoelli 17X-lethal (PY17X-L) [0=100% resistant, 1= 100% susceptible], test+score: 0.2894069356357707, number_of_samples: 57\n",
      "Malaria susceptibility, murine Plasmodium yoelli 17X-lethal (PY17X-L) [0=100% resistant, 1= 100% susceptible], test+score: 0.33853471560732273, number_of_samples: 57\n",
      "Malaria susceptibility, murine Plasmodium yoelli 17X-lethal (PY17X-L) [0=100% resistant, 1= 100% susceptible], test+score: 0.0605234440134459, number_of_samples: 57\n",
      "Malaria susceptibility, murine Plasmodium yoelli 17X-lethal (PY17X-L) [0=100% resistant, 1= 100% susceptible], test+score: 0.0826766655364909, number_of_samples: 57\n",
      "Malaria susceptibility, murine Plasmodium yoelli 17X-lethal (PY17X-L) [0=100% resistant, 1= 100% susceptible], test+score: 0.15211237455909876, number_of_samples: 57\n",
      "Malaria susceptibility, murine Plasmodium yoelli 17X-lethal (PY17X-L) [0=100% resistant, 1= 100% susceptible], test+score: 0.028149683328057895, number_of_samples: 57\n",
      "Malaria susceptibility, murine Plasmodium yoelli 17X-lethal (PY17X-L) [0=100% resistant, 1= 100% susceptible], test+score: 0.228406750413794, number_of_samples: 57\n",
      "Malaria susceptibility, murine Plasmodium yoelli 17X-lethal (PY17X-L) [0=100% resistant, 1= 100% susceptible], test+score: 0.12033675111616271, number_of_samples: 57\n",
      "Malaria susceptibility, murine Plasmodium yoelli 17X-lethal (PY17X-L) [0=100% resistant, 1= 100% susceptible], test+score: 0.17613206246358637, number_of_samples: 57\n",
      "Malaria susceptibility, murine Plasmodium yoelli 17X-lethal (PY17X-L) [0=100% resistant, 1= 100% susceptible], test+score: 0.2844422502347944, number_of_samples: 57\n",
      "Malaria susceptibility, murine Plasmodium yoelli 17X-lethal (PY17X-L) [0=100% resistant, 1= 100% susceptible], test+score: 0.12909981194414932, number_of_samples: 57\n",
      "Malaria susceptibility, murine Plasmodium yoelli 17X-lethal (PY17X-L) [0=100% resistant, 1= 100% susceptible], test+score: -0.01821484671752782, number_of_samples: 57\n",
      "percentage of positive R^2 scores: 85.0\n"
     ]
    }
   ],
   "source": [
    "import random\n",
    "positive_test_score = 0\n",
    "num_tests = 20\n",
    "for random_state in range(num_tests):\n",
    "    for pheno_idx in malaria_susceptibility_idx:    \n",
    "        X_train, X_test, y_train, y_test = train_test_split(\n",
    "            df_pheno[pheno_idx].iloc[:, :-1].fillna(0), df_pheno[pheno_idx].iloc[:, -1].fillna(0), test_size=0.3, random_state=random_state)\n",
    "\n",
    "        clf = RidgeCV(alphas=[1e-99, 1e-5, 1e-4, 1e-3, 1e-2, 1e-1, 1, 1e2, 1e3, 1e4, 1e5, 1e6, 1e7, 1e8, 1e9, 1e10, 1e11, 1e12]).fit(X_train, y_train)\n",
    "        if (clf.alpha_ == 1e12 or clf.alpha_ == 1e-5):\n",
    "            print(clf.alpha_)\n",
    "            print(\"Might need to update alpha\")\n",
    "        test_score = clf.score(X_test, y_test)\n",
    "        if test_score > 0:\n",
    "            positive_test_score += 1\n",
    "        print(f\"{df_pheno[pheno_idx].columns[-1]}, test+score: {test_score}, number_of_samples: {len(df_pheno[pheno_idx])}\")\n",
    "print(f\"percentage of positive R^2 scores: {float(positive_test_score) / num_tests * 100}\")"
   ]
  },
  {
   "cell_type": "markdown",
   "metadata": {},
   "source": [
    "We conclude that The ridge regression classifier does better than it would by always guessing the expected value, so it is a good baseline and the phenotype appears to be somewhat predictible give the gene expression data."
   ]
  },
  {
   "cell_type": "code",
   "execution_count": 50,
   "metadata": {},
   "outputs": [],
   "source": [
    "# we compare ridge regression with expected value error\n",
    "df_malaria = df_pheno[-1]"
   ]
  },
  {
   "cell_type": "code",
   "execution_count": 52,
   "metadata": {},
   "outputs": [],
   "source": [
    "df_malaria.to_pickle(\"processed_data/malaria_susceptibility.pkl\")"
   ]
  },
  {
   "cell_type": "code",
   "execution_count": 53,
   "metadata": {},
   "outputs": [
    {
     "name": "stdout",
     "output_type": "stream",
     "text": [
      "best alpha: 7033.794794794795\n"
     ]
    }
   ],
   "source": [
    "X_train, y_train = df_malaria.iloc[:, :-1].fillna(0), df_malaria.iloc[:, -1].fillna(0)\n",
    "clf_alpha = RidgeCV(alphas=np.linspace(7000, 7049, 1000), store_cv_values=True).fit(X_train, y_train)\n",
    "print(f\"best alpha: {clf_alpha.alpha_}\")"
   ]
  },
  {
   "cell_type": "code",
   "execution_count": 54,
   "metadata": {},
   "outputs": [
    {
     "name": "stdout",
     "output_type": "stream",
     "text": [
      "Malaria susceptibility, murine Plasmodium yoelli 17X-lethal (PY17X-L) [0=100% resistant, 1= 100% susceptible], number_of_samples: 57\n",
      "mean error: 0.1143422444908624\n",
      "mean error for completely susceptible mice: 0.06620653401697624\n",
      "mean error for somewhat resistant mice: 0.16419708748167303\n"
     ]
    }
   ],
   "source": [
    "clf = RidgeCV(alphas=[clf_alpha.alpha_], store_cv_values=True).fit(X_train, y_train)\n",
    "\n",
    "print(f\"{df_malaria.columns[-1]}, number_of_samples: {len(df_malaria)}\")\n",
    "print(f\"mean error: {clf.cv_values_.mean()}\")\n",
    "print(f\"mean error for completely susceptible mice: {clf.cv_values_[np.where(y_train == 1.0)[0]].mean()}\")\n",
    "print(f\"mean error for somewhat resistant mice: {clf.cv_values_[np.where(y_train != 1.0)[0]].mean()}\")"
   ]
  },
  {
   "cell_type": "code",
   "execution_count": 55,
   "metadata": {},
   "outputs": [
    {
     "data": {
      "text/plain": [
       "Text(0.5, 0, 'malaria susceptibility %')"
      ]
     },
     "execution_count": 55,
     "metadata": {},
     "output_type": "execute_result"
    },
    {
     "data": {
      "image/png": "[encoded data removed]",
      "text/plain": [
       "<Figure size 432x288 with 1 Axes>"
      ]
     },
     "metadata": {
      "needs_background": "light"
     },
     "output_type": "display_data"
    }
   ],
   "source": [
    "# error distribution by mice susceptibility\n",
    "plt.scatter(x=y_train, y=clf.cv_values_)\n",
    "plt.title(\"Classification error as a function of susceptibility\")\n",
    "plt.ylabel(\"classification error %\")\n",
    "plt.xlabel(\"malaria susceptibility %\")"
   ]
  },
  {
   "cell_type": "markdown",
   "metadata": {},
   "source": [
    "We note that the classifier makes the worst mistakes when predicting susceptibility of the most resistant mice."
   ]
  },
  {
   "cell_type": "code",
   "execution_count": 56,
   "metadata": {},
   "outputs": [
    {
     "data": {
      "text/plain": [
       "(array([9.00000e+00, 2.02000e+02, 4.57100e+03, 8.31610e+04, 5.60186e+05,\n",
       "        4.96384e+05, 5.36320e+04, 2.80700e+03, 2.57000e+02, 2.20000e+01]),\n",
       " array([-2.55293652e-05, -2.03659262e-05, -1.52024872e-05, -1.00390482e-05,\n",
       "        -4.87560913e-06,  2.87829891e-07,  5.45126891e-06,  1.06147079e-05,\n",
       "         1.57781470e-05,  2.09415860e-05,  2.61050250e-05]),\n",
       " <a list of 10 Patch objects>)"
      ]
     },
     "execution_count": 56,
     "metadata": {},
     "output_type": "execute_result"
    },
    {
     "data": {
      "image/png": "[encoded data removed]",
      "text/plain": [
       "<Figure size 432x288 with 1 Axes>"
      ]
     },
     "metadata": {
      "needs_background": "light"
     },
     "output_type": "display_data"
    }
   ],
   "source": [
    "plt.hist(clf.coef_)"
   ]
  },
  {
   "cell_type": "markdown",
   "metadata": {},
   "source": [
    "Most of the weights are very small, meaning most of the expression data is not used. It appears that there are both gene expressions that correlate with susceptibility as those related to resistance: the histogram has negative and positive entries."
   ]
  },
  {
   "cell_type": "markdown",
   "metadata": {},
   "source": [
    "SNPs used by classifier to predict susceptibility:"
   ]
  },
  {
   "cell_type": "code",
   "execution_count": 57,
   "metadata": {},
   "outputs": [
    {
     "data": {
      "text/plain": [
       "Index(['scl00280487.1_157-S_ILM5910112_Bone_Femur',\n",
       "       '1700072I22Rik_ILM100380731_Bone_Femur', 'Cpn1_ILM1940114_Bone_Femur',\n",
       "       'Lonp2_ILM5290687_Bone_Femur', 'Serpina1-rat_ILM106590035_Bone_Femur'],\n",
       "      dtype='object')"
      ]
     },
     "execution_count": 57,
     "metadata": {},
     "output_type": "execute_result"
    }
   ],
   "source": [
    "X_train.columns[np.where(clf.coef_ > 0.000023)[0]]"
   ]
  },
  {
   "cell_type": "markdown",
   "metadata": {},
   "source": [
    "SNPs used by classifier to predict resistance:"
   ]
  },
  {
   "cell_type": "code",
   "execution_count": 58,
   "metadata": {},
   "outputs": [
    {
     "data": {
      "text/plain": [
       "Index(['Gpr83_ILM102940402_Bone_Femur', 'Cntnap2_ILM100380601_Bone_Femur',\n",
       "       'Car10_ILM3130463_Bone_Femur', 'Nppc_ILM2320647_Bone_Femur',\n",
       "       '4930571N24Rik_ILM101230041_Bone_Femur'],\n",
       "      dtype='object')"
      ]
     },
     "execution_count": 58,
     "metadata": {},
     "output_type": "execute_result"
    }
   ],
   "source": [
    "X_train.columns[np.where(clf.coef_ < -0.0000215)[0]]"
   ]
  },
  {
   "cell_type": "markdown",
   "metadata": {},
   "source": [
    "It seems that gene expression in bone femur is the strongest indicator"
   ]
  },
  {
   "cell_type": "markdown",
   "metadata": {},
   "source": [
    "We decide to reduce the number of SNPs we use for prediction for computational efficiency. To select the most important ones we pick those that have highest or lowest weights in ridge regression and those that have highest or lowest spearman correlation. Note that there might be more complex relationships that we decide not to consider due to limited number of mice in the dataset."
   ]
  },
  {
   "cell_type": "code",
   "execution_count": 141,
   "metadata": {},
   "outputs": [],
   "source": [
    "coef_with_index = list(zip(range(clf.coef_.shape[0]), clf.coef_))"
   ]
  },
  {
   "cell_type": "code",
   "execution_count": 145,
   "metadata": {},
   "outputs": [],
   "source": [
    "coef_with_index.sort(key=lambda x: x[1])"
   ]
  },
  {
   "cell_type": "code",
   "execution_count": 239,
   "metadata": {},
   "outputs": [],
   "source": [
    "# pick k indices of the most relevant features according to ridge\n",
    "def relevant_indices(k, list_with_indices):\n",
    "    negative = [el[0] for el in list_with_indices[:k//2]]\n",
    "    positive = [el[0] for el in list_with_indices[-k//2:]]\n",
    "    return negative + positive"
   ]
  },
  {
   "cell_type": "code",
   "execution_count": 271,
   "metadata": {},
   "outputs": [],
   "source": [
    "def evaluate_ridge(X_train_eval):\n",
    "    clf_ridge_relevant = RidgeCV(alphas=np.linspace(1e-10, 15000, 100), store_cv_values=True).fit(X_train_eval, y_train)\n",
    "    print(f\"best alpha: {clf_ridge_relevant.alpha_}\")\n",
    "    print(f\"mean error: {clf_ridge_relevant.cv_values_.mean()}\")"
   ]
  },
  {
   "cell_type": "code",
   "execution_count": 240,
   "metadata": {},
   "outputs": [
    {
     "name": "stdout",
     "output_type": "stream",
     "text": [
      "SNPs used: 1201231\n",
      "best alpha: 7045.454545454551\n",
      "mean error: 0.11436680777692335\n",
      "SNPs used: 100000\n",
      "best alpha: 1e-10\n",
      "mean error: 0.014230869396542152\n",
      "SNPs used: 50000\n",
      "best alpha: 1e-10\n",
      "mean error: 0.014874226010923143\n",
      "SNPs used: 10000\n",
      "best alpha: 1e-10\n",
      "mean error: 0.0374346976663983\n",
      "SNPs used: 1000\n",
      "best alpha: 1e-10\n",
      "mean error: 0.08805517489368293\n",
      "SNPs used: 100\n",
      "best alpha: 75.75757575767474\n",
      "mean error: 0.13808332570974474\n"
     ]
    }
   ],
   "source": [
    "indices_to_evaluate = [X_train.shape[1], 1e5, 50000, 1e4, 1e3, 1e2]\n",
    "for k in indices_to_evaluate:\n",
    "    print(f\"SNPs used: {int(k)}\")\n",
    "    indices = relevant_indices(int(k), coef_with_index)\n",
    "    evaluate_ridge(X_train.iloc[:, indices])"
   ]
  },
  {
   "cell_type": "markdown",
   "metadata": {},
   "source": [
    "We see that actually best scores are attained when we use only 100k most relevant SNPs, and using only 50k gives comparable results. "
   ]
  },
  {
   "cell_type": "markdown",
   "metadata": {},
   "source": [
    "Other measures of feature importance can be used. Here we compute the spearman correlation and pick the SNPs most positively or negatively correlated with the malaric susceptibility."
   ]
  },
  {
   "cell_type": "code",
   "execution_count": 111,
   "metadata": {},
   "outputs": [],
   "source": [
    "from scipy.stats import spearmanr"
   ]
  },
  {
   "cell_type": "code",
   "execution_count": 133,
   "metadata": {},
   "outputs": [
    {
     "name": "stdout",
     "output_type": "stream",
     "text": [
      "Time: 730.211436461017\n"
     ]
    }
   ],
   "source": [
    "import timeit\n",
    "number_of_samples = X_train.shape[1]\n",
    "spearman_values = []\n",
    "start = timeit.default_timer()\n",
    "for i in range(X_train.shape[1]):\n",
    "     spearman_values.append(spearmanr(X_train.iloc[:,i], y_train)[0])\n",
    "print(f\"Time: {timeit.default_timer() - start}\")"
   ]
  },
  {
   "cell_type": "code",
   "execution_count": 236,
   "metadata": {},
   "outputs": [],
   "source": [
    "spearman_values = np.array(spearman_values)\n",
    "np.save(\"processed_data/spearman_SNP_susceptibility.npy\", spearman_values)"
   ]
  },
  {
   "cell_type": "code",
   "execution_count": 237,
   "metadata": {},
   "outputs": [],
   "source": [
    "spearman_with_index = list(zip(range(spearman_values.shape[0]), spearman_values))\n",
    "spearman_with_index.sort(key=lambda x: x[1])"
   ]
  },
  {
   "cell_type": "code",
   "execution_count": 241,
   "metadata": {},
   "outputs": [
    {
     "name": "stdout",
     "output_type": "stream",
     "text": [
      "SNPs used: 1201231\n",
      "best alpha: 7045.454545454551\n",
      "mean error: 0.11436680777692403\n",
      "SNPs used: 100000\n",
      "best alpha: 6818.181818181827\n",
      "mean error: 0.038421938406022406\n",
      "SNPs used: 50000\n",
      "best alpha: 4469.69696969701\n",
      "mean error: 0.03682849999838342\n",
      "SNPs used: 10000\n",
      "best alpha: 909.090909090997\n",
      "mean error: 0.03692242906076289\n",
      "SNPs used: 1000\n",
      "best alpha: 151.51515151524947\n",
      "mean error: 0.06291592114494667\n",
      "SNPs used: 100\n",
      "best alpha: 75.75757575767474\n",
      "mean error: 0.12528854506553505\n"
     ]
    }
   ],
   "source": [
    "for k in indices_to_evaluate:\n",
    "    print(f\"SNPs used: {int(k)}\")\n",
    "    indices = relevant_indices(int(k), spearman_with_index)\n",
    "    evaluate_ridge(X_train.iloc[:, indices])"
   ]
  },
  {
   "cell_type": "code",
   "execution_count": 261,
   "metadata": {},
   "outputs": [
    {
     "name": "stdout",
     "output_type": "stream",
     "text": [
      "best alpha: 1e-10\n",
      "mean error: 0.013896036240410107\n"
     ]
    }
   ],
   "source": [
    "indices_both = list(set(relevant_indices(7000, spearman_with_index) + relevant_indices(50000, coef_with_index)))\n",
    "evaluate_ridge(X_train.iloc[:, indices_both])"
   ]
  },
  {
   "cell_type": "markdown",
   "metadata": {},
   "source": [
    "We note that taking only the SNPs with significant spearman correlation doesn't give better results, but combining some of them with those previously selected does help."
   ]
  },
  {
   "cell_type": "markdown",
   "metadata": {},
   "source": [
    "Test of random forest regressor. As can be seen, it did not perform well and we decided not to pursue this direction, using ridge regression only in the end."
   ]
  },
  {
   "cell_type": "code",
   "execution_count": 296,
   "metadata": {
    "scrolled": true
   },
   "outputs": [
    {
     "name": "stderr",
     "output_type": "stream",
     "text": [
      "/Users/szalata/anaconda3/lib/python3.7/site-packages/sklearn/ensemble/forest.py:245: FutureWarning: The default value of n_estimators will change from 10 in version 0.20 to 100 in 0.22.\n",
      "  \"10 in version 0.20 to 100 in 0.22.\", FutureWarning)\n"
     ]
    },
    {
     "name": "stdout",
     "output_type": "stream",
     "text": [
      "Malaria susceptibility, murine Plasmodium yoelli 17X-lethal (PY17X-L) [0=100% resistant, 1= 100% susceptible], test+score: -0.0022709371941089795, number_of_samples: 57\n"
     ]
    },
    {
     "name": "stderr",
     "output_type": "stream",
     "text": [
      "/Users/szalata/anaconda3/lib/python3.7/site-packages/sklearn/ensemble/forest.py:245: FutureWarning: The default value of n_estimators will change from 10 in version 0.20 to 100 in 0.22.\n",
      "  \"10 in version 0.20 to 100 in 0.22.\", FutureWarning)\n"
     ]
    },
    {
     "name": "stdout",
     "output_type": "stream",
     "text": [
      "Malaria susceptibility, murine Plasmodium yoelli 17X-lethal (PY17X-L) [0=100% resistant, 1= 100% susceptible], test+score: 0.1345917724367629, number_of_samples: 57\n"
     ]
    },
    {
     "name": "stderr",
     "output_type": "stream",
     "text": [
      "/Users/szalata/anaconda3/lib/python3.7/site-packages/sklearn/ensemble/forest.py:245: FutureWarning: The default value of n_estimators will change from 10 in version 0.20 to 100 in 0.22.\n",
      "  \"10 in version 0.20 to 100 in 0.22.\", FutureWarning)\n"
     ]
    },
    {
     "name": "stdout",
     "output_type": "stream",
     "text": [
      "Malaria susceptibility, murine Plasmodium yoelli 17X-lethal (PY17X-L) [0=100% resistant, 1= 100% susceptible], test+score: -0.2752554473423574, number_of_samples: 57\n"
     ]
    },
    {
     "name": "stderr",
     "output_type": "stream",
     "text": [
      "/Users/szalata/anaconda3/lib/python3.7/site-packages/sklearn/ensemble/forest.py:245: FutureWarning: The default value of n_estimators will change from 10 in version 0.20 to 100 in 0.22.\n",
      "  \"10 in version 0.20 to 100 in 0.22.\", FutureWarning)\n"
     ]
    },
    {
     "name": "stdout",
     "output_type": "stream",
     "text": [
      "Malaria susceptibility, murine Plasmodium yoelli 17X-lethal (PY17X-L) [0=100% resistant, 1= 100% susceptible], test+score: -0.003359108595451188, number_of_samples: 57\n"
     ]
    },
    {
     "name": "stderr",
     "output_type": "stream",
     "text": [
      "/Users/szalata/anaconda3/lib/python3.7/site-packages/sklearn/ensemble/forest.py:245: FutureWarning: The default value of n_estimators will change from 10 in version 0.20 to 100 in 0.22.\n",
      "  \"10 in version 0.20 to 100 in 0.22.\", FutureWarning)\n"
     ]
    },
    {
     "name": "stdout",
     "output_type": "stream",
     "text": [
      "Malaria susceptibility, murine Plasmodium yoelli 17X-lethal (PY17X-L) [0=100% resistant, 1= 100% susceptible], test+score: 0.10744402196873704, number_of_samples: 57\n"
     ]
    },
    {
     "name": "stderr",
     "output_type": "stream",
     "text": [
      "/Users/szalata/anaconda3/lib/python3.7/site-packages/sklearn/ensemble/forest.py:245: FutureWarning: The default value of n_estimators will change from 10 in version 0.20 to 100 in 0.22.\n",
      "  \"10 in version 0.20 to 100 in 0.22.\", FutureWarning)\n"
     ]
    },
    {
     "name": "stdout",
     "output_type": "stream",
     "text": [
      "Malaria susceptibility, murine Plasmodium yoelli 17X-lethal (PY17X-L) [0=100% resistant, 1= 100% susceptible], test+score: -0.302065210529638, number_of_samples: 57\n"
     ]
    },
    {
     "name": "stderr",
     "output_type": "stream",
     "text": [
      "/Users/szalata/anaconda3/lib/python3.7/site-packages/sklearn/ensemble/forest.py:245: FutureWarning: The default value of n_estimators will change from 10 in version 0.20 to 100 in 0.22.\n",
      "  \"10 in version 0.20 to 100 in 0.22.\", FutureWarning)\n"
     ]
    },
    {
     "name": "stdout",
     "output_type": "stream",
     "text": [
      "Malaria susceptibility, murine Plasmodium yoelli 17X-lethal (PY17X-L) [0=100% resistant, 1= 100% susceptible], test+score: 0.33262401344064996, number_of_samples: 57\n"
     ]
    },
    {
     "name": "stderr",
     "output_type": "stream",
     "text": [
      "/Users/szalata/anaconda3/lib/python3.7/site-packages/sklearn/ensemble/forest.py:245: FutureWarning: The default value of n_estimators will change from 10 in version 0.20 to 100 in 0.22.\n",
      "  \"10 in version 0.20 to 100 in 0.22.\", FutureWarning)\n"
     ]
    },
    {
     "name": "stdout",
     "output_type": "stream",
     "text": [
      "Malaria susceptibility, murine Plasmodium yoelli 17X-lethal (PY17X-L) [0=100% resistant, 1= 100% susceptible], test+score: -1.5910286677908942, number_of_samples: 57\n"
     ]
    },
    {
     "name": "stderr",
     "output_type": "stream",
     "text": [
      "/Users/szalata/anaconda3/lib/python3.7/site-packages/sklearn/ensemble/forest.py:245: FutureWarning: The default value of n_estimators will change from 10 in version 0.20 to 100 in 0.22.\n",
      "  \"10 in version 0.20 to 100 in 0.22.\", FutureWarning)\n"
     ]
    },
    {
     "name": "stdout",
     "output_type": "stream",
     "text": [
      "Malaria susceptibility, murine Plasmodium yoelli 17X-lethal (PY17X-L) [0=100% resistant, 1= 100% susceptible], test+score: -0.23009419072692824, number_of_samples: 57\n"
     ]
    },
    {
     "name": "stderr",
     "output_type": "stream",
     "text": [
      "/Users/szalata/anaconda3/lib/python3.7/site-packages/sklearn/ensemble/forest.py:245: FutureWarning: The default value of n_estimators will change from 10 in version 0.20 to 100 in 0.22.\n",
      "  \"10 in version 0.20 to 100 in 0.22.\", FutureWarning)\n"
     ]
    },
    {
     "name": "stdout",
     "output_type": "stream",
     "text": [
      "Malaria susceptibility, murine Plasmodium yoelli 17X-lethal (PY17X-L) [0=100% resistant, 1= 100% susceptible], test+score: -0.21410237842998006, number_of_samples: 57\n"
     ]
    },
    {
     "name": "stderr",
     "output_type": "stream",
     "text": [
      "/Users/szalata/anaconda3/lib/python3.7/site-packages/sklearn/ensemble/forest.py:245: FutureWarning: The default value of n_estimators will change from 10 in version 0.20 to 100 in 0.22.\n",
      "  \"10 in version 0.20 to 100 in 0.22.\", FutureWarning)\n"
     ]
    },
    {
     "name": "stdout",
     "output_type": "stream",
     "text": [
      "Malaria susceptibility, murine Plasmodium yoelli 17X-lethal (PY17X-L) [0=100% resistant, 1= 100% susceptible], test+score: -0.007364296735493437, number_of_samples: 57\n"
     ]
    },
    {
     "name": "stderr",
     "output_type": "stream",
     "text": [
      "/Users/szalata/anaconda3/lib/python3.7/site-packages/sklearn/ensemble/forest.py:245: FutureWarning: The default value of n_estimators will change from 10 in version 0.20 to 100 in 0.22.\n",
      "  \"10 in version 0.20 to 100 in 0.22.\", FutureWarning)\n"
     ]
    },
    {
     "name": "stdout",
     "output_type": "stream",
     "text": [
      "Malaria susceptibility, murine Plasmodium yoelli 17X-lethal (PY17X-L) [0=100% resistant, 1= 100% susceptible], test+score: -0.11967602690623981, number_of_samples: 57\n"
     ]
    },
    {
     "name": "stderr",
     "output_type": "stream",
     "text": [
      "/Users/szalata/anaconda3/lib/python3.7/site-packages/sklearn/ensemble/forest.py:245: FutureWarning: The default value of n_estimators will change from 10 in version 0.20 to 100 in 0.22.\n",
      "  \"10 in version 0.20 to 100 in 0.22.\", FutureWarning)\n"
     ]
    },
    {
     "name": "stdout",
     "output_type": "stream",
     "text": [
      "Malaria susceptibility, murine Plasmodium yoelli 17X-lethal (PY17X-L) [0=100% resistant, 1= 100% susceptible], test+score: 0.19726621228035413, number_of_samples: 57\n"
     ]
    },
    {
     "name": "stderr",
     "output_type": "stream",
     "text": [
      "/Users/szalata/anaconda3/lib/python3.7/site-packages/sklearn/ensemble/forest.py:245: FutureWarning: The default value of n_estimators will change from 10 in version 0.20 to 100 in 0.22.\n",
      "  \"10 in version 0.20 to 100 in 0.22.\", FutureWarning)\n"
     ]
    },
    {
     "name": "stdout",
     "output_type": "stream",
     "text": [
      "Malaria susceptibility, murine Plasmodium yoelli 17X-lethal (PY17X-L) [0=100% resistant, 1= 100% susceptible], test+score: -0.4401497517508175, number_of_samples: 57\n"
     ]
    },
    {
     "name": "stderr",
     "output_type": "stream",
     "text": [
      "/Users/szalata/anaconda3/lib/python3.7/site-packages/sklearn/ensemble/forest.py:245: FutureWarning: The default value of n_estimators will change from 10 in version 0.20 to 100 in 0.22.\n",
      "  \"10 in version 0.20 to 100 in 0.22.\", FutureWarning)\n"
     ]
    },
    {
     "name": "stdout",
     "output_type": "stream",
     "text": [
      "Malaria susceptibility, murine Plasmodium yoelli 17X-lethal (PY17X-L) [0=100% resistant, 1= 100% susceptible], test+score: -0.1252372056651314, number_of_samples: 57\n"
     ]
    },
    {
     "name": "stderr",
     "output_type": "stream",
     "text": [
      "/Users/szalata/anaconda3/lib/python3.7/site-packages/sklearn/ensemble/forest.py:245: FutureWarning: The default value of n_estimators will change from 10 in version 0.20 to 100 in 0.22.\n",
      "  \"10 in version 0.20 to 100 in 0.22.\", FutureWarning)\n"
     ]
    },
    {
     "name": "stdout",
     "output_type": "stream",
     "text": [
      "Malaria susceptibility, murine Plasmodium yoelli 17X-lethal (PY17X-L) [0=100% resistant, 1= 100% susceptible], test+score: 0.11216045834979706, number_of_samples: 57\n"
     ]
    },
    {
     "name": "stderr",
     "output_type": "stream",
     "text": [
      "/Users/szalata/anaconda3/lib/python3.7/site-packages/sklearn/ensemble/forest.py:245: FutureWarning: The default value of n_estimators will change from 10 in version 0.20 to 100 in 0.22.\n",
      "  \"10 in version 0.20 to 100 in 0.22.\", FutureWarning)\n"
     ]
    },
    {
     "name": "stdout",
     "output_type": "stream",
     "text": [
      "Malaria susceptibility, murine Plasmodium yoelli 17X-lethal (PY17X-L) [0=100% resistant, 1= 100% susceptible], test+score: 0.35166175982108416, number_of_samples: 57\n"
     ]
    },
    {
     "name": "stderr",
     "output_type": "stream",
     "text": [
      "/Users/szalata/anaconda3/lib/python3.7/site-packages/sklearn/ensemble/forest.py:245: FutureWarning: The default value of n_estimators will change from 10 in version 0.20 to 100 in 0.22.\n",
      "  \"10 in version 0.20 to 100 in 0.22.\", FutureWarning)\n"
     ]
    },
    {
     "name": "stdout",
     "output_type": "stream",
     "text": [
      "Malaria susceptibility, murine Plasmodium yoelli 17X-lethal (PY17X-L) [0=100% resistant, 1= 100% susceptible], test+score: -0.07122698587039511, number_of_samples: 57\n"
     ]
    },
    {
     "name": "stderr",
     "output_type": "stream",
     "text": [
      "/Users/szalata/anaconda3/lib/python3.7/site-packages/sklearn/ensemble/forest.py:245: FutureWarning: The default value of n_estimators will change from 10 in version 0.20 to 100 in 0.22.\n",
      "  \"10 in version 0.20 to 100 in 0.22.\", FutureWarning)\n"
     ]
    },
    {
     "name": "stdout",
     "output_type": "stream",
     "text": [
      "Malaria susceptibility, murine Plasmodium yoelli 17X-lethal (PY17X-L) [0=100% resistant, 1= 100% susceptible], test+score: 0.31320272039085284, number_of_samples: 57\n"
     ]
    },
    {
     "name": "stderr",
     "output_type": "stream",
     "text": [
      "/Users/szalata/anaconda3/lib/python3.7/site-packages/sklearn/ensemble/forest.py:245: FutureWarning: The default value of n_estimators will change from 10 in version 0.20 to 100 in 0.22.\n",
      "  \"10 in version 0.20 to 100 in 0.22.\", FutureWarning)\n"
     ]
    },
    {
     "name": "stdout",
     "output_type": "stream",
     "text": [
      "Malaria susceptibility, murine Plasmodium yoelli 17X-lethal (PY17X-L) [0=100% resistant, 1= 100% susceptible], test+score: -0.043453153599479544, number_of_samples: 57\n",
      "percentage of positive R^2 scores: 35.0\n"
     ]
    }
   ],
   "source": [
    "from sklearn.ensemble import RandomForestRegressor\n",
    "positive_test_score = 0\n",
    "num_tests = 20\n",
    "for random_state in range(num_tests):\n",
    "    for pheno_idx in malaria_susceptibility_idx:    \n",
    "        X_train, X_test, y_train, y_test = train_test_split(\n",
    "            df_pheno[pheno_idx].iloc[:, :-1].fillna(0), df_pheno[pheno_idx].iloc[:, -1].fillna(0), test_size=0.3, random_state=random_state)\n",
    "\n",
    "        clf = RandomForestRegressor(max_depth=10, random_state=0)\n",
    "        clf.fit(X_train.iloc[:, indices_both], y_train)\n",
    "        test_score = clf.score(X_test.iloc[:, indices_both], y_test)\n",
    "        if test_score > 0:\n",
    "            positive_test_score += 1\n",
    "        print(f\"{df_pheno[pheno_idx].columns[-1]}, test+score: {test_score}, number_of_samples: {len(df_pheno[pheno_idx])}\")\n",
    "print(f\"percentage of positive R^2 scores: {float(positive_test_score) / num_tests * 100}\")"
   ]
  },
  {
   "cell_type": "markdown",
   "metadata": {},
   "source": [
    "Testing the model with only selected features. We see that it performs much better."
   ]
  },
  {
   "cell_type": "code",
   "execution_count": 299,
   "metadata": {
    "scrolled": true
   },
   "outputs": [
    {
     "name": "stdout",
     "output_type": "stream",
     "text": [
      "Malaria susceptibility, murine Plasmodium yoelli 17X-lethal (PY17X-L) [0=100% resistant, 1= 100% susceptible], test+score: 0.8635629605489125, number_of_samples: 57\n",
      "Malaria susceptibility, murine Plasmodium yoelli 17X-lethal (PY17X-L) [0=100% resistant, 1= 100% susceptible], test+score: 0.9249034383321897, number_of_samples: 57\n",
      "Malaria susceptibility, murine Plasmodium yoelli 17X-lethal (PY17X-L) [0=100% resistant, 1= 100% susceptible], test+score: 0.8887131085288775, number_of_samples: 57\n",
      "Malaria susceptibility, murine Plasmodium yoelli 17X-lethal (PY17X-L) [0=100% resistant, 1= 100% susceptible], test+score: 0.9027780243134857, number_of_samples: 57\n",
      "Malaria susceptibility, murine Plasmodium yoelli 17X-lethal (PY17X-L) [0=100% resistant, 1= 100% susceptible], test+score: 0.9239017237052148, number_of_samples: 57\n",
      "Malaria susceptibility, murine Plasmodium yoelli 17X-lethal (PY17X-L) [0=100% resistant, 1= 100% susceptible], test+score: 0.8372590568933691, number_of_samples: 57\n",
      "Malaria susceptibility, murine Plasmodium yoelli 17X-lethal (PY17X-L) [0=100% resistant, 1= 100% susceptible], test+score: 0.9057086571224121, number_of_samples: 57\n",
      "Malaria susceptibility, murine Plasmodium yoelli 17X-lethal (PY17X-L) [0=100% resistant, 1= 100% susceptible], test+score: 0.7204552994939352, number_of_samples: 57\n",
      "Malaria susceptibility, murine Plasmodium yoelli 17X-lethal (PY17X-L) [0=100% resistant, 1= 100% susceptible], test+score: 0.9202664499129622, number_of_samples: 57\n",
      "Malaria susceptibility, murine Plasmodium yoelli 17X-lethal (PY17X-L) [0=100% resistant, 1= 100% susceptible], test+score: 0.8869016449020455, number_of_samples: 57\n",
      "Malaria susceptibility, murine Plasmodium yoelli 17X-lethal (PY17X-L) [0=100% resistant, 1= 100% susceptible], test+score: 0.9356098881862264, number_of_samples: 57\n",
      "Malaria susceptibility, murine Plasmodium yoelli 17X-lethal (PY17X-L) [0=100% resistant, 1= 100% susceptible], test+score: 0.8171807266479203, number_of_samples: 57\n",
      "Malaria susceptibility, murine Plasmodium yoelli 17X-lethal (PY17X-L) [0=100% resistant, 1= 100% susceptible], test+score: 0.8066763299381603, number_of_samples: 57\n",
      "Malaria susceptibility, murine Plasmodium yoelli 17X-lethal (PY17X-L) [0=100% resistant, 1= 100% susceptible], test+score: 0.8445415226939517, number_of_samples: 57\n",
      "Malaria susceptibility, murine Plasmodium yoelli 17X-lethal (PY17X-L) [0=100% resistant, 1= 100% susceptible], test+score: 0.8699857423999615, number_of_samples: 57\n",
      "Malaria susceptibility, murine Plasmodium yoelli 17X-lethal (PY17X-L) [0=100% resistant, 1= 100% susceptible], test+score: 0.8906352773790647, number_of_samples: 57\n",
      "Malaria susceptibility, murine Plasmodium yoelli 17X-lethal (PY17X-L) [0=100% resistant, 1= 100% susceptible], test+score: 0.8747035709973426, number_of_samples: 57\n",
      "Malaria susceptibility, murine Plasmodium yoelli 17X-lethal (PY17X-L) [0=100% resistant, 1= 100% susceptible], test+score: 0.9298907890408704, number_of_samples: 57\n",
      "Malaria susceptibility, murine Plasmodium yoelli 17X-lethal (PY17X-L) [0=100% resistant, 1= 100% susceptible], test+score: 0.8775104668016974, number_of_samples: 57\n",
      "Malaria susceptibility, murine Plasmodium yoelli 17X-lethal (PY17X-L) [0=100% resistant, 1= 100% susceptible], test+score: 0.8685833001325375, number_of_samples: 57\n",
      "percentage of positive R^2 scores: 100.0\n"
     ]
    }
   ],
   "source": [
    "positive_test_score = 0\n",
    "num_tests = 20\n",
    "for random_state in range(num_tests):\n",
    "    for pheno_idx in malaria_susceptibility_idx:    \n",
    "        X_train, X_test, y_train, y_test = train_test_split(\n",
    "            df_pheno[pheno_idx].iloc[:, :-1].fillna(0), df_pheno[pheno_idx].iloc[:, -1].fillna(0), test_size=0.3, random_state=random_state)\n",
    "\n",
    "        clf = RidgeCV(store_cv_values=True, alphas=[1e-99, 1e-5, 1e-4, 1e-3, 1e-2, 1e-1, 1, 1e2, 1e3, 1e4, 1e5, 1e6, 1e7, 1e8, 1e9, 1e10, 1e11, 1e12]).fit(X_train.iloc[:, indices_both], y_train)\n",
    "        if (clf.alpha_ == 1e12 or clf.alpha_ == 1e-5):\n",
    "            print(clf.alpha_)\n",
    "            print(\"Might need to update alpha\")\n",
    "        test_score = clf.score(X_test.iloc[:, indices_both], y_test)\n",
    "        if test_score > 0:\n",
    "            positive_test_score += 1\n",
    "        print(f\"{df_pheno[pheno_idx].columns[-1]}, test+score: {test_score}, number_of_samples: {len(df_pheno[pheno_idx])}\")\n",
    "print(f\"percentage of positive R^2 scores: {float(positive_test_score) / num_tests * 100}\")"
   ]
  },
  {
   "cell_type": "code",
   "execution_count": 308,
   "metadata": {},
   "outputs": [],
   "source": [
    "X_train, y_train = df_malaria.iloc[:, :-1].fillna(0), df_malaria.iloc[:, -1].fillna(0)"
   ]
  },
  {
   "cell_type": "code",
   "execution_count": 312,
   "metadata": {},
   "outputs": [
    {
     "data": {
      "text/plain": [
       "RidgeCV(alphas=array([1.e-99, 1.e-05, 1.e-04, 1.e-03, 1.e-02, 1.e-01, 1.e+00, 1.e+02,\n",
       "       1.e+03, 1.e+04, 1.e+05, 1.e+06, 1.e+07, 1.e+08, 1.e+09, 1.e+10,\n",
       "       1.e+11, 1.e+12]),\n",
       "        cv=None, fit_intercept=True, gcv_mode=None, normalize=False,\n",
       "        scoring=None, store_cv_values=True)"
      ]
     },
     "execution_count": 312,
     "metadata": {},
     "output_type": "execute_result"
    }
   ],
   "source": [
    "clf.fit(X_train.iloc[:, indices_both], y_train)"
   ]
  },
  {
   "cell_type": "code",
   "execution_count": 336,
   "metadata": {},
   "outputs": [
    {
     "data": {
      "text/plain": [
       "Text(0.5, 0, 'malaria susceptibility %')"
      ]
     },
     "execution_count": 336,
     "metadata": {},
     "output_type": "execute_result"
    },
    {
     "data": {
      "image/png": "[encoded data removed]",
      "text/plain": [
       "<Figure size 432x288 with 1 Axes>"
      ]
     },
     "metadata": {
      "needs_background": "light"
     },
     "output_type": "display_data"
    }
   ],
   "source": [
    "# error distribution by mice susceptibility\n",
    "plt.scatter(x=y_train, y=clf.cv_values_[:,0])\n",
    "plt.title(\"Classification error as a function of susceptibility\")\n",
    "plt.ylabel(\"classification error %\")\n",
    "plt.xlabel(\"malaria susceptibility %\")"
   ]
  },
  {
   "cell_type": "markdown",
   "metadata": {},
   "source": [
    "Clearly this model is very accurate on the data"
   ]
  }
 ],
 "metadata": {
  "kernelspec": {
   "display_name": "Python 3",
   "language": "python",
   "name": "python3"
  },
  "language_info": {
   "codemirror_mode": {
    "name": "ipython",
    "version": 3
   },
   "file_extension": ".py",
   "mimetype": "text/x-python",
   "name": "python",
   "nbconvert_exporter": "python",
   "pygments_lexer": "ipython3",
   "version": "3.7.5"
  }
 },
 "nbformat": 4,
 "nbformat_minor": 4
}
