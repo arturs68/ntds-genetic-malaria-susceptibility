{
 "cells": [
  {
   "cell_type": "code",
   "execution_count": 1,
   "metadata": {},
   "outputs": [],
   "source": [
    "import pandas as pd\n",
    "import glob\n",
    "import matplotlib.pyplot as plt\n",
    "import numpy as np"
   ]
  },
  {
   "cell_type": "code",
   "execution_count": 2,
   "metadata": {},
   "outputs": [],
   "source": [
    "def load_df(path, encoding=\"utf-8\"):\n",
    "    loaded_pd = pd.read_csv(path, sep=\"\\t\", encoding=encoding)\n",
    "    pd_name = path.split(\"/\")[-1].split(\".\")[0]\n",
    "    return pd_name, loaded_pd"
   ]
  },
  {
   "cell_type": "code",
   "execution_count": 3,
   "metadata": {},
   "outputs": [],
   "source": [
    "paths_expression = glob.glob(\"data/expression data/*.txt\")"
   ]
  },
  {
   "cell_type": "code",
   "execution_count": 4,
   "metadata": {},
   "outputs": [],
   "source": [
    "expression_data = []\n",
    "for path in paths_expression:\n",
    "    expression_data.append(load_df(path))"
   ]
  },
  {
   "cell_type": "code",
   "execution_count": 5,
   "metadata": {},
   "outputs": [],
   "source": [
    "paths_other = glob.glob(\"data/*.txt\")\n",
    "aligner_path = \"data/phenotypes_id_aligner.txt\"\n",
    "other_data = []\n",
    "for path in paths_other:\n",
    "    if path == aligner_path:\n",
    "        other_data.append(load_df(path, encoding=\"latin\"))\n",
    "    else:\n",
    "        other_data.append(load_df(path))"
   ]
  },
  {
   "cell_type": "markdown",
   "metadata": {},
   "source": [
    "## We have loaded the dataframes to lists\n",
    "\n",
    "Each list contains tuples (name, dataframe)\n",
    "- expression_data: tables with gene expressions\n",
    "- other_data: all the remaining tables"
   ]
  },
  {
   "cell_type": "code",
   "execution_count": 6,
   "metadata": {},
   "outputs": [
    {
     "name": "stdout",
     "output_type": "stream",
     "text": [
      "97\n"
     ]
    }
   ],
   "source": [
    "# Compute the total set of mice strains present in the expressions dataframes\n",
    "mice_set = set()\n",
    "\n",
    "for i in range(len(expression_data)):\n",
    "    df = expression_data[i][1].set_index('gene')\n",
    "    mice_set.update(list(df.columns))\n",
    "\n",
    "# Compute the total list of mice strains sorted alphabetically\n",
    "mice_list = sorted(list(mice_set))\n",
    "print(len(mice_list))"
   ]
  },
  {
   "cell_type": "code",
   "execution_count": 7,
   "metadata": {},
   "outputs": [],
   "source": [
    "# Create a list of dataframes that always contain all mice (with NaN values if the mice are not originally present)\n",
    "df_list = []\n",
    "\n",
    "for i in range(len(expression_data)):\n",
    "    df = expression_data[i][1].set_index('gene')\n",
    "    # standardize to fight the issue of different means and deviations - to make all of the values comparable\n",
    "    df = df.sub(df.mean(1), axis=0).div(df.std(1), axis=0)\n",
    "    missing_mice = mice_set - set(df.columns)\n",
    "    for mouse in missing_mice:\n",
    "        df[mouse] = np.NaN\n",
    "        \n",
    "    # Order the columns alphabetically\n",
    "    df = df[mice_list]\n",
    "    df.reset_index(inplace=True)\n",
    "    df[\"gene\"] = df[\"gene\"].apply(lambda name: name + \"_\" + expression_data[i][0])\n",
    "    df.rename(columns={\"gene\": \"strain\"}, inplace=True)\n",
    "    df.set_index(\"strain\", inplace=True)\n",
    "    df_list.append(df.transpose())"
   ]
  },
  {
   "cell_type": "code",
   "execution_count": 8,
   "metadata": {},
   "outputs": [],
   "source": [
    "base_df = df_list[0]\n",
    "for other_df in df_list[1:]:\n",
    "    base_df = base_df.join(other_df)"
   ]
  },
  {
   "cell_type": "markdown",
   "metadata": {},
   "source": [
    "We note that all in all the tissues apart from [9, 14, 16, 17, 22, 26, 27, 30, 31, 32, 34, 35, 37, 38, 39] the values follow normal distribution. To make all of them comparable we standardize them by (SNP, tissue)"
   ]
  },
  {
   "cell_type": "code",
   "execution_count": 10,
   "metadata": {},
   "outputs": [],
   "source": [
    "gene_tissue_num = len(base_df.columns)"
   ]
  },
  {
   "cell_type": "code",
   "execution_count": 11,
   "metadata": {},
   "outputs": [],
   "source": [
    "# we remove the mice for which we have no expression data whatsoever\n",
    "base_df.drop(base_df[base_df.isnull().sum(axis=1) == gene_tissue_num].index, inplace=True)"
   ]
  },
  {
   "cell_type": "markdown",
   "metadata": {},
   "source": [
    "We remove the (SNP, tissue) for which we do not have data for at least 4 mice"
   ]
  },
  {
   "cell_type": "code",
   "execution_count": 12,
   "metadata": {},
   "outputs": [],
   "source": [
    "strains_num = len(base_df)"
   ]
  },
  {
   "cell_type": "code",
   "execution_count": 13,
   "metadata": {},
   "outputs": [],
   "source": [
    "columns_to_drop = base_df.columns[base_df.isnull().sum(axis=0) > strains_num - 4]"
   ]
  },
  {
   "cell_type": "code",
   "execution_count": 14,
   "metadata": {},
   "outputs": [],
   "source": [
    "base_df.drop(columns_to_drop, axis=1, inplace=True)"
   ]
  },
  {
   "cell_type": "code",
   "execution_count": 16,
   "metadata": {},
   "outputs": [],
   "source": [
    "base_df.to_pickle(\"processed_data/expression_standardized_cleaned.pkl\")"
   ]
  },
  {
   "cell_type": "code",
   "execution_count": 17,
   "metadata": {},
   "outputs": [],
   "source": [
    "phenotype_present = pd.read_pickle(\"processed_data/pheno_joined_present.pkl\")"
   ]
  },
  {
   "cell_type": "code",
   "execution_count": 25,
   "metadata": {},
   "outputs": [],
   "source": [
    "strains_with_pheno = phenotype_present.columns[:-2]"
   ]
  },
  {
   "cell_type": "code",
   "execution_count": 32,
   "metadata": {},
   "outputs": [
    {
     "data": {
      "text/html": [
       "<div>\n",
       "<style scoped>\n",
       "    .dataframe tbody tr th:only-of-type {\n",
       "        vertical-align: middle;\n",
       "    }\n",
       "\n",
       "    .dataframe tbody tr th {\n",
       "        vertical-align: top;\n",
       "    }\n",
       "\n",
       "    .dataframe thead th {\n",
       "        text-align: right;\n",
       "    }\n",
       "</style>\n",
       "<table border=\"1\" class=\"dataframe\">\n",
       "  <thead>\n",
       "    <tr style=\"text-align: right;\">\n",
       "      <th>strain</th>\n",
       "      <th>Nmt1_10338077_Muscle_CD</th>\n",
       "      <th>Psmb5_10338095_Muscle_CD</th>\n",
       "      <th>Hdac5_10338098_Muscle_CD</th>\n",
       "      <th>Dlg1_10338109_Muscle_CD</th>\n",
       "      <th>Wars_10338116_Muscle_CD</th>\n",
       "      <th>Psph_10338122_Muscle_CD</th>\n",
       "      <th>Copa_10338123_Muscle_CD</th>\n",
       "      <th>Tbl3_10338144_Muscle_CD</th>\n",
       "      <th>Hb1bp3_10338180_Muscle_CD</th>\n",
       "      <th>Aup1_10338221_Muscle_CD</th>\n",
       "      <th>...</th>\n",
       "      <th>AFFX-r2-P1-cre-3_AFFX-r2-P1-cre-5_at_Eye</th>\n",
       "      <th>AFFX-ThrX-3_AFFX-ThrX-3_at_Eye</th>\n",
       "      <th>AFFX-ThrX-5_AFFX-ThrX-5_at_Eye</th>\n",
       "      <th>AFFX-ThrX-M_AFFX-ThrX-M_at_Eye</th>\n",
       "      <th>Tfrc_AFFX-TransRecMur-X57349_3_at_Eye</th>\n",
       "      <th>Tfrc_AFFX-TransRecMur-X57349_5_at_Eye</th>\n",
       "      <th>Tfrc_AFFX-TransRecMur-X57349_M_at_Eye</th>\n",
       "      <th>AFFX-TrpnX-3_AFFX-TrpnX-3_at_Eye</th>\n",
       "      <th>AFFX-TrpnX-5_AFFX-TrpnX-5_at_Eye</th>\n",
       "      <th>AFFX-TrpnX-M_AFFX-TrpnX-M_at_Eye</th>\n",
       "    </tr>\n",
       "  </thead>\n",
       "  <tbody>\n",
       "    <tr>\n",
       "      <th>B6D2F1</th>\n",
       "      <td>NaN</td>\n",
       "      <td>NaN</td>\n",
       "      <td>NaN</td>\n",
       "      <td>NaN</td>\n",
       "      <td>NaN</td>\n",
       "      <td>NaN</td>\n",
       "      <td>NaN</td>\n",
       "      <td>NaN</td>\n",
       "      <td>NaN</td>\n",
       "      <td>NaN</td>\n",
       "      <td>...</td>\n",
       "      <td>1.945871</td>\n",
       "      <td>-0.383660</td>\n",
       "      <td>-1.764515</td>\n",
       "      <td>-1.513057</td>\n",
       "      <td>0.618771</td>\n",
       "      <td>1.036264</td>\n",
       "      <td>1.008312</td>\n",
       "      <td>-0.810138</td>\n",
       "      <td>-0.336536</td>\n",
       "      <td>-0.813993</td>\n",
       "    </tr>\n",
       "    <tr>\n",
       "      <th>BXD1</th>\n",
       "      <td>NaN</td>\n",
       "      <td>NaN</td>\n",
       "      <td>NaN</td>\n",
       "      <td>NaN</td>\n",
       "      <td>NaN</td>\n",
       "      <td>NaN</td>\n",
       "      <td>NaN</td>\n",
       "      <td>NaN</td>\n",
       "      <td>NaN</td>\n",
       "      <td>NaN</td>\n",
       "      <td>...</td>\n",
       "      <td>0.414755</td>\n",
       "      <td>0.599324</td>\n",
       "      <td>0.185117</td>\n",
       "      <td>1.277075</td>\n",
       "      <td>-0.501507</td>\n",
       "      <td>-0.566462</td>\n",
       "      <td>-0.427261</td>\n",
       "      <td>-0.273595</td>\n",
       "      <td>-2.101328</td>\n",
       "      <td>1.004035</td>\n",
       "    </tr>\n",
       "    <tr>\n",
       "      <th>BXD100</th>\n",
       "      <td>-0.725161</td>\n",
       "      <td>0.007720</td>\n",
       "      <td>0.376058</td>\n",
       "      <td>0.545516</td>\n",
       "      <td>-1.104466</td>\n",
       "      <td>-0.273818</td>\n",
       "      <td>-0.901318</td>\n",
       "      <td>-0.509151</td>\n",
       "      <td>-0.924874</td>\n",
       "      <td>0.986363</td>\n",
       "      <td>...</td>\n",
       "      <td>NaN</td>\n",
       "      <td>NaN</td>\n",
       "      <td>NaN</td>\n",
       "      <td>NaN</td>\n",
       "      <td>NaN</td>\n",
       "      <td>NaN</td>\n",
       "      <td>NaN</td>\n",
       "      <td>NaN</td>\n",
       "      <td>NaN</td>\n",
       "      <td>NaN</td>\n",
       "    </tr>\n",
       "    <tr>\n",
       "      <th>BXD101</th>\n",
       "      <td>-1.317918</td>\n",
       "      <td>1.462562</td>\n",
       "      <td>0.845329</td>\n",
       "      <td>0.515211</td>\n",
       "      <td>-1.058281</td>\n",
       "      <td>-0.056781</td>\n",
       "      <td>-0.942842</td>\n",
       "      <td>-0.953912</td>\n",
       "      <td>0.496976</td>\n",
       "      <td>0.299762</td>\n",
       "      <td>...</td>\n",
       "      <td>NaN</td>\n",
       "      <td>NaN</td>\n",
       "      <td>NaN</td>\n",
       "      <td>NaN</td>\n",
       "      <td>NaN</td>\n",
       "      <td>NaN</td>\n",
       "      <td>NaN</td>\n",
       "      <td>NaN</td>\n",
       "      <td>NaN</td>\n",
       "      <td>NaN</td>\n",
       "    </tr>\n",
       "    <tr>\n",
       "      <th>BXD102</th>\n",
       "      <td>NaN</td>\n",
       "      <td>NaN</td>\n",
       "      <td>NaN</td>\n",
       "      <td>NaN</td>\n",
       "      <td>NaN</td>\n",
       "      <td>NaN</td>\n",
       "      <td>NaN</td>\n",
       "      <td>NaN</td>\n",
       "      <td>NaN</td>\n",
       "      <td>NaN</td>\n",
       "      <td>...</td>\n",
       "      <td>NaN</td>\n",
       "      <td>NaN</td>\n",
       "      <td>NaN</td>\n",
       "      <td>NaN</td>\n",
       "      <td>NaN</td>\n",
       "      <td>NaN</td>\n",
       "      <td>NaN</td>\n",
       "      <td>NaN</td>\n",
       "      <td>NaN</td>\n",
       "      <td>NaN</td>\n",
       "    </tr>\n",
       "    <tr>\n",
       "      <th>...</th>\n",
       "      <td>...</td>\n",
       "      <td>...</td>\n",
       "      <td>...</td>\n",
       "      <td>...</td>\n",
       "      <td>...</td>\n",
       "      <td>...</td>\n",
       "      <td>...</td>\n",
       "      <td>...</td>\n",
       "      <td>...</td>\n",
       "      <td>...</td>\n",
       "      <td>...</td>\n",
       "      <td>...</td>\n",
       "      <td>...</td>\n",
       "      <td>...</td>\n",
       "      <td>...</td>\n",
       "      <td>...</td>\n",
       "      <td>...</td>\n",
       "      <td>...</td>\n",
       "      <td>...</td>\n",
       "      <td>...</td>\n",
       "      <td>...</td>\n",
       "    </tr>\n",
       "    <tr>\n",
       "      <th>BXD98</th>\n",
       "      <td>2.220295</td>\n",
       "      <td>-1.073020</td>\n",
       "      <td>0.193564</td>\n",
       "      <td>0.252363</td>\n",
       "      <td>1.052343</td>\n",
       "      <td>-1.433933</td>\n",
       "      <td>-0.207268</td>\n",
       "      <td>1.668022</td>\n",
       "      <td>0.450924</td>\n",
       "      <td>-0.547979</td>\n",
       "      <td>...</td>\n",
       "      <td>-0.644823</td>\n",
       "      <td>-0.666892</td>\n",
       "      <td>0.167393</td>\n",
       "      <td>-0.138813</td>\n",
       "      <td>-0.566410</td>\n",
       "      <td>-0.740733</td>\n",
       "      <td>-0.645876</td>\n",
       "      <td>-0.672170</td>\n",
       "      <td>-1.854257</td>\n",
       "      <td>0.509659</td>\n",
       "    </tr>\n",
       "    <tr>\n",
       "      <th>BXD99</th>\n",
       "      <td>-1.305697</td>\n",
       "      <td>0.207241</td>\n",
       "      <td>1.453644</td>\n",
       "      <td>0.255455</td>\n",
       "      <td>-0.748846</td>\n",
       "      <td>0.607248</td>\n",
       "      <td>-0.625478</td>\n",
       "      <td>1.101311</td>\n",
       "      <td>-1.224210</td>\n",
       "      <td>-0.611035</td>\n",
       "      <td>...</td>\n",
       "      <td>-0.056785</td>\n",
       "      <td>0.899217</td>\n",
       "      <td>-0.612460</td>\n",
       "      <td>-0.721825</td>\n",
       "      <td>-0.826021</td>\n",
       "      <td>-0.757874</td>\n",
       "      <td>0.082841</td>\n",
       "      <td>-0.610851</td>\n",
       "      <td>1.463552</td>\n",
       "      <td>1.673835</td>\n",
       "    </tr>\n",
       "    <tr>\n",
       "      <th>C57BL.6J</th>\n",
       "      <td>-1.929009</td>\n",
       "      <td>-0.557591</td>\n",
       "      <td>-0.353919</td>\n",
       "      <td>-0.014195</td>\n",
       "      <td>0.050143</td>\n",
       "      <td>-1.273739</td>\n",
       "      <td>-0.064899</td>\n",
       "      <td>-0.132540</td>\n",
       "      <td>-0.677345</td>\n",
       "      <td>2.506693</td>\n",
       "      <td>...</td>\n",
       "      <td>1.535355</td>\n",
       "      <td>-0.017124</td>\n",
       "      <td>-1.285969</td>\n",
       "      <td>-2.491685</td>\n",
       "      <td>0.734467</td>\n",
       "      <td>0.979126</td>\n",
       "      <td>0.822489</td>\n",
       "      <td>-1.086075</td>\n",
       "      <td>-0.830678</td>\n",
       "      <td>-0.112298</td>\n",
       "    </tr>\n",
       "    <tr>\n",
       "      <th>D2B6F1</th>\n",
       "      <td>NaN</td>\n",
       "      <td>NaN</td>\n",
       "      <td>NaN</td>\n",
       "      <td>NaN</td>\n",
       "      <td>NaN</td>\n",
       "      <td>NaN</td>\n",
       "      <td>NaN</td>\n",
       "      <td>NaN</td>\n",
       "      <td>NaN</td>\n",
       "      <td>NaN</td>\n",
       "      <td>...</td>\n",
       "      <td>1.563092</td>\n",
       "      <td>2.631934</td>\n",
       "      <td>0.185117</td>\n",
       "      <td>-2.366754</td>\n",
       "      <td>0.130589</td>\n",
       "      <td>0.744860</td>\n",
       "      <td>0.724112</td>\n",
       "      <td>-0.518872</td>\n",
       "      <td>0.192902</td>\n",
       "      <td>-1.196735</td>\n",
       "    </tr>\n",
       "    <tr>\n",
       "      <th>DBA.2J</th>\n",
       "      <td>-0.156847</td>\n",
       "      <td>1.263041</td>\n",
       "      <td>1.831667</td>\n",
       "      <td>-0.289412</td>\n",
       "      <td>-0.166923</td>\n",
       "      <td>1.565828</td>\n",
       "      <td>-0.293283</td>\n",
       "      <td>-0.857069</td>\n",
       "      <td>-1.396905</td>\n",
       "      <td>0.467909</td>\n",
       "      <td>...</td>\n",
       "      <td>1.024982</td>\n",
       "      <td>0.466038</td>\n",
       "      <td>0.362356</td>\n",
       "      <td>-1.304838</td>\n",
       "      <td>-0.343483</td>\n",
       "      <td>-0.297912</td>\n",
       "      <td>0.039118</td>\n",
       "      <td>-0.334914</td>\n",
       "      <td>-0.495367</td>\n",
       "      <td>-0.510988</td>\n",
       "    </tr>\n",
       "  </tbody>\n",
       "</table>\n",
       "<p>86 rows × 1201231 columns</p>\n",
       "</div>"
      ],
      "text/plain": [
       "strain    Nmt1_10338077_Muscle_CD  Psmb5_10338095_Muscle_CD  \\\n",
       "B6D2F1                        NaN                       NaN   \n",
       "BXD1                          NaN                       NaN   \n",
       "BXD100                  -0.725161                  0.007720   \n",
       "BXD101                  -1.317918                  1.462562   \n",
       "BXD102                        NaN                       NaN   \n",
       "...                           ...                       ...   \n",
       "BXD98                    2.220295                 -1.073020   \n",
       "BXD99                   -1.305697                  0.207241   \n",
       "C57BL.6J                -1.929009                 -0.557591   \n",
       "D2B6F1                        NaN                       NaN   \n",
       "DBA.2J                  -0.156847                  1.263041   \n",
       "\n",
       "strain    Hdac5_10338098_Muscle_CD  Dlg1_10338109_Muscle_CD  \\\n",
       "B6D2F1                         NaN                      NaN   \n",
       "BXD1                           NaN                      NaN   \n",
       "BXD100                    0.376058                 0.545516   \n",
       "BXD101                    0.845329                 0.515211   \n",
       "BXD102                         NaN                      NaN   \n",
       "...                            ...                      ...   \n",
       "BXD98                     0.193564                 0.252363   \n",
       "BXD99                     1.453644                 0.255455   \n",
       "C57BL.6J                 -0.353919                -0.014195   \n",
       "D2B6F1                         NaN                      NaN   \n",
       "DBA.2J                    1.831667                -0.289412   \n",
       "\n",
       "strain    Wars_10338116_Muscle_CD  Psph_10338122_Muscle_CD  \\\n",
       "B6D2F1                        NaN                      NaN   \n",
       "BXD1                          NaN                      NaN   \n",
       "BXD100                  -1.104466                -0.273818   \n",
       "BXD101                  -1.058281                -0.056781   \n",
       "BXD102                        NaN                      NaN   \n",
       "...                           ...                      ...   \n",
       "BXD98                    1.052343                -1.433933   \n",
       "BXD99                   -0.748846                 0.607248   \n",
       "C57BL.6J                 0.050143                -1.273739   \n",
       "D2B6F1                        NaN                      NaN   \n",
       "DBA.2J                  -0.166923                 1.565828   \n",
       "\n",
       "strain    Copa_10338123_Muscle_CD  Tbl3_10338144_Muscle_CD  \\\n",
       "B6D2F1                        NaN                      NaN   \n",
       "BXD1                          NaN                      NaN   \n",
       "BXD100                  -0.901318                -0.509151   \n",
       "BXD101                  -0.942842                -0.953912   \n",
       "BXD102                        NaN                      NaN   \n",
       "...                           ...                      ...   \n",
       "BXD98                   -0.207268                 1.668022   \n",
       "BXD99                   -0.625478                 1.101311   \n",
       "C57BL.6J                -0.064899                -0.132540   \n",
       "D2B6F1                        NaN                      NaN   \n",
       "DBA.2J                  -0.293283                -0.857069   \n",
       "\n",
       "strain    Hb1bp3_10338180_Muscle_CD  Aup1_10338221_Muscle_CD  ...  \\\n",
       "B6D2F1                          NaN                      NaN  ...   \n",
       "BXD1                            NaN                      NaN  ...   \n",
       "BXD100                    -0.924874                 0.986363  ...   \n",
       "BXD101                     0.496976                 0.299762  ...   \n",
       "BXD102                          NaN                      NaN  ...   \n",
       "...                             ...                      ...  ...   \n",
       "BXD98                      0.450924                -0.547979  ...   \n",
       "BXD99                     -1.224210                -0.611035  ...   \n",
       "C57BL.6J                  -0.677345                 2.506693  ...   \n",
       "D2B6F1                          NaN                      NaN  ...   \n",
       "DBA.2J                    -1.396905                 0.467909  ...   \n",
       "\n",
       "strain    AFFX-r2-P1-cre-3_AFFX-r2-P1-cre-5_at_Eye  \\\n",
       "B6D2F1                                    1.945871   \n",
       "BXD1                                      0.414755   \n",
       "BXD100                                         NaN   \n",
       "BXD101                                         NaN   \n",
       "BXD102                                         NaN   \n",
       "...                                            ...   \n",
       "BXD98                                    -0.644823   \n",
       "BXD99                                    -0.056785   \n",
       "C57BL.6J                                  1.535355   \n",
       "D2B6F1                                    1.563092   \n",
       "DBA.2J                                    1.024982   \n",
       "\n",
       "strain    AFFX-ThrX-3_AFFX-ThrX-3_at_Eye  AFFX-ThrX-5_AFFX-ThrX-5_at_Eye  \\\n",
       "B6D2F1                         -0.383660                       -1.764515   \n",
       "BXD1                            0.599324                        0.185117   \n",
       "BXD100                               NaN                             NaN   \n",
       "BXD101                               NaN                             NaN   \n",
       "BXD102                               NaN                             NaN   \n",
       "...                                  ...                             ...   \n",
       "BXD98                          -0.666892                        0.167393   \n",
       "BXD99                           0.899217                       -0.612460   \n",
       "C57BL.6J                       -0.017124                       -1.285969   \n",
       "D2B6F1                          2.631934                        0.185117   \n",
       "DBA.2J                          0.466038                        0.362356   \n",
       "\n",
       "strain    AFFX-ThrX-M_AFFX-ThrX-M_at_Eye  \\\n",
       "B6D2F1                         -1.513057   \n",
       "BXD1                            1.277075   \n",
       "BXD100                               NaN   \n",
       "BXD101                               NaN   \n",
       "BXD102                               NaN   \n",
       "...                                  ...   \n",
       "BXD98                          -0.138813   \n",
       "BXD99                          -0.721825   \n",
       "C57BL.6J                       -2.491685   \n",
       "D2B6F1                         -2.366754   \n",
       "DBA.2J                         -1.304838   \n",
       "\n",
       "strain    Tfrc_AFFX-TransRecMur-X57349_3_at_Eye  \\\n",
       "B6D2F1                                 0.618771   \n",
       "BXD1                                  -0.501507   \n",
       "BXD100                                      NaN   \n",
       "BXD101                                      NaN   \n",
       "BXD102                                      NaN   \n",
       "...                                         ...   \n",
       "BXD98                                 -0.566410   \n",
       "BXD99                                 -0.826021   \n",
       "C57BL.6J                               0.734467   \n",
       "D2B6F1                                 0.130589   \n",
       "DBA.2J                                -0.343483   \n",
       "\n",
       "strain    Tfrc_AFFX-TransRecMur-X57349_5_at_Eye  \\\n",
       "B6D2F1                                 1.036264   \n",
       "BXD1                                  -0.566462   \n",
       "BXD100                                      NaN   \n",
       "BXD101                                      NaN   \n",
       "BXD102                                      NaN   \n",
       "...                                         ...   \n",
       "BXD98                                 -0.740733   \n",
       "BXD99                                 -0.757874   \n",
       "C57BL.6J                               0.979126   \n",
       "D2B6F1                                 0.744860   \n",
       "DBA.2J                                -0.297912   \n",
       "\n",
       "strain    Tfrc_AFFX-TransRecMur-X57349_M_at_Eye  \\\n",
       "B6D2F1                                 1.008312   \n",
       "BXD1                                  -0.427261   \n",
       "BXD100                                      NaN   \n",
       "BXD101                                      NaN   \n",
       "BXD102                                      NaN   \n",
       "...                                         ...   \n",
       "BXD98                                 -0.645876   \n",
       "BXD99                                  0.082841   \n",
       "C57BL.6J                               0.822489   \n",
       "D2B6F1                                 0.724112   \n",
       "DBA.2J                                 0.039118   \n",
       "\n",
       "strain    AFFX-TrpnX-3_AFFX-TrpnX-3_at_Eye  AFFX-TrpnX-5_AFFX-TrpnX-5_at_Eye  \\\n",
       "B6D2F1                           -0.810138                         -0.336536   \n",
       "BXD1                             -0.273595                         -2.101328   \n",
       "BXD100                                 NaN                               NaN   \n",
       "BXD101                                 NaN                               NaN   \n",
       "BXD102                                 NaN                               NaN   \n",
       "...                                    ...                               ...   \n",
       "BXD98                            -0.672170                         -1.854257   \n",
       "BXD99                            -0.610851                          1.463552   \n",
       "C57BL.6J                         -1.086075                         -0.830678   \n",
       "D2B6F1                           -0.518872                          0.192902   \n",
       "DBA.2J                           -0.334914                         -0.495367   \n",
       "\n",
       "strain    AFFX-TrpnX-M_AFFX-TrpnX-M_at_Eye  \n",
       "B6D2F1                           -0.813993  \n",
       "BXD1                              1.004035  \n",
       "BXD100                                 NaN  \n",
       "BXD101                                 NaN  \n",
       "BXD102                                 NaN  \n",
       "...                                    ...  \n",
       "BXD98                             0.509659  \n",
       "BXD99                             1.673835  \n",
       "C57BL.6J                         -0.112298  \n",
       "D2B6F1                           -1.196735  \n",
       "DBA.2J                           -0.510988  \n",
       "\n",
       "[86 rows x 1201231 columns]"
      ]
     },
     "execution_count": 32,
     "metadata": {},
     "output_type": "execute_result"
    }
   ],
   "source": [
    "base_df = base_df.transpose()\n",
    "base_df.rename(columns={\"strain\": \"SNP\"})"
   ]
  },
  {
   "cell_type": "code",
   "execution_count": 104,
   "metadata": {},
   "outputs": [
    {
     "name": "stdout",
     "output_type": "stream",
     "text": [
      "B6D2F1                                                         0\n",
      "D2B6F1                                                       NaN\n",
      "C57BL.6J                                                       0\n",
      "DBA.2J                                                       100\n",
      "BXD1                                                        66.7\n",
      "                                     ...                        \n",
      "BXD100                                                      11.1\n",
      "BXD101                                                       NaN\n",
      "BXD102                                                       NaN\n",
      "Shown_pheno    H5N1 influenza A virus mortality rate 30 days ...\n",
      "Disease                                                Influenza\n",
      "Name: X657, Length: 99, dtype: object\n"
     ]
    }
   ],
   "source": [
    "strain_with_pheno = []\n",
    "for index, row in phenotype_present.iterrows():\n",
    "    strain_with_pheno.append(row[~row.isnull()].index.tolist()[:-2])"
   ]
  },
  {
   "cell_type": "code",
   "execution_count": 95,
   "metadata": {},
   "outputs": [],
   "source": [
    "# 1. select strain with largest number of SNPs\n",
    "\n",
    "# 2. as testing for all 2^86 subsets of strains that might have common expressions present is computationally infeasible, we employ a simple strategy:\n",
    "# greedily add strains that reduce the number of common SNPs the least\n",
    "\n",
    "# for now, to simplify even more, we just replace the missing values with mean"
   ]
  },
  {
   "cell_type": "code",
   "execution_count": 135,
   "metadata": {},
   "outputs": [],
   "source": [
    "df_pheno = []\n",
    "for index, row in phenotype_present.iterrows():\n",
    "    row = row[~row.isna()]\n",
    "    row_df = pd.DataFrame(row)\n",
    "    column_name = row_df.columns[0]\n",
    "    row_df.rename(columns={column_name: row[\"Shown_pheno\"]}, inplace=True)\n",
    "    df_pheno.append(base_df.join(row_df, how=\"inner\"))"
   ]
  },
  {
   "cell_type": "code",
   "execution_count": 4,
   "metadata": {},
   "outputs": [],
   "source": [
    "from sklearn.linear_model import RidgeCV\n",
    "from sklearn.model_selection import train_test_split"
   ]
  },
  {
   "cell_type": "code",
   "execution_count": 253,
   "metadata": {},
   "outputs": [],
   "source": [
    "pheno_idx_of_interest = [0, 1, 2, 3, -1, -2]\n",
    "malaria_susceptibility_idx = [-1]"
   ]
  },
  {
   "cell_type": "code",
   "execution_count": 264,
   "metadata": {},
   "outputs": [
    {
     "name": "stdout",
     "output_type": "stream",
     "text": [
      "Malaria susceptibility, murine Plasmodium yoelli 17X-lethal (PY17X-L) [0=100% resistant, 1= 100% susceptible], test+score: 0.10180054576042086, number_of_samples: 57\n",
      "Malaria susceptibility, murine Plasmodium yoelli 17X-lethal (PY17X-L) [0=100% resistant, 1= 100% susceptible], test+score: 0.1396917513959589, number_of_samples: 57\n",
      "Malaria susceptibility, murine Plasmodium yoelli 17X-lethal (PY17X-L) [0=100% resistant, 1= 100% susceptible], test+score: 0.12795961323819005, number_of_samples: 57\n",
      "Malaria susceptibility, murine Plasmodium yoelli 17X-lethal (PY17X-L) [0=100% resistant, 1= 100% susceptible], test+score: 0.16958417245691862, number_of_samples: 57\n",
      "Malaria susceptibility, murine Plasmodium yoelli 17X-lethal (PY17X-L) [0=100% resistant, 1= 100% susceptible], test+score: 0.2751187703390874, number_of_samples: 57\n",
      "Malaria susceptibility, murine Plasmodium yoelli 17X-lethal (PY17X-L) [0=100% resistant, 1= 100% susceptible], test+score: -0.07999826243561481, number_of_samples: 57\n",
      "Malaria susceptibility, murine Plasmodium yoelli 17X-lethal (PY17X-L) [0=100% resistant, 1= 100% susceptible], test+score: 0.10983123479278933, number_of_samples: 57\n",
      "Malaria susceptibility, murine Plasmodium yoelli 17X-lethal (PY17X-L) [0=100% resistant, 1= 100% susceptible], test+score: -0.6661262229036173, number_of_samples: 57\n",
      "Malaria susceptibility, murine Plasmodium yoelli 17X-lethal (PY17X-L) [0=100% resistant, 1= 100% susceptible], test+score: 0.28940693563576714, number_of_samples: 57\n",
      "Malaria susceptibility, murine Plasmodium yoelli 17X-lethal (PY17X-L) [0=100% resistant, 1= 100% susceptible], test+score: 0.33853471560732584, number_of_samples: 57\n",
      "Malaria susceptibility, murine Plasmodium yoelli 17X-lethal (PY17X-L) [0=100% resistant, 1= 100% susceptible], test+score: 0.060523444013446115, number_of_samples: 57\n",
      "Malaria susceptibility, murine Plasmodium yoelli 17X-lethal (PY17X-L) [0=100% resistant, 1= 100% susceptible], test+score: 0.08267666553648466, number_of_samples: 57\n",
      "Malaria susceptibility, murine Plasmodium yoelli 17X-lethal (PY17X-L) [0=100% resistant, 1= 100% susceptible], test+score: 0.15211237455909943, number_of_samples: 57\n",
      "Malaria susceptibility, murine Plasmodium yoelli 17X-lethal (PY17X-L) [0=100% resistant, 1= 100% susceptible], test+score: 0.028149683328053454, number_of_samples: 57\n",
      "Malaria susceptibility, murine Plasmodium yoelli 17X-lethal (PY17X-L) [0=100% resistant, 1= 100% susceptible], test+score: 0.22840675041379477, number_of_samples: 57\n",
      "Malaria susceptibility, murine Plasmodium yoelli 17X-lethal (PY17X-L) [0=100% resistant, 1= 100% susceptible], test+score: 0.12033675111616504, number_of_samples: 57\n",
      "Malaria susceptibility, murine Plasmodium yoelli 17X-lethal (PY17X-L) [0=100% resistant, 1= 100% susceptible], test+score: 0.17613206246358437, number_of_samples: 57\n",
      "Malaria susceptibility, murine Plasmodium yoelli 17X-lethal (PY17X-L) [0=100% resistant, 1= 100% susceptible], test+score: 0.2844422502347932, number_of_samples: 57\n",
      "Malaria susceptibility, murine Plasmodium yoelli 17X-lethal (PY17X-L) [0=100% resistant, 1= 100% susceptible], test+score: 0.12909981194415088, number_of_samples: 57\n",
      "Malaria susceptibility, murine Plasmodium yoelli 17X-lethal (PY17X-L) [0=100% resistant, 1= 100% susceptible], test+score: -0.018214846717530264, number_of_samples: 57\n",
      "85.0\n"
     ]
    }
   ],
   "source": [
    "import random\n",
    "positive_test_score = 0\n",
    "num_tests = 20\n",
    "for random_state in range(num_tests):\n",
    "    for pheno_idx in malaria_susceptibility_idx:    \n",
    "        X_train, X_test, y_train, y_test = train_test_split(\n",
    "            df_pheno[pheno_idx].iloc[:, :-1].fillna(0), df_pheno[pheno_idx].iloc[:, -1].fillna(0), test_size=0.3, random_state=random_state)\n",
    "\n",
    "        clf = RidgeCV(alphas=[1e-99, 1e-5, 1e-4, 1e-3, 1e-2, 1e-1, 1, 1e2, 1e3, 1e4, 1e5, 1e6, 1e7, 1e8, 1e9, 1e10, 1e11, 1e12]).fit(X_train, y_train)\n",
    "        if (clf.alpha_ == 1e12 or clf.alpha_ == 1e-5):\n",
    "            print(clf.alpha_)\n",
    "            print(\"Might need to update alpha\")\n",
    "        test_score = clf.score(X_test, y_test)\n",
    "        if test_score > 0:\n",
    "            positive_test_score += 1\n",
    "        print(f\"{df_pheno[pheno_idx].columns[-1]}, test+score: {test_score}, number_of_samples: {len(df_pheno[pheno_idx])}\")\n",
    "print(f\"percentage of positive R^2 scores: {float(positive_test_score) / num_tests * 100}\")"
   ]
  },
  {
   "cell_type": "markdown",
   "metadata": {},
   "source": [
    "We conclude that The ridge regression classifier does better than it would by always guessing the expected value, so it is a good baseline and the phenotype appears to be somewhat predictible give the gene expression data."
   ]
  },
  {
   "cell_type": "code",
   "execution_count": 308,
   "metadata": {},
   "outputs": [],
   "source": [
    "# we compare ridge regression with expected value error\n",
    "df_malaria = df_pheno[-1]"
   ]
  },
  {
   "cell_type": "code",
   "execution_count": 317,
   "metadata": {},
   "outputs": [],
   "source": [
    "df_malaria.to_pickle(\"processed_data/malaria_susceptibility.pkl\")"
   ]
  },
  {
   "cell_type": "code",
   "execution_count": 6,
   "metadata": {},
   "outputs": [
    {
     "name": "stdout",
     "output_type": "stream",
     "text": [
      "best alpha: 7033.794794794795\n"
     ]
    }
   ],
   "source": [
    "X_train, y_train = df_malaria.iloc[:, :-1].fillna(0), df_malaria.iloc[:, -1].fillna(0)\n",
    "clf_alpha = RidgeCV(alphas=np.linspace(7000, 7049, 1000), store_cv_values=True).fit(X_train, y_train)\n",
    "print(f\"best alpha: {clf_alpha.alpha_}\")"
   ]
  },
  {
   "cell_type": "code",
   "execution_count": 5,
   "metadata": {},
   "outputs": [
    {
     "ename": "NameError",
     "evalue": "name 'clf_alpha' is not defined",
     "output_type": "error",
     "traceback": [
      "\u001b[0;31m---------------------------------------------------------------------------\u001b[0m",
      "\u001b[0;31mNameError\u001b[0m                                 Traceback (most recent call last)",
      "\u001b[0;32m<ipython-input-5-2bc89757e4f1>\u001b[0m in \u001b[0;36m<module>\u001b[0;34m\u001b[0m\n\u001b[0;32m----> 1\u001b[0;31m \u001b[0mclf\u001b[0m \u001b[0;34m=\u001b[0m \u001b[0mRidgeCV\u001b[0m\u001b[0;34m(\u001b[0m\u001b[0malphas\u001b[0m\u001b[0;34m=\u001b[0m\u001b[0;34m[\u001b[0m\u001b[0mclf_alpha\u001b[0m\u001b[0;34m.\u001b[0m\u001b[0malpha_\u001b[0m\u001b[0;34m]\u001b[0m\u001b[0;34m,\u001b[0m \u001b[0mstore_cv_values\u001b[0m\u001b[0;34m=\u001b[0m\u001b[0;32mTrue\u001b[0m\u001b[0;34m)\u001b[0m\u001b[0;34m.\u001b[0m\u001b[0mfit\u001b[0m\u001b[0;34m(\u001b[0m\u001b[0mX_train\u001b[0m\u001b[0;34m,\u001b[0m \u001b[0my_train\u001b[0m\u001b[0;34m)\u001b[0m\u001b[0;34m\u001b[0m\u001b[0;34m\u001b[0m\u001b[0m\n\u001b[0m\u001b[1;32m      2\u001b[0m \u001b[0;34m\u001b[0m\u001b[0m\n\u001b[1;32m      3\u001b[0m \u001b[0mprint\u001b[0m\u001b[0;34m(\u001b[0m\u001b[0;34mf\"{df_malaria.columns[-1]}, number_of_samples: {len(df_malaria)}\"\u001b[0m\u001b[0;34m)\u001b[0m\u001b[0;34m\u001b[0m\u001b[0;34m\u001b[0m\u001b[0m\n\u001b[1;32m      4\u001b[0m \u001b[0mprint\u001b[0m\u001b[0;34m(\u001b[0m\u001b[0;34mf\"mean error: {clf.cv_values_.mean()}\"\u001b[0m\u001b[0;34m)\u001b[0m\u001b[0;34m\u001b[0m\u001b[0;34m\u001b[0m\u001b[0m\n\u001b[1;32m      5\u001b[0m \u001b[0mprint\u001b[0m\u001b[0;34m(\u001b[0m\u001b[0;34mf\"mean error for completely susceptible mice: {clf.cv_values_[np.where(y_train == 1.0)[0]].mean()}\"\u001b[0m\u001b[0;34m)\u001b[0m\u001b[0;34m\u001b[0m\u001b[0;34m\u001b[0m\u001b[0m\n",
      "\u001b[0;31mNameError\u001b[0m: name 'clf_alpha' is not defined"
     ]
    }
   ],
   "source": [
    "clf = RidgeCV(alphas=[clf_alpha.alpha_], store_cv_values=True).fit(X_train, y_train)\n",
    "\n",
    "print(f\"{df_malaria.columns[-1]}, number_of_samples: {len(df_malaria)}\")\n",
    "print(f\"mean error: {clf.cv_values_.mean()}\")\n",
    "print(f\"mean error for completely susceptible mice: {clf.cv_values_[np.where(y_train == 1.0)[0]].mean()}\")\n",
    "print(f\"mean error for somewhat resistant mice: {clf.cv_values_[np.where(y_train != 1.0)[0]].mean()}\")"
   ]
  },
  {
   "cell_type": "code",
   "execution_count": 315,
   "metadata": {},
   "outputs": [
    {
     "data": {
      "text/plain": [
       "Text(0.5, 0, 'malaria susceptibility %')"
      ]
     },
     "execution_count": 315,
     "metadata": {},
     "output_type": "execute_result"
    },
    {
     "data": {
      "image/png": "[encoded data removed]",
      "text/plain": [
       "<Figure size 432x288 with 1 Axes>"
      ]
     },
     "metadata": {
      "needs_background": "light"
     },
     "output_type": "display_data"
    }
   ],
   "source": [
    "# error distribution by mice susceptibility\n",
    "plt.scatter(x=y_train, y=clf.cv_values_)\n",
    "plt.title(\"Classification error as a function of susceptibility\")\n",
    "plt.ylabel(\"classification error %\")\n",
    "plt.xlabel(\"malaria susceptibility %\")"
   ]
  },
  {
   "cell_type": "markdown",
   "metadata": {},
   "source": [
    "We note that the classifier makes the worst mistakes when predicting susceptibility of the most resistant mice."
   ]
  },
  {
   "cell_type": "code",
   "execution_count": 322,
   "metadata": {},
   "outputs": [
    {
     "data": {
      "text/plain": [
       "(array([9.00000e+00, 2.02000e+02, 4.57100e+03, 8.31610e+04, 5.60186e+05,\n",
       "        4.96384e+05, 5.36320e+04, 2.80700e+03, 2.57000e+02, 2.20000e+01]),\n",
       " array([-2.55293652e-05, -2.03659262e-05, -1.52024872e-05, -1.00390482e-05,\n",
       "        -4.87560913e-06,  2.87829891e-07,  5.45126891e-06,  1.06147079e-05,\n",
       "         1.57781470e-05,  2.09415860e-05,  2.61050250e-05]),\n",
       " <a list of 10 Patch objects>)"
      ]
     },
     "execution_count": 322,
     "metadata": {},
     "output_type": "execute_result"
    },
    {
     "data": {
      "image/png": "[encoded data removed]",
      "text/plain": [
       "<Figure size 432x288 with 1 Axes>"
      ]
     },
     "metadata": {
      "needs_background": "light"
     },
     "output_type": "display_data"
    }
   ],
   "source": [
    "plt.hist(clf.coef_)"
   ]
  },
  {
   "cell_type": "markdown",
   "metadata": {},
   "source": [
    "Most of the weights are very small, meaning most of the expression data is not used. It appears that there are both gene expressions that correlate with susceptibility as those related to resistance: the histogram has negative and positive entries."
   ]
  },
  {
   "cell_type": "markdown",
   "metadata": {},
   "source": [
    "SNPs used by classifier to predict susceptibility:"
   ]
  },
  {
   "cell_type": "code",
   "execution_count": 338,
   "metadata": {},
   "outputs": [
    {
     "data": {
      "text/plain": [
       "Index(['scl00280487.1_157-S_ILM5910112_Bone_Femur',\n",
       "       '1700072I22Rik_ILM100380731_Bone_Femur', 'Cpn1_ILM1940114_Bone_Femur',\n",
       "       'Lonp2_ILM5290687_Bone_Femur', 'Serpina1-rat_ILM106590035_Bone_Femur'],\n",
       "      dtype='object')"
      ]
     },
     "execution_count": 338,
     "metadata": {},
     "output_type": "execute_result"
    }
   ],
   "source": [
    "X_train.columns[np.where(clf.coef_ > 0.000023)[0]]"
   ]
  },
  {
   "cell_type": "markdown",
   "metadata": {},
   "source": [
    "SNPs used by classifier to predict resistance:"
   ]
  },
  {
   "cell_type": "code",
   "execution_count": 339,
   "metadata": {},
   "outputs": [
    {
     "data": {
      "text/plain": [
       "Index(['Gpr83_ILM102940402_Bone_Femur', 'Cntnap2_ILM100380601_Bone_Femur',\n",
       "       'Car10_ILM3130463_Bone_Femur', 'Nppc_ILM2320647_Bone_Femur',\n",
       "       '4930571N24Rik_ILM101230041_Bone_Femur'],\n",
       "      dtype='object')"
      ]
     },
     "execution_count": 339,
     "metadata": {},
     "output_type": "execute_result"
    }
   ],
   "source": [
    "X_train.columns[np.where(clf.coef_ < -0.0000215)[0]]"
   ]
  },
  {
   "cell_type": "markdown",
   "metadata": {},
   "source": [
    "It seems that gene expression in bone femur is the strongest indicator"
   ]
  },
  {
   "cell_type": "code",
   "execution_count": null,
   "metadata": {},
   "outputs": [],
   "source": [
    "from scipy.stats import spearmanr\n",
    "spearman_correlation = spearmanr(X_train, y_train)"
   ]
  },
  {
   "cell_type": "code",
   "execution_count": null,
   "metadata": {},
   "outputs": [],
   "source": []
  }
 ],
 "metadata": {
  "kernelspec": {
   "display_name": "Python 3",
   "language": "python",
   "name": "python3"
  },
  "language_info": {
   "codemirror_mode": {
    "name": "ipython",
    "version": 3
   },
   "file_extension": ".py",
   "mimetype": "text/x-python",
   "name": "python",
   "nbconvert_exporter": "python",
   "pygments_lexer": "ipython3",
   "version": "3.7.5"
  }
 },
 "nbformat": 4,
 "nbformat_minor": 4
}
