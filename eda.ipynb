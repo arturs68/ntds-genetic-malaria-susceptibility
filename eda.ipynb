{
 "cells": [
  {
   "cell_type": "code",
   "execution_count": 78,
   "metadata": {},
   "outputs": [],
   "source": [
    "import pandas as pd\n",
    "import glob"
   ]
  },
  {
   "cell_type": "code",
   "execution_count": 79,
   "metadata": {},
   "outputs": [],
   "source": [
    "def load_df(path, encoding=\"utf-8\"):\n",
    "    loaded_pd = pd.read_csv(path, sep=\"\\t\", encoding=encoding)\n",
    "    pd_name = path.split(\"/\")[-1].split(\".\")[0]\n",
    "    return pd_name, loaded_pd"
   ]
  },
  {
   "cell_type": "code",
   "execution_count": 80,
   "metadata": {},
   "outputs": [],
   "source": [
    "paths_expression = glob.glob(\"data/expression data/*.txt\")"
   ]
  },
  {
   "cell_type": "code",
   "execution_count": 81,
   "metadata": {},
   "outputs": [],
   "source": [
    "expression_data = []\n",
    "for path in paths_expression:\n",
    "    expression_data.append(load_df(path))"
   ]
  },
  {
   "cell_type": "code",
   "execution_count": 82,
   "metadata": {},
   "outputs": [],
   "source": [
    "paths_other = glob.glob(\"*.txt\")\n",
    "aligner_path = \"data/phenotypes_id_aligner.txt\"\n",
    "other_data = []\n",
    "for path in paths_other:\n",
    "    if path == aligner_path:\n",
    "        other_data.append(load_df(path, encoding=\"latin\"))\n",
    "    else:\n",
    "        other_data.append(load_df(path))"
   ]
  },
  {
   "cell_type": "markdown",
   "metadata": {},
   "source": [
    "## We have loaded the dataframes to lists\n",
    "\n",
    "Each list contains tuples (name, dataframe)\n",
    "- expression_data: tables with gene expressions\n",
    "- other_data: all the remaining tables"
   ]
  },
  {
   "cell_type": "code",
   "execution_count": null,
   "metadata": {},
   "outputs": [],
   "source": []
  }
 ],
 "metadata": {
  "kernelspec": {
   "display_name": "Python 3",
   "language": "python",
   "name": "python3"
  },
  "language_info": {
   "codemirror_mode": {
    "name": "ipython",
    "version": 3
   },
   "file_extension": ".py",
   "mimetype": "text/x-python",
   "name": "python",
   "nbconvert_exporter": "python",
   "pygments_lexer": "ipython3",
   "version": "3.7.3"
  }
 },
 "nbformat": 4,
 "nbformat_minor": 4
}
