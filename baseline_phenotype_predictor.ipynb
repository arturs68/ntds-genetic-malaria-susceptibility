{
 "cells": [
  {
   "cell_type": "code",
   "execution_count": 1,
   "metadata": {},
   "outputs": [],
   "source": [
    "import pandas as pd\n",
    "import glob\n",
    "import matplotlib.pyplot as plt\n",
    "import numpy as np"
   ]
  },
  {
   "cell_type": "code",
   "execution_count": 2,
   "metadata": {},
   "outputs": [],
   "source": [
    "def load_df(path, encoding=\"utf-8\"):\n",
    "    loaded_pd = pd.read_csv(path, sep=\"\\t\", encoding=encoding)\n",
    "    pd_name = path.split(\"/\")[-1].split(\".\")[0]\n",
    "    return pd_name, loaded_pd"
   ]
  },
  {
   "cell_type": "code",
   "execution_count": 3,
   "metadata": {},
   "outputs": [],
   "source": [
    "paths_expression = glob.glob(\"data/expression data/*.txt\")"
   ]
  },
  {
   "cell_type": "code",
   "execution_count": 4,
   "metadata": {},
   "outputs": [],
   "source": [
    "expression_data = []\n",
    "for path in paths_expression:\n",
    "    expression_data.append(load_df(path))"
   ]
  },
  {
   "cell_type": "code",
   "execution_count": 5,
   "metadata": {},
   "outputs": [],
   "source": [
    "paths_other = glob.glob(\"data/*.txt\")\n",
    "aligner_path = \"data/phenotypes_id_aligner.txt\"\n",
    "other_data = []\n",
    "for path in paths_other:\n",
    "    if path == aligner_path:\n",
    "        other_data.append(load_df(path, encoding=\"latin\"))\n",
    "    else:\n",
    "        other_data.append(load_df(path))"
   ]
  },
  {
   "cell_type": "markdown",
   "metadata": {},
   "source": [
    "## We have loaded the dataframes to lists\n",
    "\n",
    "Each list contains tuples (name, dataframe)\n",
    "- expression_data: tables with gene expressions\n",
    "- other_data: all the remaining tables"
   ]
  },
  {
   "cell_type": "code",
   "execution_count": 6,
   "metadata": {},
   "outputs": [
    {
     "name": "stdout",
     "output_type": "stream",
     "text": [
      "97\n"
     ]
    }
   ],
   "source": [
    "# Compute the total set of mice strains present in the expressions dataframes\n",
    "mice_set = set()\n",
    "\n",
    "for i in range(len(expression_data)):\n",
    "    df = expression_data[i][1].set_index('gene')\n",
    "    mice_set.update(list(df.columns))\n",
    "\n",
    "# Compute the total list of mice strains sorted alphabetically\n",
    "mice_list = sorted(list(mice_set))\n",
    "print(len(mice_list))"
   ]
  },
  {
   "cell_type": "code",
   "execution_count": 7,
   "metadata": {},
   "outputs": [],
   "source": [
    "# Create a list of dataframes that always contain all mice (with NaN values if the mice are not originally present)\n",
    "df_list = []\n",
    "\n",
    "for i in range(len(expression_data)):\n",
    "    df = expression_data[i][1].set_index('gene')\n",
    "    # standardize to fight the issue of different means and deviations - to make all of the values comparable\n",
    "    df = df.sub(df.mean(1), axis=0).div(df.std(1), axis=0)\n",
    "    missing_mice = mice_set - set(df.columns)\n",
    "    for mouse in missing_mice:\n",
    "        df[mouse] = np.NaN\n",
    "        \n",
    "    # Order the columns alphabetically\n",
    "    df = df[mice_list]\n",
    "    df.reset_index(inplace=True)\n",
    "    df[\"gene\"] = df[\"gene\"].apply(lambda name: name + \"_\" + expression_data[i][0])\n",
    "    df.rename(columns={\"gene\": \"strain\"}, inplace=True)\n",
    "    df.set_index(\"strain\", inplace=True)\n",
    "    df_list.append(df.transpose())"
   ]
  },
  {
   "cell_type": "code",
   "execution_count": 8,
   "metadata": {},
   "outputs": [],
   "source": [
    "base_df = df_list[0]\n",
    "for other_df in df_list[1:]:\n",
    "    base_df = base_df.join(other_df)"
   ]
  },
  {
   "cell_type": "markdown",
   "metadata": {},
   "source": [
    "We note that all in all the tissues apart from [9, 14, 16, 17, 22, 26, 27, 30, 31, 32, 34, 35, 37, 38, 39] the values appear to follow normal distribution. To make all of them comparable we standardize them by (SNP, tissue)"
   ]
  },
  {
   "cell_type": "code",
   "execution_count": 9,
   "metadata": {},
   "outputs": [],
   "source": [
    "gene_tissue_num = len(base_df.columns)"
   ]
  },
  {
   "cell_type": "code",
   "execution_count": 10,
   "metadata": {},
   "outputs": [],
   "source": [
    "# we remove the mice for which we have no expression data whatsoever\n",
    "base_df.drop(base_df[base_df.isnull().sum(axis=1) == gene_tissue_num].index, inplace=True)"
   ]
  },
  {
   "cell_type": "markdown",
   "metadata": {},
   "source": [
    "We remove the (SNP, tissue) for which we do not have data for at least 4 mice"
   ]
  },
  {
   "cell_type": "code",
   "execution_count": 11,
   "metadata": {},
   "outputs": [],
   "source": [
    "strains_num = len(base_df)"
   ]
  },
  {
   "cell_type": "code",
   "execution_count": 12,
   "metadata": {},
   "outputs": [],
   "source": [
    "columns_to_drop = base_df.columns[base_df.isnull().sum(axis=0) > strains_num - 4]"
   ]
  },
  {
   "cell_type": "code",
   "execution_count": 13,
   "metadata": {},
   "outputs": [],
   "source": [
    "base_df.drop(columns_to_drop, axis=1, inplace=True)"
   ]
  },
  {
   "cell_type": "code",
   "execution_count": 14,
   "metadata": {},
   "outputs": [],
   "source": [
    "base_df.to_pickle(\"processed_data/expression_standardized_cleaned.pkl\")"
   ]
  },
  {
   "cell_type": "code",
   "execution_count": 15,
   "metadata": {},
   "outputs": [],
   "source": [
    "phenotype_present = pd.read_pickle(\"processed_data/pheno_joined_present.pkl\")"
   ]
  },
  {
   "cell_type": "code",
   "execution_count": 16,
   "metadata": {},
   "outputs": [],
   "source": [
    "strains_with_pheno = phenotype_present.columns[:-2]"
   ]
  },
  {
   "cell_type": "code",
   "execution_count": 17,
   "metadata": {},
   "outputs": [
    {
     "data": {
      "text/html": [
       "<div>\n",
       "<style scoped>\n",
       "    .dataframe tbody tr th:only-of-type {\n",
       "        vertical-align: middle;\n",
       "    }\n",
       "\n",
       "    .dataframe tbody tr th {\n",
       "        vertical-align: top;\n",
       "    }\n",
       "\n",
       "    .dataframe thead th {\n",
       "        text-align: right;\n",
       "    }\n",
       "</style>\n",
       "<table border=\"1\" class=\"dataframe\">\n",
       "  <thead>\n",
       "    <tr style=\"text-align: right;\">\n",
       "      <th></th>\n",
       "      <th>B6D2F1</th>\n",
       "      <th>BXD1</th>\n",
       "      <th>BXD100</th>\n",
       "      <th>BXD101</th>\n",
       "      <th>BXD102</th>\n",
       "      <th>BXD11</th>\n",
       "      <th>BXD12</th>\n",
       "      <th>BXD13</th>\n",
       "      <th>BXD14</th>\n",
       "      <th>BXD15</th>\n",
       "      <th>...</th>\n",
       "      <th>BXD9</th>\n",
       "      <th>BXD90</th>\n",
       "      <th>BXD93</th>\n",
       "      <th>BXD94</th>\n",
       "      <th>BXD95</th>\n",
       "      <th>BXD98</th>\n",
       "      <th>BXD99</th>\n",
       "      <th>C57BL.6J</th>\n",
       "      <th>D2B6F1</th>\n",
       "      <th>DBA.2J</th>\n",
       "    </tr>\n",
       "    <tr>\n",
       "      <th>strain</th>\n",
       "      <th></th>\n",
       "      <th></th>\n",
       "      <th></th>\n",
       "      <th></th>\n",
       "      <th></th>\n",
       "      <th></th>\n",
       "      <th></th>\n",
       "      <th></th>\n",
       "      <th></th>\n",
       "      <th></th>\n",
       "      <th></th>\n",
       "      <th></th>\n",
       "      <th></th>\n",
       "      <th></th>\n",
       "      <th></th>\n",
       "      <th></th>\n",
       "      <th></th>\n",
       "      <th></th>\n",
       "      <th></th>\n",
       "      <th></th>\n",
       "      <th></th>\n",
       "    </tr>\n",
       "  </thead>\n",
       "  <tbody>\n",
       "    <tr>\n",
       "      <th>Nmt1_10338077_Muscle_CD</th>\n",
       "      <td>NaN</td>\n",
       "      <td>NaN</td>\n",
       "      <td>-0.725161</td>\n",
       "      <td>-1.317918</td>\n",
       "      <td>NaN</td>\n",
       "      <td>NaN</td>\n",
       "      <td>NaN</td>\n",
       "      <td>NaN</td>\n",
       "      <td>NaN</td>\n",
       "      <td>NaN</td>\n",
       "      <td>...</td>\n",
       "      <td>NaN</td>\n",
       "      <td>-0.792381</td>\n",
       "      <td>NaN</td>\n",
       "      <td>NaN</td>\n",
       "      <td>-1.360695</td>\n",
       "      <td>2.220295</td>\n",
       "      <td>-1.305697</td>\n",
       "      <td>-1.929009</td>\n",
       "      <td>NaN</td>\n",
       "      <td>-0.156847</td>\n",
       "    </tr>\n",
       "    <tr>\n",
       "      <th>Psmb5_10338095_Muscle_CD</th>\n",
       "      <td>NaN</td>\n",
       "      <td>NaN</td>\n",
       "      <td>0.007720</td>\n",
       "      <td>1.462562</td>\n",
       "      <td>NaN</td>\n",
       "      <td>NaN</td>\n",
       "      <td>NaN</td>\n",
       "      <td>NaN</td>\n",
       "      <td>NaN</td>\n",
       "      <td>NaN</td>\n",
       "      <td>...</td>\n",
       "      <td>NaN</td>\n",
       "      <td>-0.067101</td>\n",
       "      <td>NaN</td>\n",
       "      <td>NaN</td>\n",
       "      <td>-0.649038</td>\n",
       "      <td>-1.073020</td>\n",
       "      <td>0.207241</td>\n",
       "      <td>-0.557591</td>\n",
       "      <td>NaN</td>\n",
       "      <td>1.263041</td>\n",
       "    </tr>\n",
       "    <tr>\n",
       "      <th>Hdac5_10338098_Muscle_CD</th>\n",
       "      <td>NaN</td>\n",
       "      <td>NaN</td>\n",
       "      <td>0.376058</td>\n",
       "      <td>0.845329</td>\n",
       "      <td>NaN</td>\n",
       "      <td>NaN</td>\n",
       "      <td>NaN</td>\n",
       "      <td>NaN</td>\n",
       "      <td>NaN</td>\n",
       "      <td>NaN</td>\n",
       "      <td>...</td>\n",
       "      <td>NaN</td>\n",
       "      <td>-1.774767</td>\n",
       "      <td>NaN</td>\n",
       "      <td>NaN</td>\n",
       "      <td>0.854019</td>\n",
       "      <td>0.193564</td>\n",
       "      <td>1.453644</td>\n",
       "      <td>-0.353919</td>\n",
       "      <td>NaN</td>\n",
       "      <td>1.831667</td>\n",
       "    </tr>\n",
       "    <tr>\n",
       "      <th>Dlg1_10338109_Muscle_CD</th>\n",
       "      <td>NaN</td>\n",
       "      <td>NaN</td>\n",
       "      <td>0.545516</td>\n",
       "      <td>0.515211</td>\n",
       "      <td>NaN</td>\n",
       "      <td>NaN</td>\n",
       "      <td>NaN</td>\n",
       "      <td>NaN</td>\n",
       "      <td>NaN</td>\n",
       "      <td>NaN</td>\n",
       "      <td>...</td>\n",
       "      <td>NaN</td>\n",
       "      <td>-1.444705</td>\n",
       "      <td>NaN</td>\n",
       "      <td>NaN</td>\n",
       "      <td>-1.347606</td>\n",
       "      <td>0.252363</td>\n",
       "      <td>0.255455</td>\n",
       "      <td>-0.014195</td>\n",
       "      <td>NaN</td>\n",
       "      <td>-0.289412</td>\n",
       "    </tr>\n",
       "    <tr>\n",
       "      <th>Wars_10338116_Muscle_CD</th>\n",
       "      <td>NaN</td>\n",
       "      <td>NaN</td>\n",
       "      <td>-1.104466</td>\n",
       "      <td>-1.058281</td>\n",
       "      <td>NaN</td>\n",
       "      <td>NaN</td>\n",
       "      <td>NaN</td>\n",
       "      <td>NaN</td>\n",
       "      <td>NaN</td>\n",
       "      <td>NaN</td>\n",
       "      <td>...</td>\n",
       "      <td>NaN</td>\n",
       "      <td>0.304157</td>\n",
       "      <td>NaN</td>\n",
       "      <td>NaN</td>\n",
       "      <td>1.089291</td>\n",
       "      <td>1.052343</td>\n",
       "      <td>-0.748846</td>\n",
       "      <td>0.050143</td>\n",
       "      <td>NaN</td>\n",
       "      <td>-0.166923</td>\n",
       "    </tr>\n",
       "    <tr>\n",
       "      <th>...</th>\n",
       "      <td>...</td>\n",
       "      <td>...</td>\n",
       "      <td>...</td>\n",
       "      <td>...</td>\n",
       "      <td>...</td>\n",
       "      <td>...</td>\n",
       "      <td>...</td>\n",
       "      <td>...</td>\n",
       "      <td>...</td>\n",
       "      <td>...</td>\n",
       "      <td>...</td>\n",
       "      <td>...</td>\n",
       "      <td>...</td>\n",
       "      <td>...</td>\n",
       "      <td>...</td>\n",
       "      <td>...</td>\n",
       "      <td>...</td>\n",
       "      <td>...</td>\n",
       "      <td>...</td>\n",
       "      <td>...</td>\n",
       "      <td>...</td>\n",
       "    </tr>\n",
       "    <tr>\n",
       "      <th>Tfrc_AFFX-TransRecMur-X57349_5_at_Eye</th>\n",
       "      <td>1.036264</td>\n",
       "      <td>-0.566462</td>\n",
       "      <td>NaN</td>\n",
       "      <td>NaN</td>\n",
       "      <td>NaN</td>\n",
       "      <td>-1.180697</td>\n",
       "      <td>0.207761</td>\n",
       "      <td>-1.209266</td>\n",
       "      <td>0.464883</td>\n",
       "      <td>-0.372192</td>\n",
       "      <td>...</td>\n",
       "      <td>-0.672167</td>\n",
       "      <td>2.201883</td>\n",
       "      <td>NaN</td>\n",
       "      <td>NaN</td>\n",
       "      <td>NaN</td>\n",
       "      <td>-0.740733</td>\n",
       "      <td>-0.757874</td>\n",
       "      <td>0.979126</td>\n",
       "      <td>0.744860</td>\n",
       "      <td>-0.297912</td>\n",
       "    </tr>\n",
       "    <tr>\n",
       "      <th>Tfrc_AFFX-TransRecMur-X57349_M_at_Eye</th>\n",
       "      <td>1.008312</td>\n",
       "      <td>-0.427261</td>\n",
       "      <td>NaN</td>\n",
       "      <td>NaN</td>\n",
       "      <td>NaN</td>\n",
       "      <td>-1.017522</td>\n",
       "      <td>-0.143061</td>\n",
       "      <td>-1.494832</td>\n",
       "      <td>0.312387</td>\n",
       "      <td>-0.740610</td>\n",
       "      <td>...</td>\n",
       "      <td>-1.046671</td>\n",
       "      <td>2.043091</td>\n",
       "      <td>NaN</td>\n",
       "      <td>NaN</td>\n",
       "      <td>NaN</td>\n",
       "      <td>-0.645876</td>\n",
       "      <td>0.082841</td>\n",
       "      <td>0.822489</td>\n",
       "      <td>0.724112</td>\n",
       "      <td>0.039118</td>\n",
       "    </tr>\n",
       "    <tr>\n",
       "      <th>AFFX-TrpnX-3_AFFX-TrpnX-3_at_Eye</th>\n",
       "      <td>-0.810138</td>\n",
       "      <td>-0.273595</td>\n",
       "      <td>NaN</td>\n",
       "      <td>NaN</td>\n",
       "      <td>NaN</td>\n",
       "      <td>1.964559</td>\n",
       "      <td>-1.530640</td>\n",
       "      <td>-0.258265</td>\n",
       "      <td>1.596643</td>\n",
       "      <td>0.845482</td>\n",
       "      <td>...</td>\n",
       "      <td>-1.346682</td>\n",
       "      <td>-0.258265</td>\n",
       "      <td>NaN</td>\n",
       "      <td>NaN</td>\n",
       "      <td>NaN</td>\n",
       "      <td>-0.672170</td>\n",
       "      <td>-0.610851</td>\n",
       "      <td>-1.086075</td>\n",
       "      <td>-0.518872</td>\n",
       "      <td>-0.334914</td>\n",
       "    </tr>\n",
       "    <tr>\n",
       "      <th>AFFX-TrpnX-5_AFFX-TrpnX-5_at_Eye</th>\n",
       "      <td>-0.336536</td>\n",
       "      <td>-2.101328</td>\n",
       "      <td>NaN</td>\n",
       "      <td>NaN</td>\n",
       "      <td>NaN</td>\n",
       "      <td>0.792931</td>\n",
       "      <td>-1.501299</td>\n",
       "      <td>0.122310</td>\n",
       "      <td>0.969410</td>\n",
       "      <td>-1.218932</td>\n",
       "      <td>...</td>\n",
       "      <td>1.216481</td>\n",
       "      <td>-0.018873</td>\n",
       "      <td>NaN</td>\n",
       "      <td>NaN</td>\n",
       "      <td>NaN</td>\n",
       "      <td>-1.854257</td>\n",
       "      <td>1.463552</td>\n",
       "      <td>-0.830678</td>\n",
       "      <td>0.192902</td>\n",
       "      <td>-0.495367</td>\n",
       "    </tr>\n",
       "    <tr>\n",
       "      <th>AFFX-TrpnX-M_AFFX-TrpnX-M_at_Eye</th>\n",
       "      <td>-0.813993</td>\n",
       "      <td>1.004035</td>\n",
       "      <td>NaN</td>\n",
       "      <td>NaN</td>\n",
       "      <td>NaN</td>\n",
       "      <td>1.610044</td>\n",
       "      <td>-0.526936</td>\n",
       "      <td>0.493712</td>\n",
       "      <td>1.259197</td>\n",
       "      <td>-0.303669</td>\n",
       "      <td>...</td>\n",
       "      <td>1.259197</td>\n",
       "      <td>0.653188</td>\n",
       "      <td>NaN</td>\n",
       "      <td>NaN</td>\n",
       "      <td>NaN</td>\n",
       "      <td>0.509659</td>\n",
       "      <td>1.673835</td>\n",
       "      <td>-0.112298</td>\n",
       "      <td>-1.196735</td>\n",
       "      <td>-0.510988</td>\n",
       "    </tr>\n",
       "  </tbody>\n",
       "</table>\n",
       "<p>1201231 rows × 86 columns</p>\n",
       "</div>"
      ],
      "text/plain": [
       "                                         B6D2F1      BXD1    BXD100    BXD101  \\\n",
       "strain                                                                          \n",
       "Nmt1_10338077_Muscle_CD                     NaN       NaN -0.725161 -1.317918   \n",
       "Psmb5_10338095_Muscle_CD                    NaN       NaN  0.007720  1.462562   \n",
       "Hdac5_10338098_Muscle_CD                    NaN       NaN  0.376058  0.845329   \n",
       "Dlg1_10338109_Muscle_CD                     NaN       NaN  0.545516  0.515211   \n",
       "Wars_10338116_Muscle_CD                     NaN       NaN -1.104466 -1.058281   \n",
       "...                                         ...       ...       ...       ...   \n",
       "Tfrc_AFFX-TransRecMur-X57349_5_at_Eye  1.036264 -0.566462       NaN       NaN   \n",
       "Tfrc_AFFX-TransRecMur-X57349_M_at_Eye  1.008312 -0.427261       NaN       NaN   \n",
       "AFFX-TrpnX-3_AFFX-TrpnX-3_at_Eye      -0.810138 -0.273595       NaN       NaN   \n",
       "AFFX-TrpnX-5_AFFX-TrpnX-5_at_Eye      -0.336536 -2.101328       NaN       NaN   \n",
       "AFFX-TrpnX-M_AFFX-TrpnX-M_at_Eye      -0.813993  1.004035       NaN       NaN   \n",
       "\n",
       "                                       BXD102     BXD11     BXD12     BXD13  \\\n",
       "strain                                                                        \n",
       "Nmt1_10338077_Muscle_CD                   NaN       NaN       NaN       NaN   \n",
       "Psmb5_10338095_Muscle_CD                  NaN       NaN       NaN       NaN   \n",
       "Hdac5_10338098_Muscle_CD                  NaN       NaN       NaN       NaN   \n",
       "Dlg1_10338109_Muscle_CD                   NaN       NaN       NaN       NaN   \n",
       "Wars_10338116_Muscle_CD                   NaN       NaN       NaN       NaN   \n",
       "...                                       ...       ...       ...       ...   \n",
       "Tfrc_AFFX-TransRecMur-X57349_5_at_Eye     NaN -1.180697  0.207761 -1.209266   \n",
       "Tfrc_AFFX-TransRecMur-X57349_M_at_Eye     NaN -1.017522 -0.143061 -1.494832   \n",
       "AFFX-TrpnX-3_AFFX-TrpnX-3_at_Eye          NaN  1.964559 -1.530640 -0.258265   \n",
       "AFFX-TrpnX-5_AFFX-TrpnX-5_at_Eye          NaN  0.792931 -1.501299  0.122310   \n",
       "AFFX-TrpnX-M_AFFX-TrpnX-M_at_Eye          NaN  1.610044 -0.526936  0.493712   \n",
       "\n",
       "                                          BXD14     BXD15  ...      BXD9  \\\n",
       "strain                                                     ...             \n",
       "Nmt1_10338077_Muscle_CD                     NaN       NaN  ...       NaN   \n",
       "Psmb5_10338095_Muscle_CD                    NaN       NaN  ...       NaN   \n",
       "Hdac5_10338098_Muscle_CD                    NaN       NaN  ...       NaN   \n",
       "Dlg1_10338109_Muscle_CD                     NaN       NaN  ...       NaN   \n",
       "Wars_10338116_Muscle_CD                     NaN       NaN  ...       NaN   \n",
       "...                                         ...       ...  ...       ...   \n",
       "Tfrc_AFFX-TransRecMur-X57349_5_at_Eye  0.464883 -0.372192  ... -0.672167   \n",
       "Tfrc_AFFX-TransRecMur-X57349_M_at_Eye  0.312387 -0.740610  ... -1.046671   \n",
       "AFFX-TrpnX-3_AFFX-TrpnX-3_at_Eye       1.596643  0.845482  ... -1.346682   \n",
       "AFFX-TrpnX-5_AFFX-TrpnX-5_at_Eye       0.969410 -1.218932  ...  1.216481   \n",
       "AFFX-TrpnX-M_AFFX-TrpnX-M_at_Eye       1.259197 -0.303669  ...  1.259197   \n",
       "\n",
       "                                          BXD90  BXD93  BXD94     BXD95  \\\n",
       "strain                                                                    \n",
       "Nmt1_10338077_Muscle_CD               -0.792381    NaN    NaN -1.360695   \n",
       "Psmb5_10338095_Muscle_CD              -0.067101    NaN    NaN -0.649038   \n",
       "Hdac5_10338098_Muscle_CD              -1.774767    NaN    NaN  0.854019   \n",
       "Dlg1_10338109_Muscle_CD               -1.444705    NaN    NaN -1.347606   \n",
       "Wars_10338116_Muscle_CD                0.304157    NaN    NaN  1.089291   \n",
       "...                                         ...    ...    ...       ...   \n",
       "Tfrc_AFFX-TransRecMur-X57349_5_at_Eye  2.201883    NaN    NaN       NaN   \n",
       "Tfrc_AFFX-TransRecMur-X57349_M_at_Eye  2.043091    NaN    NaN       NaN   \n",
       "AFFX-TrpnX-3_AFFX-TrpnX-3_at_Eye      -0.258265    NaN    NaN       NaN   \n",
       "AFFX-TrpnX-5_AFFX-TrpnX-5_at_Eye      -0.018873    NaN    NaN       NaN   \n",
       "AFFX-TrpnX-M_AFFX-TrpnX-M_at_Eye       0.653188    NaN    NaN       NaN   \n",
       "\n",
       "                                          BXD98     BXD99  C57BL.6J    D2B6F1  \\\n",
       "strain                                                                          \n",
       "Nmt1_10338077_Muscle_CD                2.220295 -1.305697 -1.929009       NaN   \n",
       "Psmb5_10338095_Muscle_CD              -1.073020  0.207241 -0.557591       NaN   \n",
       "Hdac5_10338098_Muscle_CD               0.193564  1.453644 -0.353919       NaN   \n",
       "Dlg1_10338109_Muscle_CD                0.252363  0.255455 -0.014195       NaN   \n",
       "Wars_10338116_Muscle_CD                1.052343 -0.748846  0.050143       NaN   \n",
       "...                                         ...       ...       ...       ...   \n",
       "Tfrc_AFFX-TransRecMur-X57349_5_at_Eye -0.740733 -0.757874  0.979126  0.744860   \n",
       "Tfrc_AFFX-TransRecMur-X57349_M_at_Eye -0.645876  0.082841  0.822489  0.724112   \n",
       "AFFX-TrpnX-3_AFFX-TrpnX-3_at_Eye      -0.672170 -0.610851 -1.086075 -0.518872   \n",
       "AFFX-TrpnX-5_AFFX-TrpnX-5_at_Eye      -1.854257  1.463552 -0.830678  0.192902   \n",
       "AFFX-TrpnX-M_AFFX-TrpnX-M_at_Eye       0.509659  1.673835 -0.112298 -1.196735   \n",
       "\n",
       "                                         DBA.2J  \n",
       "strain                                           \n",
       "Nmt1_10338077_Muscle_CD               -0.156847  \n",
       "Psmb5_10338095_Muscle_CD               1.263041  \n",
       "Hdac5_10338098_Muscle_CD               1.831667  \n",
       "Dlg1_10338109_Muscle_CD               -0.289412  \n",
       "Wars_10338116_Muscle_CD               -0.166923  \n",
       "...                                         ...  \n",
       "Tfrc_AFFX-TransRecMur-X57349_5_at_Eye -0.297912  \n",
       "Tfrc_AFFX-TransRecMur-X57349_M_at_Eye  0.039118  \n",
       "AFFX-TrpnX-3_AFFX-TrpnX-3_at_Eye      -0.334914  \n",
       "AFFX-TrpnX-5_AFFX-TrpnX-5_at_Eye      -0.495367  \n",
       "AFFX-TrpnX-M_AFFX-TrpnX-M_at_Eye      -0.510988  \n",
       "\n",
       "[1201231 rows x 86 columns]"
      ]
     },
     "execution_count": 17,
     "metadata": {},
     "output_type": "execute_result"
    }
   ],
   "source": [
    "base_df = base_df.transpose()\n",
    "base_df.rename(columns={\"strain\": \"SNP\"})"
   ]
  },
  {
   "cell_type": "code",
   "execution_count": 18,
   "metadata": {},
   "outputs": [],
   "source": [
    "strain_with_pheno = []\n",
    "for index, row in phenotype_present.iterrows():\n",
    "    strain_with_pheno.append(row[~row.isnull()].index.tolist()[:-2])"
   ]
  },
  {
   "cell_type": "markdown",
   "metadata": {},
   "source": [
    "# Malaria Susceptibility regression baseline"
   ]
  },
  {
   "cell_type": "markdown",
   "metadata": {},
   "source": [
    "We decide to replace the missing values with mean. This is for simplicity."
   ]
  },
  {
   "cell_type": "code",
   "execution_count": 19,
   "metadata": {},
   "outputs": [],
   "source": [
    "df_pheno = []\n",
    "base_df = base_df.T\n",
    "for index, row in phenotype_present.iterrows():\n",
    "    row = row[~row.isna()]\n",
    "    row_df = pd.DataFrame(row)\n",
    "    column_name = row_df.columns[0]\n",
    "    row_df.rename(columns={column_name: row[\"Shown_pheno\"]}, inplace=True)\n",
    "    df_pheno.append(base_df.join(row_df, how=\"inner\"))"
   ]
  },
  {
   "cell_type": "code",
   "execution_count": 20,
   "metadata": {},
   "outputs": [],
   "source": [
    "from sklearn.linear_model import RidgeCV\n",
    "from sklearn.model_selection import train_test_split"
   ]
  },
  {
   "cell_type": "code",
   "execution_count": 21,
   "metadata": {},
   "outputs": [],
   "source": [
    "pheno_idx_of_interest = [0, 1, 2, 3, -1, -2]\n",
    "malaria_susceptibility_idx = [-1]"
   ]
  },
  {
   "cell_type": "code",
   "execution_count": 22,
   "metadata": {
    "scrolled": true
   },
   "outputs": [
    {
     "name": "stdout",
     "output_type": "stream",
     "text": [
      "Malaria susceptibility, murine Plasmodium yoelli 17X-lethal (PY17X-L) [0=100% resistant, 1= 100% susceptible], test+score: 0.10180054576041642, number_of_samples: 57\n",
      "Malaria susceptibility, murine Plasmodium yoelli 17X-lethal (PY17X-L) [0=100% resistant, 1= 100% susceptible], test+score: 0.13969175139595935, number_of_samples: 57\n",
      "Malaria susceptibility, murine Plasmodium yoelli 17X-lethal (PY17X-L) [0=100% resistant, 1= 100% susceptible], test+score: 0.1279596132381915, number_of_samples: 57\n",
      "Malaria susceptibility, murine Plasmodium yoelli 17X-lethal (PY17X-L) [0=100% resistant, 1= 100% susceptible], test+score: 0.16958417245691593, number_of_samples: 57\n",
      "Malaria susceptibility, murine Plasmodium yoelli 17X-lethal (PY17X-L) [0=100% resistant, 1= 100% susceptible], test+score: 0.2751187703390876, number_of_samples: 57\n",
      "Malaria susceptibility, murine Plasmodium yoelli 17X-lethal (PY17X-L) [0=100% resistant, 1= 100% susceptible], test+score: -0.07999826243561435, number_of_samples: 57\n",
      "Malaria susceptibility, murine Plasmodium yoelli 17X-lethal (PY17X-L) [0=100% resistant, 1= 100% susceptible], test+score: 0.10983123479279033, number_of_samples: 57\n",
      "Malaria susceptibility, murine Plasmodium yoelli 17X-lethal (PY17X-L) [0=100% resistant, 1= 100% susceptible], test+score: -0.6661262229036247, number_of_samples: 57\n",
      "Malaria susceptibility, murine Plasmodium yoelli 17X-lethal (PY17X-L) [0=100% resistant, 1= 100% susceptible], test+score: 0.28940693563576547, number_of_samples: 57\n",
      "Malaria susceptibility, murine Plasmodium yoelli 17X-lethal (PY17X-L) [0=100% resistant, 1= 100% susceptible], test+score: 0.3385347156073226, number_of_samples: 57\n",
      "Malaria susceptibility, murine Plasmodium yoelli 17X-lethal (PY17X-L) [0=100% resistant, 1= 100% susceptible], test+score: 0.060523444013444234, number_of_samples: 57\n",
      "Malaria susceptibility, murine Plasmodium yoelli 17X-lethal (PY17X-L) [0=100% resistant, 1= 100% susceptible], test+score: 0.08267666553648956, number_of_samples: 57\n",
      "Malaria susceptibility, murine Plasmodium yoelli 17X-lethal (PY17X-L) [0=100% resistant, 1= 100% susceptible], test+score: 0.15211237455909932, number_of_samples: 57\n",
      "Malaria susceptibility, murine Plasmodium yoelli 17X-lethal (PY17X-L) [0=100% resistant, 1= 100% susceptible], test+score: 0.028149683328054786, number_of_samples: 57\n",
      "Malaria susceptibility, murine Plasmodium yoelli 17X-lethal (PY17X-L) [0=100% resistant, 1= 100% susceptible], test+score: 0.22840675041379296, number_of_samples: 57\n",
      "Malaria susceptibility, murine Plasmodium yoelli 17X-lethal (PY17X-L) [0=100% resistant, 1= 100% susceptible], test+score: 0.12033675111616436, number_of_samples: 57\n",
      "Malaria susceptibility, murine Plasmodium yoelli 17X-lethal (PY17X-L) [0=100% resistant, 1= 100% susceptible], test+score: 0.1761320624635836, number_of_samples: 57\n",
      "Malaria susceptibility, murine Plasmodium yoelli 17X-lethal (PY17X-L) [0=100% resistant, 1= 100% susceptible], test+score: 0.28444225023479586, number_of_samples: 57\n",
      "Malaria susceptibility, murine Plasmodium yoelli 17X-lethal (PY17X-L) [0=100% resistant, 1= 100% susceptible], test+score: 0.12909981194415232, number_of_samples: 57\n",
      "Malaria susceptibility, murine Plasmodium yoelli 17X-lethal (PY17X-L) [0=100% resistant, 1= 100% susceptible], test+score: -0.01821484671753182, number_of_samples: 57\n",
      "percentage of positive R^2 scores: 85.0\n"
     ]
    }
   ],
   "source": [
    "import random\n",
    "positive_test_score = 0\n",
    "num_tests = 20\n",
    "for random_state in range(num_tests):\n",
    "    for pheno_idx in malaria_susceptibility_idx:    \n",
    "        X_train, X_test, y_train, y_test = train_test_split(\n",
    "            df_pheno[pheno_idx].iloc[:, :-1].fillna(0), df_pheno[pheno_idx].iloc[:, -1].fillna(0), test_size=0.3, random_state=random_state)\n",
    "\n",
    "        clf = RidgeCV(alphas=[1e-99, 1e-5, 1e-4, 1e-3, 1e-2, 1e-1, 1, 1e2, 1e3, 1e4, 1e5, 1e6, 1e7, 1e8, 1e9, 1e10, 1e11, 1e12]).fit(X_train, y_train)\n",
    "        if (clf.alpha_ == 1e12 or clf.alpha_ == 1e-5):\n",
    "            print(clf.alpha_)\n",
    "            print(\"Might need to update alpha\")\n",
    "        test_score = clf.score(X_test, y_test)\n",
    "        if test_score > 0:\n",
    "            positive_test_score += 1\n",
    "        print(f\"{df_pheno[pheno_idx].columns[-1]}, test+score: {test_score}, number_of_samples: {len(df_pheno[pheno_idx])}\")\n",
    "print(f\"percentage of positive R^2 scores: {float(positive_test_score) / num_tests * 100}\")"
   ]
  },
  {
   "cell_type": "markdown",
   "metadata": {},
   "source": [
    "We conclude that The ridge regression classifier does better than it would by always guessing the expected value, so it is a good baseline and the phenotype appears to be somewhat predictible give the gene expression data."
   ]
  },
  {
   "cell_type": "code",
   "execution_count": 23,
   "metadata": {},
   "outputs": [],
   "source": [
    "# we compare ridge regression with expected value error\n",
    "df_malaria = df_pheno[-1]"
   ]
  },
  {
   "cell_type": "code",
   "execution_count": 24,
   "metadata": {},
   "outputs": [],
   "source": [
    "df_malaria.to_pickle(\"processed_data/malaria_susceptibility.pkl\")"
   ]
  },
  {
   "cell_type": "code",
   "execution_count": 25,
   "metadata": {},
   "outputs": [
    {
     "name": "stdout",
     "output_type": "stream",
     "text": [
      "best alpha: 7033.794794794795\n"
     ]
    }
   ],
   "source": [
    "X_train, y_train = df_malaria.iloc[:, :-1].fillna(0), df_malaria.iloc[:, -1].fillna(0)\n",
    "clf_alpha = RidgeCV(alphas=np.linspace(7000, 7049, 1000), store_cv_values=True).fit(X_train, y_train)\n",
    "print(f\"best alpha: {clf_alpha.alpha_}\")"
   ]
  },
  {
   "cell_type": "code",
   "execution_count": 26,
   "metadata": {},
   "outputs": [
    {
     "name": "stdout",
     "output_type": "stream",
     "text": [
      "Malaria susceptibility, murine Plasmodium yoelli 17X-lethal (PY17X-L) [0=100% resistant, 1= 100% susceptible], number_of_samples: 57\n",
      "mean error: 0.11434224449086289\n",
      "mean error for completely susceptible mice: 0.0662065340169772\n",
      "mean error for somewhat resistant mice: 0.16419708748167308\n"
     ]
    }
   ],
   "source": [
    "clf = RidgeCV(alphas=[clf_alpha.alpha_], store_cv_values=True).fit(X_train, y_train)\n",
    "\n",
    "print(f\"{df_malaria.columns[-1]}, number_of_samples: {len(df_malaria)}\")\n",
    "print(f\"mean error: {clf.cv_values_.mean()}\")\n",
    "print(f\"mean error for completely susceptible mice: {clf.cv_values_[np.where(y_train == 1.0)[0]].mean()}\")\n",
    "print(f\"mean error for somewhat resistant mice: {clf.cv_values_[np.where(y_train != 1.0)[0]].mean()}\")"
   ]
  },
  {
   "cell_type": "code",
   "execution_count": 27,
   "metadata": {},
   "outputs": [
    {
     "data": {
      "text/plain": [
       "Text(0.5, 0, 'malaria susceptibility %')"
      ]
     },
     "execution_count": 27,
     "metadata": {},
     "output_type": "execute_result"
    },
    {
     "data": {
      "image/png": "[encoded data removed]",
      "text/plain": [
       "<Figure size 432x288 with 1 Axes>"
      ]
     },
     "metadata": {
      "needs_background": "light"
     },
     "output_type": "display_data"
    }
   ],
   "source": [
    "# error distribution by mice susceptibility\n",
    "plt.scatter(x=y_train, y=clf.cv_values_)\n",
    "plt.title(\"Classification error as a function of susceptibility\")\n",
    "plt.ylabel(\"classification error %\")\n",
    "plt.xlabel(\"malaria susceptibility %\")"
   ]
  },
  {
   "cell_type": "markdown",
   "metadata": {},
   "source": [
    "We note that the classifier makes the worst mistakes when predicting susceptibility of the most resistant mice."
   ]
  },
  {
   "cell_type": "code",
   "execution_count": 28,
   "metadata": {},
   "outputs": [
    {
     "data": {
      "text/plain": [
       "(array([9.00000e+00, 2.02000e+02, 4.57100e+03, 8.31610e+04, 5.60186e+05,\n",
       "        4.96384e+05, 5.36320e+04, 2.80700e+03, 2.57000e+02, 2.20000e+01]),\n",
       " array([-2.55293652e-05, -2.03659262e-05, -1.52024872e-05, -1.00390482e-05,\n",
       "        -4.87560913e-06,  2.87829891e-07,  5.45126891e-06,  1.06147079e-05,\n",
       "         1.57781470e-05,  2.09415860e-05,  2.61050250e-05]),\n",
       " <a list of 10 Patch objects>)"
      ]
     },
     "execution_count": 28,
     "metadata": {},
     "output_type": "execute_result"
    },
    {
     "data": {
      "image/png": "[encoded data removed]",
      "text/plain": [
       "<Figure size 432x288 with 1 Axes>"
      ]
     },
     "metadata": {
      "needs_background": "light"
     },
     "output_type": "display_data"
    }
   ],
   "source": [
    "plt.hist(clf.coef_)"
   ]
  },
  {
   "cell_type": "markdown",
   "metadata": {},
   "source": [
    "Most of the weights are very small, meaning most of the expression data is not used. It appears that there are both gene expressions that correlate with susceptibility as those related to resistance: the histogram has negative and positive entries."
   ]
  },
  {
   "cell_type": "markdown",
   "metadata": {},
   "source": [
    "SNPs used by classifier to predict susceptibility:"
   ]
  },
  {
   "cell_type": "code",
   "execution_count": 29,
   "metadata": {},
   "outputs": [
    {
     "data": {
      "text/plain": [
       "Index(['scl00280487.1_157-S_ILM5910112_Bone_Femur',\n",
       "       '1700072I22Rik_ILM100380731_Bone_Femur', 'Cpn1_ILM1940114_Bone_Femur',\n",
       "       'Lonp2_ILM5290687_Bone_Femur', 'Serpina1-rat_ILM106590035_Bone_Femur'],\n",
       "      dtype='object')"
      ]
     },
     "execution_count": 29,
     "metadata": {},
     "output_type": "execute_result"
    }
   ],
   "source": [
    "X_train.columns[np.where(clf.coef_ > 0.000023)[0]]"
   ]
  },
  {
   "cell_type": "markdown",
   "metadata": {},
   "source": [
    "SNPs used by classifier to predict resistance:"
   ]
  },
  {
   "cell_type": "code",
   "execution_count": 30,
   "metadata": {},
   "outputs": [
    {
     "data": {
      "text/plain": [
       "Index(['Gpr83_ILM102940402_Bone_Femur', 'Cntnap2_ILM100380601_Bone_Femur',\n",
       "       'Car10_ILM3130463_Bone_Femur', 'Nppc_ILM2320647_Bone_Femur',\n",
       "       '4930571N24Rik_ILM101230041_Bone_Femur'],\n",
       "      dtype='object')"
      ]
     },
     "execution_count": 30,
     "metadata": {},
     "output_type": "execute_result"
    }
   ],
   "source": [
    "X_train.columns[np.where(clf.coef_ < -0.0000215)[0]]"
   ]
  },
  {
   "cell_type": "markdown",
   "metadata": {},
   "source": [
    "It seems that gene expression in bone femur is the strongest indicator"
   ]
  },
  {
   "cell_type": "markdown",
   "metadata": {},
   "source": [
    "We decide to reduce the number of SNPs we use for prediction for computational efficiency. To select the most important ones we pick those that have highest or lowest weights in ridge regression and those that have highest or lowest spearman correlation. Note that there might be more complex relationships that we decide not to consider due to limited number of mice in the dataset."
   ]
  },
  {
   "cell_type": "code",
   "execution_count": 31,
   "metadata": {},
   "outputs": [],
   "source": [
    "coef_with_index = list(zip(range(clf.coef_.shape[0]), clf.coef_))"
   ]
  },
  {
   "cell_type": "code",
   "execution_count": 32,
   "metadata": {},
   "outputs": [],
   "source": [
    "coef_with_index.sort(key=lambda x: x[1])"
   ]
  },
  {
   "cell_type": "code",
   "execution_count": 33,
   "metadata": {},
   "outputs": [],
   "source": [
    "# pick k indices of the most relevant features according to ridge\n",
    "def relevant_indices(k, list_with_indices):\n",
    "    negative = [el[0] for el in list_with_indices[:k//2]]\n",
    "    positive = [el[0] for el in list_with_indices[-k//2:]]\n",
    "    return negative + positive"
   ]
  },
  {
   "cell_type": "code",
   "execution_count": 49,
   "metadata": {},
   "outputs": [],
   "source": [
    "def evaluate_ridge(X_train_eval):\n",
    "    alphas = np.linspace(1e-10, 1000, 1500)\n",
    "    clf_ridge_relevant = RidgeCV(alphas=alphas, store_cv_values=True).fit(X_train_eval, y_train)\n",
    "    best_alpha_index = np.where(alphas == clf_ridge_relevant.alpha_)[0]\n",
    "    print(f\"best alpha: {clf_ridge_relevant.alpha_}\")\n",
    "    print(f\"mean error: {clf_ridge_relevant.cv_values_[:, ].mean()}\")"
   ]
  },
  {
   "cell_type": "code",
   "execution_count": 50,
   "metadata": {},
   "outputs": [
    {
     "name": "stdout",
     "output_type": "stream",
     "text": [
      "SNPs used: 1201231\n",
      "best alpha: 1000.0\n",
      "mean error: 0.11441279741829025\n",
      "SNPs used: 100000\n",
      "best alpha: 1e-10\n",
      "mean error: 0.01328558974279297\n",
      "SNPs used: 50000\n",
      "best alpha: 1e-10\n",
      "mean error: 0.013108024727601399\n",
      "SNPs used: 10000\n",
      "best alpha: 1e-10\n",
      "mean error: 0.03172777976580277\n",
      "SNPs used: 1000\n",
      "best alpha: 4.669779853335023\n",
      "mean error: 0.05478505288300855\n",
      "SNPs used: 100\n",
      "best alpha: 76.05070046707039\n",
      "mean error: 0.11688487699548336\n"
     ]
    }
   ],
   "source": [
    "indices_to_evaluate = [X_train.shape[1], 1e5, 50000, 1e4, 1e3, 1e2]\n",
    "for k in indices_to_evaluate:\n",
    "    print(f\"SNPs used: {int(k)}\")\n",
    "    indices = relevant_indices(int(k), coef_with_index)\n",
    "    evaluate_ridge(X_train.iloc[:, indices])"
   ]
  },
  {
   "cell_type": "markdown",
   "metadata": {},
   "source": [
    "We see that actually best scores are attained when we use only 100k most relevant SNPs, and using only 1k gives results not much worse. We decide to use only 1k for easier computation and better interpretability. "
   ]
  },
  {
   "cell_type": "markdown",
   "metadata": {},
   "source": [
    "Other measures of feature importance can be used. Here we compute the spearman correlation and pick the SNPs most positively or negatively correlated with the malaric susceptibility."
   ]
  },
  {
   "cell_type": "code",
   "execution_count": 36,
   "metadata": {},
   "outputs": [],
   "source": [
    "from scipy.stats import spearmanr"
   ]
  },
  {
   "cell_type": "code",
   "execution_count": 37,
   "metadata": {},
   "outputs": [
    {
     "name": "stdout",
     "output_type": "stream",
     "text": [
      "Time: 623.7729175329999\n"
     ]
    }
   ],
   "source": [
    "import timeit\n",
    "number_of_samples = X_train.shape[1]\n",
    "spearman_values = []\n",
    "start = timeit.default_timer()\n",
    "for i in range(X_train.shape[1]):\n",
    "     spearman_values.append(spearmanr(X_train.iloc[:,i], y_train)[0])\n",
    "print(f\"Time: {timeit.default_timer() - start}\")"
   ]
  },
  {
   "cell_type": "code",
   "execution_count": 38,
   "metadata": {},
   "outputs": [],
   "source": [
    "spearman_values = np.array(spearman_values)\n",
    "np.save(\"processed_data/spearman_SNP_susceptibility.npy\", spearman_values)"
   ]
  },
  {
   "cell_type": "code",
   "execution_count": 39,
   "metadata": {},
   "outputs": [],
   "source": [
    "spearman_with_index = list(zip(range(spearman_values.shape[0]), spearman_values))\n",
    "spearman_with_index.sort(key=lambda x: x[1])"
   ]
  },
  {
   "cell_type": "code",
   "execution_count": 51,
   "metadata": {},
   "outputs": [
    {
     "name": "stdout",
     "output_type": "stream",
     "text": [
      "SNPs used: 1201231\n",
      "best alpha: 1000.0\n",
      "mean error: 0.11441279741829082\n",
      "SNPs used: 100000\n",
      "best alpha: 1000.0\n",
      "mean error: 0.04271160180741342\n",
      "SNPs used: 50000\n",
      "best alpha: 1000.0\n",
      "mean error: 0.042063967372120925\n",
      "SNPs used: 10000\n",
      "best alpha: 932.6217478318947\n",
      "mean error: 0.03571977156676771\n",
      "SNPs used: 1000\n",
      "best alpha: 130.75383589068065\n",
      "mean error: 0.04382821423413428\n",
      "SNPs used: 100\n",
      "best alpha: 36.69112741837518\n",
      "mean error: 0.06916577163298071\n"
     ]
    }
   ],
   "source": [
    "for k in indices_to_evaluate:\n",
    "    print(f\"SNPs used: {int(k)}\")\n",
    "    indices = relevant_indices(int(k), spearman_with_index)\n",
    "    evaluate_ridge(X_train.iloc[:, indices])"
   ]
  },
  {
   "cell_type": "code",
   "execution_count": 52,
   "metadata": {},
   "outputs": [
    {
     "name": "stdout",
     "output_type": "stream",
     "text": [
      "best alpha: 70.71380920623035\n",
      "mean error: 0.03105023943991126\n"
     ]
    }
   ],
   "source": [
    "indices_both = list(set(relevant_indices(400, spearman_with_index) + relevant_indices(400, coef_with_index)))\n",
    "evaluate_ridge(X_train.iloc[:, indices_both])\n",
    "pd.to_pickle(df_pheno[-1].iloc[:, :-1].iloc[:, indices_both], \"processed_data/selected_features.pkl\")"
   ]
  },
  {
   "cell_type": "markdown",
   "metadata": {},
   "source": [
    "We note that taking only the SNPs with significant spearman correlation doesn't give better results, but combining some of them with those previously selected does help. Since taking only"
   ]
  },
  {
   "cell_type": "markdown",
   "metadata": {},
   "source": [
    "Test of random forest regressor. As can be seen, it did not perform as well and we decided not to pursue this direction, using ridge regression only in the end."
   ]
  },
  {
   "cell_type": "code",
   "execution_count": 42,
   "metadata": {
    "scrolled": true
   },
   "outputs": [
    {
     "name": "stdout",
     "output_type": "stream",
     "text": [
      "Malaria susceptibility, murine Plasmodium yoelli 17X-lethal (PY17X-L) [0=100% resistant, 1= 100% susceptible], test+score: 0.5753575724464473, number_of_samples: 57\n",
      "Malaria susceptibility, murine Plasmodium yoelli 17X-lethal (PY17X-L) [0=100% resistant, 1= 100% susceptible], test+score: 0.68657994779008, number_of_samples: 57\n",
      "Malaria susceptibility, murine Plasmodium yoelli 17X-lethal (PY17X-L) [0=100% resistant, 1= 100% susceptible], test+score: 0.5786920518322878, number_of_samples: 57\n",
      "Malaria susceptibility, murine Plasmodium yoelli 17X-lethal (PY17X-L) [0=100% resistant, 1= 100% susceptible], test+score: 0.503845055202111, number_of_samples: 57\n",
      "Malaria susceptibility, murine Plasmodium yoelli 17X-lethal (PY17X-L) [0=100% resistant, 1= 100% susceptible], test+score: 0.493124536944389, number_of_samples: 57\n",
      "Malaria susceptibility, murine Plasmodium yoelli 17X-lethal (PY17X-L) [0=100% resistant, 1= 100% susceptible], test+score: 0.03176701281484706, number_of_samples: 57\n",
      "Malaria susceptibility, murine Plasmodium yoelli 17X-lethal (PY17X-L) [0=100% resistant, 1= 100% susceptible], test+score: 0.6961721809799173, number_of_samples: 57\n",
      "Malaria susceptibility, murine Plasmodium yoelli 17X-lethal (PY17X-L) [0=100% resistant, 1= 100% susceptible], test+score: -0.08456021585160167, number_of_samples: 57\n",
      "Malaria susceptibility, murine Plasmodium yoelli 17X-lethal (PY17X-L) [0=100% resistant, 1= 100% susceptible], test+score: 0.5385851910682724, number_of_samples: 57\n",
      "Malaria susceptibility, murine Plasmodium yoelli 17X-lethal (PY17X-L) [0=100% resistant, 1= 100% susceptible], test+score: 0.1296468258495641, number_of_samples: 57\n",
      "Malaria susceptibility, murine Plasmodium yoelli 17X-lethal (PY17X-L) [0=100% resistant, 1= 100% susceptible], test+score: 0.5393713146443366, number_of_samples: 57\n",
      "Malaria susceptibility, murine Plasmodium yoelli 17X-lethal (PY17X-L) [0=100% resistant, 1= 100% susceptible], test+score: 0.4793631549244217, number_of_samples: 57\n",
      "Malaria susceptibility, murine Plasmodium yoelli 17X-lethal (PY17X-L) [0=100% resistant, 1= 100% susceptible], test+score: 0.35395467312416573, number_of_samples: 57\n",
      "Malaria susceptibility, murine Plasmodium yoelli 17X-lethal (PY17X-L) [0=100% resistant, 1= 100% susceptible], test+score: 0.5967566147784777, number_of_samples: 57\n",
      "Malaria susceptibility, murine Plasmodium yoelli 17X-lethal (PY17X-L) [0=100% resistant, 1= 100% susceptible], test+score: 0.38323005039534275, number_of_samples: 57\n",
      "Malaria susceptibility, murine Plasmodium yoelli 17X-lethal (PY17X-L) [0=100% resistant, 1= 100% susceptible], test+score: 0.7221483817665866, number_of_samples: 57\n",
      "Malaria susceptibility, murine Plasmodium yoelli 17X-lethal (PY17X-L) [0=100% resistant, 1= 100% susceptible], test+score: 0.5948312215672887, number_of_samples: 57\n",
      "Malaria susceptibility, murine Plasmodium yoelli 17X-lethal (PY17X-L) [0=100% resistant, 1= 100% susceptible], test+score: 0.6696648360854105, number_of_samples: 57\n",
      "Malaria susceptibility, murine Plasmodium yoelli 17X-lethal (PY17X-L) [0=100% resistant, 1= 100% susceptible], test+score: 0.6168429006327696, number_of_samples: 57\n",
      "Malaria susceptibility, murine Plasmodium yoelli 17X-lethal (PY17X-L) [0=100% resistant, 1= 100% susceptible], test+score: 0.5719983516335452, number_of_samples: 57\n",
      "percentage of positive R^2 scores: 95.0\n"
     ]
    }
   ],
   "source": [
    "from sklearn.ensemble import RandomForestRegressor\n",
    "positive_test_score = 0\n",
    "num_tests = 20\n",
    "for random_state in range(num_tests):\n",
    "    for pheno_idx in malaria_susceptibility_idx:    \n",
    "        X_train, X_test, y_train, y_test = train_test_split(\n",
    "            df_pheno[pheno_idx].iloc[:, :-1].fillna(0), df_pheno[pheno_idx].iloc[:, -1].fillna(0), test_size=0.3, random_state=random_state)\n",
    "\n",
    "        clf = RandomForestRegressor(max_depth=10, random_state=0)\n",
    "        clf.fit(X_train.iloc[:, indices_both], y_train)\n",
    "        test_score = clf.score(X_test.iloc[:, indices_both], y_test)\n",
    "        if test_score > 0:\n",
    "            positive_test_score += 1\n",
    "        print(f\"{df_pheno[pheno_idx].columns[-1]}, test+score: {test_score}, number_of_samples: {len(df_pheno[pheno_idx])}\")\n",
    "print(f\"percentage of positive R^2 scores: {float(positive_test_score) / num_tests * 100}\")"
   ]
  },
  {
   "cell_type": "markdown",
   "metadata": {},
   "source": [
    "Testing the model with only selected features. We see that it performs much better."
   ]
  },
  {
   "cell_type": "code",
   "execution_count": 43,
   "metadata": {
    "scrolled": true
   },
   "outputs": [
    {
     "name": "stdout",
     "output_type": "stream",
     "text": [
      "Malaria susceptibility, murine Plasmodium yoelli 17X-lethal (PY17X-L) [0=100% resistant, 1= 100% susceptible], test+score: 0.8070006754865492, number_of_samples: 57\n",
      "Malaria susceptibility, murine Plasmodium yoelli 17X-lethal (PY17X-L) [0=100% resistant, 1= 100% susceptible], test+score: 0.878495403891756, number_of_samples: 57\n",
      "Malaria susceptibility, murine Plasmodium yoelli 17X-lethal (PY17X-L) [0=100% resistant, 1= 100% susceptible], test+score: 0.7708790128025225, number_of_samples: 57\n",
      "Malaria susceptibility, murine Plasmodium yoelli 17X-lethal (PY17X-L) [0=100% resistant, 1= 100% susceptible], test+score: 0.5744964561652144, number_of_samples: 57\n",
      "Malaria susceptibility, murine Plasmodium yoelli 17X-lethal (PY17X-L) [0=100% resistant, 1= 100% susceptible], test+score: 0.8143591532790926, number_of_samples: 57\n",
      "Malaria susceptibility, murine Plasmodium yoelli 17X-lethal (PY17X-L) [0=100% resistant, 1= 100% susceptible], test+score: 0.7522962378892999, number_of_samples: 57\n",
      "Malaria susceptibility, murine Plasmodium yoelli 17X-lethal (PY17X-L) [0=100% resistant, 1= 100% susceptible], test+score: 0.8694264097625575, number_of_samples: 57\n",
      "Malaria susceptibility, murine Plasmodium yoelli 17X-lethal (PY17X-L) [0=100% resistant, 1= 100% susceptible], test+score: 0.6867869189870281, number_of_samples: 57\n",
      "Malaria susceptibility, murine Plasmodium yoelli 17X-lethal (PY17X-L) [0=100% resistant, 1= 100% susceptible], test+score: 0.7178903723791543, number_of_samples: 57\n",
      "Malaria susceptibility, murine Plasmodium yoelli 17X-lethal (PY17X-L) [0=100% resistant, 1= 100% susceptible], test+score: 0.8038688896357965, number_of_samples: 57\n",
      "Malaria susceptibility, murine Plasmodium yoelli 17X-lethal (PY17X-L) [0=100% resistant, 1= 100% susceptible], test+score: 0.8848267747135751, number_of_samples: 57\n",
      "Malaria susceptibility, murine Plasmodium yoelli 17X-lethal (PY17X-L) [0=100% resistant, 1= 100% susceptible], test+score: 0.7857102854702621, number_of_samples: 57\n",
      "Malaria susceptibility, murine Plasmodium yoelli 17X-lethal (PY17X-L) [0=100% resistant, 1= 100% susceptible], test+score: 0.8499258554047299, number_of_samples: 57\n",
      "Malaria susceptibility, murine Plasmodium yoelli 17X-lethal (PY17X-L) [0=100% resistant, 1= 100% susceptible], test+score: 0.7294450620991959, number_of_samples: 57\n",
      "Malaria susceptibility, murine Plasmodium yoelli 17X-lethal (PY17X-L) [0=100% resistant, 1= 100% susceptible], test+score: 0.758794631213336, number_of_samples: 57\n",
      "Malaria susceptibility, murine Plasmodium yoelli 17X-lethal (PY17X-L) [0=100% resistant, 1= 100% susceptible], test+score: 0.7915007560173091, number_of_samples: 57\n",
      "Malaria susceptibility, murine Plasmodium yoelli 17X-lethal (PY17X-L) [0=100% resistant, 1= 100% susceptible], test+score: 0.7870597048382629, number_of_samples: 57\n",
      "Malaria susceptibility, murine Plasmodium yoelli 17X-lethal (PY17X-L) [0=100% resistant, 1= 100% susceptible], test+score: 0.8860613206700463, number_of_samples: 57\n",
      "Malaria susceptibility, murine Plasmodium yoelli 17X-lethal (PY17X-L) [0=100% resistant, 1= 100% susceptible], test+score: 0.8123123879493143, number_of_samples: 57\n",
      "Malaria susceptibility, murine Plasmodium yoelli 17X-lethal (PY17X-L) [0=100% resistant, 1= 100% susceptible], test+score: 0.8835041798120334, number_of_samples: 57\n",
      "percentage of positive R^2 scores: 100.0\n"
     ]
    }
   ],
   "source": [
    "positive_test_score = 0\n",
    "num_tests = 20\n",
    "for random_state in range(num_tests):\n",
    "    for pheno_idx in malaria_susceptibility_idx:    \n",
    "        X_train, X_test, y_train, y_test = train_test_split(\n",
    "            df_pheno[pheno_idx].iloc[:, :-1].fillna(0), df_pheno[pheno_idx].iloc[:, -1].fillna(0), test_size=0.3, random_state=random_state)\n",
    "\n",
    "        clf = RidgeCV(store_cv_values=True, alphas=[1e-99, 1e-5, 1e-4, 1e-3, 1e-2, 1e-1, 1, 1e2, 1e3, 1e4, 1e5, 1e6, 1e7, 1e8, 1e9, 1e10, 1e11, 1e12]).fit(X_train.iloc[:, indices_both], y_train)\n",
    "        if (clf.alpha_ == 1e12 or clf.alpha_ == 1e-5):\n",
    "            print(clf.alpha_)\n",
    "            print(\"Might need to update alpha\")\n",
    "        test_score = clf.score(X_test.iloc[:, indices_both], y_test)\n",
    "        if test_score > 0:\n",
    "            positive_test_score += 1\n",
    "        print(f\"{df_pheno[pheno_idx].columns[-1]}, test+score: {test_score}, number_of_samples: {len(df_pheno[pheno_idx])}\")\n",
    "print(f\"percentage of positive R^2 scores: {float(positive_test_score) / num_tests * 100}\")"
   ]
  },
  {
   "cell_type": "code",
   "execution_count": 44,
   "metadata": {},
   "outputs": [],
   "source": [
    "X_train, y_train = df_malaria.iloc[:, :-1].fillna(0), df_malaria.iloc[:, -1].fillna(0)"
   ]
  },
  {
   "cell_type": "code",
   "execution_count": 45,
   "metadata": {},
   "outputs": [],
   "source": [
    "clf.fit(X_train.iloc[:, indices_both], y_train);"
   ]
  },
  {
   "cell_type": "code",
   "execution_count": 46,
   "metadata": {},
   "outputs": [
    {
     "data": {
      "text/plain": [
       "Text(0.5, 0, 'malaria susceptibility %')"
      ]
     },
     "execution_count": 46,
     "metadata": {},
     "output_type": "execute_result"
    },
    {
     "data": {
      "image/png": "[encoded data removed]",
      "text/plain": [
       "<Figure size 432x288 with 1 Axes>"
      ]
     },
     "metadata": {
      "needs_background": "light"
     },
     "output_type": "display_data"
    }
   ],
   "source": [
    "# error distribution by mice susceptibility\n",
    "plt.scatter(x=y_train, y=clf.cv_values_[:,0])\n",
    "plt.title(\"Classification error as a function of susceptibility\")\n",
    "plt.ylabel(\"classification error %\")\n",
    "plt.xlabel(\"malaria susceptibility %\")"
   ]
  },
  {
   "cell_type": "markdown",
   "metadata": {},
   "source": [
    "Clearly this model is very accurate on the data"
   ]
  }
 ],
 "metadata": {
  "kernelspec": {
   "display_name": "Python 3",
   "language": "python",
   "name": "python3"
  },
  "language_info": {
   "codemirror_mode": {
    "name": "ipython",
    "version": 3
   },
   "file_extension": ".py",
   "mimetype": "text/x-python",
   "name": "python",
   "nbconvert_exporter": "python",
   "pygments_lexer": "ipython3",
   "version": "3.7.3"
  }
 },
 "nbformat": 4,
 "nbformat_minor": 4
}
