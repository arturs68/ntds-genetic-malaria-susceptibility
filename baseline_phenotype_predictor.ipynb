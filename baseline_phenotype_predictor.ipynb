{
 "cells": [
  {
   "cell_type": "code",
   "execution_count": 103,
   "metadata": {},
   "outputs": [],
   "source": [
    "import pandas as pd\n",
    "import glob\n",
    "import matplotlib.pyplot as plt\n",
    "import numpy as np\n",
    "import os\n",
    "import re"
   ]
  },
  {
   "cell_type": "code",
   "execution_count": 104,
   "metadata": {},
   "outputs": [],
   "source": [
    "slash = os.sep # Used for compatibility between different OS\n",
    "def load_df(path, encoding=\"utf-8\"):\n",
    "    loaded_pd = pd.read_csv(path, sep=\"\\t\", encoding=encoding)\n",
    "    pd_name = path.split(slash)[-1].split(\".\")[0]\n",
    "    return pd_name, loaded_pd"
   ]
  },
  {
   "cell_type": "code",
   "execution_count": 105,
   "metadata": {},
   "outputs": [],
   "source": [
    "paths_expression = glob.glob(\"data/expression data/*.txt\")"
   ]
  },
  {
   "cell_type": "code",
   "execution_count": 106,
   "metadata": {},
   "outputs": [],
   "source": [
    "expression_data = []\n",
    "for path in paths_expression:\n",
    "    path = re.compile(r\"[\\/]\").split(path)\n",
    "    # join the path using the correct slash symbol:\n",
    "    path = os.path.join(*path)\n",
    "    expression_data.append(load_df(path))"
   ]
  },
  {
   "cell_type": "code",
   "execution_count": 107,
   "metadata": {},
   "outputs": [],
   "source": [
    "paths_other = glob.glob(\"data/*.txt\")\n",
    "aligner_path = os.path.join(\"data\", \"phenotypes_id_aligner.txt\")\n",
    "other_data = []\n",
    "for path in paths_other:\n",
    "    path = re.compile(r\"[\\/]\").split(path)\n",
    "    # join the path using the correct slash symbol:\n",
    "    path = os.path.join(*path)\n",
    "    if path == aligner_path:\n",
    "        other_data.append(load_df(path, encoding=\"latin\"))\n",
    "    else:\n",
    "        other_data.append(load_df(path))"
   ]
  },
  {
   "cell_type": "markdown",
   "metadata": {},
   "source": [
    "## We have loaded the dataframes to lists\n",
    "\n",
    "Each list contains tuples (name, dataframe)\n",
    "- expression_data: tables with gene expressions\n",
    "- other_data: all the remaining tables"
   ]
  },
  {
   "cell_type": "code",
   "execution_count": 108,
   "metadata": {},
   "outputs": [
    {
     "name": "stdout",
     "output_type": "stream",
     "text": [
      "97\n"
     ]
    }
   ],
   "source": [
    "# Compute the total set of mice strains present in the expressions dataframes\n",
    "mice_set = set()\n",
    "\n",
    "for i in range(len(expression_data)):\n",
    "    df = expression_data[i][1].set_index('gene')\n",
    "    mice_set.update(list(df.columns))\n",
    "\n",
    "# Compute the total list of mice strains sorted alphabetically\n",
    "mice_list = sorted(list(mice_set))\n",
    "print(len(mice_list))"
   ]
  },
  {
   "cell_type": "code",
   "execution_count": 109,
   "metadata": {},
   "outputs": [],
   "source": [
    "# Create a list of dataframes that always contain all mice (with NaN values if the mice are not originally present)\n",
    "df_list = []\n",
    "\n",
    "for i in range(len(expression_data)):\n",
    "    df = expression_data[i][1].set_index('gene')\n",
    "    # standardize to fight the issue of different means and deviations - to make all of the values comparable\n",
    "    df = df.sub(df.mean(1), axis=0).div(df.std(1), axis=0)\n",
    "    missing_mice = mice_set - set(df.columns)\n",
    "    for mouse in missing_mice:\n",
    "        df[mouse] = np.NaN\n",
    "        \n",
    "    # Order the columns alphabetically\n",
    "    df = df[mice_list]\n",
    "    df.reset_index(inplace=True)\n",
    "    df[\"gene\"] = df[\"gene\"].apply(lambda name: name + \"_\" + expression_data[i][0])\n",
    "    df.rename(columns={\"gene\": \"strain\"}, inplace=True)\n",
    "    df.set_index(\"strain\", inplace=True)\n",
    "    df_list.append(df.transpose())"
   ]
  },
  {
   "cell_type": "code",
   "execution_count": 110,
   "metadata": {},
   "outputs": [],
   "source": [
    "base_df = df_list[0]\n",
    "for other_df in df_list[1:]:\n",
    "    base_df = base_df.join(other_df)"
   ]
  },
  {
   "cell_type": "markdown",
   "metadata": {},
   "source": [
    "We note that all in all the tissues apart from [9, 14, 16, 17, 22, 26, 27, 30, 31, 32, 34, 35, 37, 38, 39] the values appear to follow normal distribution. To make all of them comparable we standardize them by (SNP, tissue)"
   ]
  },
  {
   "cell_type": "code",
   "execution_count": 111,
   "metadata": {},
   "outputs": [],
   "source": [
    "gene_tissue_num = len(base_df.columns)"
   ]
  },
  {
   "cell_type": "code",
   "execution_count": 112,
   "metadata": {},
   "outputs": [],
   "source": [
    "# we remove the mice for which we have no expression data whatsoever\n",
    "base_df.drop(base_df[base_df.isnull().sum(axis=1) == gene_tissue_num].index, inplace=True)"
   ]
  },
  {
   "cell_type": "markdown",
   "metadata": {},
   "source": [
    "We remove the (SNP, tissue) for which we do not have data for at least 4 mice"
   ]
  },
  {
   "cell_type": "code",
   "execution_count": 113,
   "metadata": {},
   "outputs": [],
   "source": [
    "strains_num = len(base_df)"
   ]
  },
  {
   "cell_type": "code",
   "execution_count": 114,
   "metadata": {},
   "outputs": [],
   "source": [
    "columns_to_drop = base_df.columns[base_df.isnull().sum(axis=0) > strains_num - 4]"
   ]
  },
  {
   "cell_type": "code",
   "execution_count": 115,
   "metadata": {},
   "outputs": [],
   "source": [
    "base_df.drop(columns_to_drop, axis=1, inplace=True)"
   ]
  },
  {
   "cell_type": "code",
   "execution_count": 116,
   "metadata": {},
   "outputs": [],
   "source": [
    "base_df.to_pickle(\"processed_data/expression_standardized_cleaned.pkl\")"
   ]
  },
  {
   "cell_type": "code",
   "execution_count": 117,
   "metadata": {},
   "outputs": [],
   "source": [
    "phenotype_present = pd.read_pickle(\"processed_data/pheno_joined_present.pkl\")"
   ]
  },
  {
   "cell_type": "code",
   "execution_count": 118,
   "metadata": {},
   "outputs": [],
   "source": [
    "strains_with_pheno = phenotype_present.columns[:-2]"
   ]
  },
  {
   "cell_type": "code",
   "execution_count": 119,
   "metadata": {},
   "outputs": [
    {
     "data": {
      "text/html": [
       "<div>\n",
       "<style scoped>\n",
       "    .dataframe tbody tr th:only-of-type {\n",
       "        vertical-align: middle;\n",
       "    }\n",
       "\n",
       "    .dataframe tbody tr th {\n",
       "        vertical-align: top;\n",
       "    }\n",
       "\n",
       "    .dataframe thead th {\n",
       "        text-align: right;\n",
       "    }\n",
       "</style>\n",
       "<table border=\"1\" class=\"dataframe\">\n",
       "  <thead>\n",
       "    <tr style=\"text-align: right;\">\n",
       "      <th></th>\n",
       "      <th>B6D2F1</th>\n",
       "      <th>BXD1</th>\n",
       "      <th>BXD100</th>\n",
       "      <th>BXD101</th>\n",
       "      <th>BXD102</th>\n",
       "      <th>BXD11</th>\n",
       "      <th>BXD12</th>\n",
       "      <th>BXD13</th>\n",
       "      <th>BXD14</th>\n",
       "      <th>BXD15</th>\n",
       "      <th>...</th>\n",
       "      <th>BXD9</th>\n",
       "      <th>BXD90</th>\n",
       "      <th>BXD93</th>\n",
       "      <th>BXD94</th>\n",
       "      <th>BXD95</th>\n",
       "      <th>BXD98</th>\n",
       "      <th>BXD99</th>\n",
       "      <th>C57BL.6J</th>\n",
       "      <th>D2B6F1</th>\n",
       "      <th>DBA.2J</th>\n",
       "    </tr>\n",
       "    <tr>\n",
       "      <th>strain</th>\n",
       "      <th></th>\n",
       "      <th></th>\n",
       "      <th></th>\n",
       "      <th></th>\n",
       "      <th></th>\n",
       "      <th></th>\n",
       "      <th></th>\n",
       "      <th></th>\n",
       "      <th></th>\n",
       "      <th></th>\n",
       "      <th></th>\n",
       "      <th></th>\n",
       "      <th></th>\n",
       "      <th></th>\n",
       "      <th></th>\n",
       "      <th></th>\n",
       "      <th></th>\n",
       "      <th></th>\n",
       "      <th></th>\n",
       "      <th></th>\n",
       "      <th></th>\n",
       "    </tr>\n",
       "  </thead>\n",
       "  <tbody>\n",
       "    <tr>\n",
       "      <th>Nmt1_10338077_Adrenal_Female</th>\n",
       "      <td>1.616703</td>\n",
       "      <td>-0.292454</td>\n",
       "      <td>0.139235</td>\n",
       "      <td>-1.788163</td>\n",
       "      <td>-1.143670</td>\n",
       "      <td>-0.809264</td>\n",
       "      <td>-1.210552</td>\n",
       "      <td>NaN</td>\n",
       "      <td>-1.769922</td>\n",
       "      <td>NaN</td>\n",
       "      <td>...</td>\n",
       "      <td>NaN</td>\n",
       "      <td>-0.626860</td>\n",
       "      <td>NaN</td>\n",
       "      <td>NaN</td>\n",
       "      <td>1.428220</td>\n",
       "      <td>NaN</td>\n",
       "      <td>1.154614</td>\n",
       "      <td>-0.164771</td>\n",
       "      <td>-0.055329</td>\n",
       "      <td>-0.462697</td>\n",
       "    </tr>\n",
       "    <tr>\n",
       "      <th>Psmb5_10338095_Adrenal_Female</th>\n",
       "      <td>2.432203</td>\n",
       "      <td>-1.828351</td>\n",
       "      <td>0.080705</td>\n",
       "      <td>0.416633</td>\n",
       "      <td>1.043426</td>\n",
       "      <td>-0.111840</td>\n",
       "      <td>0.203605</td>\n",
       "      <td>NaN</td>\n",
       "      <td>-0.582959</td>\n",
       "      <td>NaN</td>\n",
       "      <td>...</td>\n",
       "      <td>NaN</td>\n",
       "      <td>-1.402296</td>\n",
       "      <td>NaN</td>\n",
       "      <td>NaN</td>\n",
       "      <td>-0.824663</td>\n",
       "      <td>NaN</td>\n",
       "      <td>0.617371</td>\n",
       "      <td>0.887752</td>\n",
       "      <td>0.121672</td>\n",
       "      <td>-0.869727</td>\n",
       "    </tr>\n",
       "    <tr>\n",
       "      <th>Hdac5_10338098_Adrenal_Female</th>\n",
       "      <td>1.170324</td>\n",
       "      <td>0.815264</td>\n",
       "      <td>-0.924229</td>\n",
       "      <td>2.972474</td>\n",
       "      <td>-0.646745</td>\n",
       "      <td>0.639226</td>\n",
       "      <td>-1.061479</td>\n",
       "      <td>NaN</td>\n",
       "      <td>-0.431919</td>\n",
       "      <td>NaN</td>\n",
       "      <td>...</td>\n",
       "      <td>NaN</td>\n",
       "      <td>-0.658680</td>\n",
       "      <td>NaN</td>\n",
       "      <td>NaN</td>\n",
       "      <td>-0.488610</td>\n",
       "      <td>NaN</td>\n",
       "      <td>1.767062</td>\n",
       "      <td>0.072325</td>\n",
       "      <td>-0.754158</td>\n",
       "      <td>2.518953</td>\n",
       "    </tr>\n",
       "    <tr>\n",
       "      <th>Dlg1_10338109_Adrenal_Female</th>\n",
       "      <td>0.225905</td>\n",
       "      <td>0.355846</td>\n",
       "      <td>0.986802</td>\n",
       "      <td>0.399015</td>\n",
       "      <td>0.542909</td>\n",
       "      <td>-1.269724</td>\n",
       "      <td>1.497845</td>\n",
       "      <td>NaN</td>\n",
       "      <td>0.929244</td>\n",
       "      <td>NaN</td>\n",
       "      <td>...</td>\n",
       "      <td>NaN</td>\n",
       "      <td>-1.264056</td>\n",
       "      <td>NaN</td>\n",
       "      <td>NaN</td>\n",
       "      <td>-1.472920</td>\n",
       "      <td>NaN</td>\n",
       "      <td>0.997267</td>\n",
       "      <td>0.753954</td>\n",
       "      <td>0.342765</td>\n",
       "      <td>-1.237457</td>\n",
       "    </tr>\n",
       "    <tr>\n",
       "      <th>Wars_10338116_Adrenal_Female</th>\n",
       "      <td>1.074278</td>\n",
       "      <td>-0.580257</td>\n",
       "      <td>0.226120</td>\n",
       "      <td>-0.906150</td>\n",
       "      <td>0.836125</td>\n",
       "      <td>-0.158267</td>\n",
       "      <td>-0.479982</td>\n",
       "      <td>NaN</td>\n",
       "      <td>-0.947932</td>\n",
       "      <td>NaN</td>\n",
       "      <td>...</td>\n",
       "      <td>NaN</td>\n",
       "      <td>-1.014781</td>\n",
       "      <td>NaN</td>\n",
       "      <td>NaN</td>\n",
       "      <td>0.276257</td>\n",
       "      <td>NaN</td>\n",
       "      <td>-0.262720</td>\n",
       "      <td>1.162018</td>\n",
       "      <td>1.479555</td>\n",
       "      <td>1.312431</td>\n",
       "    </tr>\n",
       "    <tr>\n",
       "      <th>...</th>\n",
       "      <td>...</td>\n",
       "      <td>...</td>\n",
       "      <td>...</td>\n",
       "      <td>...</td>\n",
       "      <td>...</td>\n",
       "      <td>...</td>\n",
       "      <td>...</td>\n",
       "      <td>...</td>\n",
       "      <td>...</td>\n",
       "      <td>...</td>\n",
       "      <td>...</td>\n",
       "      <td>...</td>\n",
       "      <td>...</td>\n",
       "      <td>...</td>\n",
       "      <td>...</td>\n",
       "      <td>...</td>\n",
       "      <td>...</td>\n",
       "      <td>...</td>\n",
       "      <td>...</td>\n",
       "      <td>...</td>\n",
       "      <td>...</td>\n",
       "    </tr>\n",
       "    <tr>\n",
       "      <th>Alg3_1460742_at_VTA</th>\n",
       "      <td>NaN</td>\n",
       "      <td>-1.815058</td>\n",
       "      <td>NaN</td>\n",
       "      <td>NaN</td>\n",
       "      <td>NaN</td>\n",
       "      <td>-0.652600</td>\n",
       "      <td>0.116271</td>\n",
       "      <td>NaN</td>\n",
       "      <td>-0.158326</td>\n",
       "      <td>-0.414616</td>\n",
       "      <td>...</td>\n",
       "      <td>0.464093</td>\n",
       "      <td>-1.586228</td>\n",
       "      <td>NaN</td>\n",
       "      <td>NaN</td>\n",
       "      <td>NaN</td>\n",
       "      <td>-1.146873</td>\n",
       "      <td>NaN</td>\n",
       "      <td>-0.057641</td>\n",
       "      <td>NaN</td>\n",
       "      <td>0.400020</td>\n",
       "    </tr>\n",
       "    <tr>\n",
       "      <th>Tigd5_1460743_at_VTA</th>\n",
       "      <td>NaN</td>\n",
       "      <td>-1.088703</td>\n",
       "      <td>NaN</td>\n",
       "      <td>NaN</td>\n",
       "      <td>NaN</td>\n",
       "      <td>-0.619871</td>\n",
       "      <td>-1.313742</td>\n",
       "      <td>NaN</td>\n",
       "      <td>-0.844910</td>\n",
       "      <td>0.514701</td>\n",
       "      <td>...</td>\n",
       "      <td>0.833506</td>\n",
       "      <td>-1.144963</td>\n",
       "      <td>NaN</td>\n",
       "      <td>NaN</td>\n",
       "      <td>NaN</td>\n",
       "      <td>-0.751144</td>\n",
       "      <td>NaN</td>\n",
       "      <td>0.533454</td>\n",
       "      <td>NaN</td>\n",
       "      <td>0.880390</td>\n",
       "    </tr>\n",
       "    <tr>\n",
       "      <th>Nek9_1460744_at_VTA</th>\n",
       "      <td>NaN</td>\n",
       "      <td>0.321395</td>\n",
       "      <td>NaN</td>\n",
       "      <td>NaN</td>\n",
       "      <td>NaN</td>\n",
       "      <td>0.002157</td>\n",
       "      <td>-0.946689</td>\n",
       "      <td>NaN</td>\n",
       "      <td>-0.272742</td>\n",
       "      <td>-0.680658</td>\n",
       "      <td>...</td>\n",
       "      <td>1.571744</td>\n",
       "      <td>-2.241376</td>\n",
       "      <td>NaN</td>\n",
       "      <td>NaN</td>\n",
       "      <td>NaN</td>\n",
       "      <td>0.773649</td>\n",
       "      <td>NaN</td>\n",
       "      <td>-0.042182</td>\n",
       "      <td>NaN</td>\n",
       "      <td>-0.015578</td>\n",
       "    </tr>\n",
       "    <tr>\n",
       "      <th>A630098A13Rik_1460745_at_VTA</th>\n",
       "      <td>NaN</td>\n",
       "      <td>0.593960</td>\n",
       "      <td>NaN</td>\n",
       "      <td>NaN</td>\n",
       "      <td>NaN</td>\n",
       "      <td>2.816389</td>\n",
       "      <td>-0.569812</td>\n",
       "      <td>NaN</td>\n",
       "      <td>-1.200501</td>\n",
       "      <td>-0.487222</td>\n",
       "      <td>...</td>\n",
       "      <td>-0.599845</td>\n",
       "      <td>-1.605945</td>\n",
       "      <td>NaN</td>\n",
       "      <td>NaN</td>\n",
       "      <td>NaN</td>\n",
       "      <td>1.254682</td>\n",
       "      <td>NaN</td>\n",
       "      <td>-0.051746</td>\n",
       "      <td>NaN</td>\n",
       "      <td>0.331173</td>\n",
       "    </tr>\n",
       "    <tr>\n",
       "      <th>Fignl1_1460746_at_VTA</th>\n",
       "      <td>NaN</td>\n",
       "      <td>0.208224</td>\n",
       "      <td>NaN</td>\n",
       "      <td>NaN</td>\n",
       "      <td>NaN</td>\n",
       "      <td>-1.362820</td>\n",
       "      <td>-0.820844</td>\n",
       "      <td>NaN</td>\n",
       "      <td>-0.093636</td>\n",
       "      <td>0.873688</td>\n",
       "      <td>...</td>\n",
       "      <td>1.868454</td>\n",
       "      <td>-0.320031</td>\n",
       "      <td>NaN</td>\n",
       "      <td>NaN</td>\n",
       "      <td>NaN</td>\n",
       "      <td>-0.217124</td>\n",
       "      <td>NaN</td>\n",
       "      <td>-0.265147</td>\n",
       "      <td>NaN</td>\n",
       "      <td>-0.340612</td>\n",
       "    </tr>\n",
       "  </tbody>\n",
       "</table>\n",
       "<p>1201231 rows × 86 columns</p>\n",
       "</div>"
      ],
      "text/plain": [
       "                                 B6D2F1      BXD1    BXD100    BXD101  \\\n",
       "strain                                                                  \n",
       "Nmt1_10338077_Adrenal_Female   1.616703 -0.292454  0.139235 -1.788163   \n",
       "Psmb5_10338095_Adrenal_Female  2.432203 -1.828351  0.080705  0.416633   \n",
       "Hdac5_10338098_Adrenal_Female  1.170324  0.815264 -0.924229  2.972474   \n",
       "Dlg1_10338109_Adrenal_Female   0.225905  0.355846  0.986802  0.399015   \n",
       "Wars_10338116_Adrenal_Female   1.074278 -0.580257  0.226120 -0.906150   \n",
       "...                                 ...       ...       ...       ...   \n",
       "Alg3_1460742_at_VTA                 NaN -1.815058       NaN       NaN   \n",
       "Tigd5_1460743_at_VTA                NaN -1.088703       NaN       NaN   \n",
       "Nek9_1460744_at_VTA                 NaN  0.321395       NaN       NaN   \n",
       "A630098A13Rik_1460745_at_VTA        NaN  0.593960       NaN       NaN   \n",
       "Fignl1_1460746_at_VTA               NaN  0.208224       NaN       NaN   \n",
       "\n",
       "                                 BXD102     BXD11     BXD12  BXD13     BXD14  \\\n",
       "strain                                                                         \n",
       "Nmt1_10338077_Adrenal_Female  -1.143670 -0.809264 -1.210552    NaN -1.769922   \n",
       "Psmb5_10338095_Adrenal_Female  1.043426 -0.111840  0.203605    NaN -0.582959   \n",
       "Hdac5_10338098_Adrenal_Female -0.646745  0.639226 -1.061479    NaN -0.431919   \n",
       "Dlg1_10338109_Adrenal_Female   0.542909 -1.269724  1.497845    NaN  0.929244   \n",
       "Wars_10338116_Adrenal_Female   0.836125 -0.158267 -0.479982    NaN -0.947932   \n",
       "...                                 ...       ...       ...    ...       ...   \n",
       "Alg3_1460742_at_VTA                 NaN -0.652600  0.116271    NaN -0.158326   \n",
       "Tigd5_1460743_at_VTA                NaN -0.619871 -1.313742    NaN -0.844910   \n",
       "Nek9_1460744_at_VTA                 NaN  0.002157 -0.946689    NaN -0.272742   \n",
       "A630098A13Rik_1460745_at_VTA        NaN  2.816389 -0.569812    NaN -1.200501   \n",
       "Fignl1_1460746_at_VTA               NaN -1.362820 -0.820844    NaN -0.093636   \n",
       "\n",
       "                                  BXD15  ...      BXD9     BXD90  BXD93  \\\n",
       "strain                                   ...                              \n",
       "Nmt1_10338077_Adrenal_Female        NaN  ...       NaN -0.626860    NaN   \n",
       "Psmb5_10338095_Adrenal_Female       NaN  ...       NaN -1.402296    NaN   \n",
       "Hdac5_10338098_Adrenal_Female       NaN  ...       NaN -0.658680    NaN   \n",
       "Dlg1_10338109_Adrenal_Female        NaN  ...       NaN -1.264056    NaN   \n",
       "Wars_10338116_Adrenal_Female        NaN  ...       NaN -1.014781    NaN   \n",
       "...                                 ...  ...       ...       ...    ...   \n",
       "Alg3_1460742_at_VTA           -0.414616  ...  0.464093 -1.586228    NaN   \n",
       "Tigd5_1460743_at_VTA           0.514701  ...  0.833506 -1.144963    NaN   \n",
       "Nek9_1460744_at_VTA           -0.680658  ...  1.571744 -2.241376    NaN   \n",
       "A630098A13Rik_1460745_at_VTA  -0.487222  ... -0.599845 -1.605945    NaN   \n",
       "Fignl1_1460746_at_VTA          0.873688  ...  1.868454 -0.320031    NaN   \n",
       "\n",
       "                               BXD94     BXD95     BXD98     BXD99  C57BL.6J  \\\n",
       "strain                                                                         \n",
       "Nmt1_10338077_Adrenal_Female     NaN  1.428220       NaN  1.154614 -0.164771   \n",
       "Psmb5_10338095_Adrenal_Female    NaN -0.824663       NaN  0.617371  0.887752   \n",
       "Hdac5_10338098_Adrenal_Female    NaN -0.488610       NaN  1.767062  0.072325   \n",
       "Dlg1_10338109_Adrenal_Female     NaN -1.472920       NaN  0.997267  0.753954   \n",
       "Wars_10338116_Adrenal_Female     NaN  0.276257       NaN -0.262720  1.162018   \n",
       "...                              ...       ...       ...       ...       ...   \n",
       "Alg3_1460742_at_VTA              NaN       NaN -1.146873       NaN -0.057641   \n",
       "Tigd5_1460743_at_VTA             NaN       NaN -0.751144       NaN  0.533454   \n",
       "Nek9_1460744_at_VTA              NaN       NaN  0.773649       NaN -0.042182   \n",
       "A630098A13Rik_1460745_at_VTA     NaN       NaN  1.254682       NaN -0.051746   \n",
       "Fignl1_1460746_at_VTA            NaN       NaN -0.217124       NaN -0.265147   \n",
       "\n",
       "                                 D2B6F1    DBA.2J  \n",
       "strain                                             \n",
       "Nmt1_10338077_Adrenal_Female  -0.055329 -0.462697  \n",
       "Psmb5_10338095_Adrenal_Female  0.121672 -0.869727  \n",
       "Hdac5_10338098_Adrenal_Female -0.754158  2.518953  \n",
       "Dlg1_10338109_Adrenal_Female   0.342765 -1.237457  \n",
       "Wars_10338116_Adrenal_Female   1.479555  1.312431  \n",
       "...                                 ...       ...  \n",
       "Alg3_1460742_at_VTA                 NaN  0.400020  \n",
       "Tigd5_1460743_at_VTA                NaN  0.880390  \n",
       "Nek9_1460744_at_VTA                 NaN -0.015578  \n",
       "A630098A13Rik_1460745_at_VTA        NaN  0.331173  \n",
       "Fignl1_1460746_at_VTA               NaN -0.340612  \n",
       "\n",
       "[1201231 rows x 86 columns]"
      ]
     },
     "execution_count": 119,
     "metadata": {},
     "output_type": "execute_result"
    }
   ],
   "source": [
    "base_df = base_df.transpose()\n",
    "base_df.rename(columns={\"strain\": \"SNP\"})"
   ]
  },
  {
   "cell_type": "code",
   "execution_count": 120,
   "metadata": {},
   "outputs": [],
   "source": [
    "strain_with_pheno = []\n",
    "for index, row in phenotype_present.iterrows():\n",
    "    strain_with_pheno.append(row[~row.isnull()].index.tolist()[:-2])"
   ]
  },
  {
   "cell_type": "markdown",
   "metadata": {},
   "source": [
    "# Malaria Susceptibility regression baseline"
   ]
  },
  {
   "cell_type": "markdown",
   "metadata": {},
   "source": [
    "We decide to replace the missing values with mean. This is for simplicity."
   ]
  },
  {
   "cell_type": "code",
   "execution_count": 121,
   "metadata": {},
   "outputs": [],
   "source": [
    "df_pheno = []\n",
    "base_df = base_df.T\n",
    "for index, row in phenotype_present.iterrows():\n",
    "    row = row[~row.isna()]\n",
    "    row_df = pd.DataFrame(row)\n",
    "    column_name = row_df.columns[0]\n",
    "    row_df.rename(columns={column_name: row[\"Shown_pheno\"]}, inplace=True)\n",
    "    df_pheno.append(base_df.join(row_df, how=\"inner\"))"
   ]
  },
  {
   "cell_type": "code",
   "execution_count": 122,
   "metadata": {},
   "outputs": [],
   "source": [
    "from sklearn.linear_model import RidgeCV\n",
    "from sklearn.model_selection import train_test_split"
   ]
  },
  {
   "cell_type": "code",
   "execution_count": 123,
   "metadata": {},
   "outputs": [],
   "source": [
    "pheno_idx_of_interest = [0, 1, 2, 3, -1, -2]\n",
    "malaria_susceptibility_idx = [-1]"
   ]
  },
  {
   "cell_type": "code",
   "execution_count": 124,
   "metadata": {
    "scrolled": true
   },
   "outputs": [
    {
     "name": "stdout",
     "output_type": "stream",
     "text": [
      "Malaria susceptibility, murine Plasmodium yoelli 17X-lethal (PY17X-L) [0=100% resistant, 1= 100% susceptible], test+score: 0.10180054576041642, number_of_samples: 57\n",
      "Malaria susceptibility, murine Plasmodium yoelli 17X-lethal (PY17X-L) [0=100% resistant, 1= 100% susceptible], test+score: 0.13969175139595902, number_of_samples: 57\n",
      "Malaria susceptibility, murine Plasmodium yoelli 17X-lethal (PY17X-L) [0=100% resistant, 1= 100% susceptible], test+score: 0.12795961323819316, number_of_samples: 57\n",
      "Malaria susceptibility, murine Plasmodium yoelli 17X-lethal (PY17X-L) [0=100% resistant, 1= 100% susceptible], test+score: 0.16958417245691937, number_of_samples: 57\n",
      "Malaria susceptibility, murine Plasmodium yoelli 17X-lethal (PY17X-L) [0=100% resistant, 1= 100% susceptible], test+score: 0.2751187703390844, number_of_samples: 57\n",
      "Malaria susceptibility, murine Plasmodium yoelli 17X-lethal (PY17X-L) [0=100% resistant, 1= 100% susceptible], test+score: -0.07999826243561435, number_of_samples: 57\n",
      "Malaria susceptibility, murine Plasmodium yoelli 17X-lethal (PY17X-L) [0=100% resistant, 1= 100% susceptible], test+score: 0.1098312347927891, number_of_samples: 57\n",
      "Malaria susceptibility, murine Plasmodium yoelli 17X-lethal (PY17X-L) [0=100% resistant, 1= 100% susceptible], test+score: -0.6661262229036198, number_of_samples: 57\n",
      "Malaria susceptibility, murine Plasmodium yoelli 17X-lethal (PY17X-L) [0=100% resistant, 1= 100% susceptible], test+score: 0.2894069356357679, number_of_samples: 57\n",
      "Malaria susceptibility, murine Plasmodium yoelli 17X-lethal (PY17X-L) [0=100% resistant, 1= 100% susceptible], test+score: 0.33853471560732484, number_of_samples: 57\n",
      "Malaria susceptibility, murine Plasmodium yoelli 17X-lethal (PY17X-L) [0=100% resistant, 1= 100% susceptible], test+score: 0.06052344401344656, number_of_samples: 57\n",
      "Malaria susceptibility, murine Plasmodium yoelli 17X-lethal (PY17X-L) [0=100% resistant, 1= 100% susceptible], test+score: 0.08267666553648856, number_of_samples: 57\n",
      "Malaria susceptibility, murine Plasmodium yoelli 17X-lethal (PY17X-L) [0=100% resistant, 1= 100% susceptible], test+score: 0.1521123745591042, number_of_samples: 57\n",
      "Malaria susceptibility, murine Plasmodium yoelli 17X-lethal (PY17X-L) [0=100% resistant, 1= 100% susceptible], test+score: 0.028149683328052233, number_of_samples: 57\n",
      "Malaria susceptibility, murine Plasmodium yoelli 17X-lethal (PY17X-L) [0=100% resistant, 1= 100% susceptible], test+score: 0.2284067504137933, number_of_samples: 57\n",
      "Malaria susceptibility, murine Plasmodium yoelli 17X-lethal (PY17X-L) [0=100% resistant, 1= 100% susceptible], test+score: 0.12033675111616184, number_of_samples: 57\n",
      "Malaria susceptibility, murine Plasmodium yoelli 17X-lethal (PY17X-L) [0=100% resistant, 1= 100% susceptible], test+score: 0.1761320624635837, number_of_samples: 57\n",
      "Malaria susceptibility, murine Plasmodium yoelli 17X-lethal (PY17X-L) [0=100% resistant, 1= 100% susceptible], test+score: 0.28444225023479586, number_of_samples: 57\n",
      "Malaria susceptibility, murine Plasmodium yoelli 17X-lethal (PY17X-L) [0=100% resistant, 1= 100% susceptible], test+score: 0.12909981194415365, number_of_samples: 57\n",
      "Malaria susceptibility, murine Plasmodium yoelli 17X-lethal (PY17X-L) [0=100% resistant, 1= 100% susceptible], test+score: -0.01821484671753315, number_of_samples: 57\n",
      "percentage of positive R^2 scores: 85.0\n"
     ]
    }
   ],
   "source": [
    "import random\n",
    "positive_test_score = 0\n",
    "num_tests = 20\n",
    "for random_state in range(num_tests):\n",
    "    for pheno_idx in malaria_susceptibility_idx:    \n",
    "        X_train, X_test, y_train, y_test = train_test_split(\n",
    "            df_pheno[pheno_idx].iloc[:, :-1].fillna(0), df_pheno[pheno_idx].iloc[:, -1].fillna(0), test_size=0.3, random_state=random_state)\n",
    "\n",
    "        clf = RidgeCV(alphas=[1e-99, 1e-5, 1e-4, 1e-3, 1e-2, 1e-1, 1, 1e2, 1e3, 1e4, 1e5, 1e6, 1e7, 1e8, 1e9, 1e10, 1e11, 1e12]).fit(X_train, y_train)\n",
    "        if (clf.alpha_ == 1e12 or clf.alpha_ == 1e-5):\n",
    "            print(clf.alpha_)\n",
    "            print(\"Might need to update alpha\")\n",
    "        test_score = clf.score(X_test, y_test)\n",
    "        if test_score > 0:\n",
    "            positive_test_score += 1\n",
    "        print(f\"{df_pheno[pheno_idx].columns[-1]}, test+score: {test_score}, number_of_samples: {len(df_pheno[pheno_idx])}\")\n",
    "print(f\"percentage of positive R^2 scores: {float(positive_test_score) / num_tests * 100}\")"
   ]
  },
  {
   "cell_type": "markdown",
   "metadata": {},
   "source": [
    "We conclude that The ridge regression classifier does better than it would by always guessing the expected value, so it is a good baseline and the phenotype appears to be somewhat predictible give the gene expression data."
   ]
  },
  {
   "cell_type": "code",
   "execution_count": 125,
   "metadata": {},
   "outputs": [],
   "source": [
    "# we compare ridge regression with expected value error\n",
    "df_malaria = df_pheno[-1]"
   ]
  },
  {
   "cell_type": "code",
   "execution_count": 126,
   "metadata": {},
   "outputs": [],
   "source": [
    "df_malaria.to_pickle(\"processed_data/malaria_susceptibility.pkl\")"
   ]
  },
  {
   "cell_type": "code",
   "execution_count": 127,
   "metadata": {},
   "outputs": [
    {
     "name": "stdout",
     "output_type": "stream",
     "text": [
      "best alpha: 7033.794794794795\n"
     ]
    }
   ],
   "source": [
    "X_train, y_train = df_malaria.iloc[:, :-1].fillna(0), df_malaria.iloc[:, -1].fillna(0)\n",
    "clf_alpha = RidgeCV(alphas=np.linspace(7000, 7049, 1000), store_cv_values=True).fit(X_train, y_train)\n",
    "print(f\"best alpha: {clf_alpha.alpha_}\")"
   ]
  },
  {
   "cell_type": "code",
   "execution_count": 128,
   "metadata": {},
   "outputs": [
    {
     "name": "stdout",
     "output_type": "stream",
     "text": [
      "Malaria susceptibility, murine Plasmodium yoelli 17X-lethal (PY17X-L) [0=100% resistant, 1= 100% susceptible], number_of_samples: 57\n",
      "mean error: 0.11434224449086205\n",
      "mean error for completely susceptible mice: 0.06620653401697622\n",
      "mean error for somewhat resistant mice: 0.16419708748167236\n"
     ]
    }
   ],
   "source": [
    "clf = RidgeCV(alphas=[clf_alpha.alpha_], store_cv_values=True).fit(X_train, y_train)\n",
    "\n",
    "print(f\"{df_malaria.columns[-1]}, number_of_samples: {len(df_malaria)}\")\n",
    "print(f\"mean error: {clf.cv_values_.mean()}\")\n",
    "print(f\"mean error for completely susceptible mice: {clf.cv_values_[np.where(y_train == 1.0)[0]].mean()}\")\n",
    "print(f\"mean error for somewhat resistant mice: {clf.cv_values_[np.where(y_train != 1.0)[0]].mean()}\")"
   ]
  },
  {
   "cell_type": "code",
   "execution_count": 129,
   "metadata": {},
   "outputs": [
    {
     "data": {
      "text/plain": [
       "Text(0.5, 0, 'malaria susceptibility %')"
      ]
     },
     "execution_count": 129,
     "metadata": {},
     "output_type": "execute_result"
    },
    {
     "data": {
      "image/png": "[encoded data removed]",
      "text/plain": [
       "<Figure size 432x288 with 1 Axes>"
      ]
     },
     "metadata": {
      "needs_background": "light"
     },
     "output_type": "display_data"
    }
   ],
   "source": [
    "# error distribution by mice susceptibility\n",
    "plt.scatter(x=y_train, y=clf.cv_values_)\n",
    "plt.title(\"Classification error as a function of susceptibility\")\n",
    "plt.ylabel(\"classification error %\")\n",
    "plt.xlabel(\"malaria susceptibility %\")"
   ]
  },
  {
   "cell_type": "markdown",
   "metadata": {},
   "source": [
    "We note that the classifier makes the worst mistakes when predicting susceptibility of the most resistant mice."
   ]
  },
  {
   "cell_type": "code",
   "execution_count": 130,
   "metadata": {},
   "outputs": [
    {
     "data": {
      "text/plain": [
       "(array([9.00000e+00, 2.02000e+02, 4.57100e+03, 8.31610e+04, 5.60186e+05,\n",
       "        4.96384e+05, 5.36320e+04, 2.80700e+03, 2.57000e+02, 2.20000e+01]),\n",
       " array([-2.55293652e-05, -2.03659262e-05, -1.52024872e-05, -1.00390482e-05,\n",
       "        -4.87560913e-06,  2.87829891e-07,  5.45126891e-06,  1.06147079e-05,\n",
       "         1.57781470e-05,  2.09415860e-05,  2.61050250e-05]),\n",
       " <a list of 10 Patch objects>)"
      ]
     },
     "execution_count": 130,
     "metadata": {},
     "output_type": "execute_result"
    },
    {
     "data": {
      "image/png": "[encoded data removed]",
      "text/plain": [
       "<Figure size 432x288 with 1 Axes>"
      ]
     },
     "metadata": {
      "needs_background": "light"
     },
     "output_type": "display_data"
    }
   ],
   "source": [
    "plt.hist(clf.coef_)"
   ]
  },
  {
   "cell_type": "markdown",
   "metadata": {},
   "source": [
    "Most of the weights are very small, meaning most of the expression data is not used. It appears that there are both gene expressions that correlate with susceptibility as those related to resistance: the histogram has negative and positive entries."
   ]
  },
  {
   "cell_type": "markdown",
   "metadata": {},
   "source": [
    "SNPs used by classifier to predict susceptibility:"
   ]
  },
  {
   "cell_type": "code",
   "execution_count": 131,
   "metadata": {},
   "outputs": [
    {
     "data": {
      "text/plain": [
       "Index(['scl00280487.1_157-S_ILM5910112_Bone_Femur',\n",
       "       '1700072I22Rik_ILM100380731_Bone_Femur', 'Cpn1_ILM1940114_Bone_Femur',\n",
       "       'Lonp2_ILM5290687_Bone_Femur', 'Serpina1-rat_ILM106590035_Bone_Femur'],\n",
       "      dtype='object')"
      ]
     },
     "execution_count": 131,
     "metadata": {},
     "output_type": "execute_result"
    }
   ],
   "source": [
    "X_train.columns[np.where(clf.coef_ > 0.000023)[0]]"
   ]
  },
  {
   "cell_type": "markdown",
   "metadata": {},
   "source": [
    "SNPs used by classifier to predict resistance:"
   ]
  },
  {
   "cell_type": "code",
   "execution_count": 132,
   "metadata": {},
   "outputs": [
    {
     "data": {
      "text/plain": [
       "Index(['Gpr83_ILM102940402_Bone_Femur', 'Cntnap2_ILM100380601_Bone_Femur',\n",
       "       'Car10_ILM3130463_Bone_Femur', 'Nppc_ILM2320647_Bone_Femur',\n",
       "       '4930571N24Rik_ILM101230041_Bone_Femur'],\n",
       "      dtype='object')"
      ]
     },
     "execution_count": 132,
     "metadata": {},
     "output_type": "execute_result"
    }
   ],
   "source": [
    "X_train.columns[np.where(clf.coef_ < -0.0000215)[0]]"
   ]
  },
  {
   "cell_type": "markdown",
   "metadata": {},
   "source": [
    "It seems that gene expression in bone femur is the strongest indicator"
   ]
  },
  {
   "cell_type": "markdown",
   "metadata": {},
   "source": [
    "We decide to reduce the number of SNPs we use for prediction for computational efficiency. To select the most important ones we pick those that have highest or lowest weights in ridge regression and those that have highest or lowest spearman correlation. Note that there might be more complex relationships that we decide not to consider due to limited number of mice in the dataset."
   ]
  },
  {
   "cell_type": "code",
   "execution_count": 133,
   "metadata": {},
   "outputs": [],
   "source": [
    "coef_with_index = list(zip(range(clf.coef_.shape[0]), clf.coef_))"
   ]
  },
  {
   "cell_type": "code",
   "execution_count": 134,
   "metadata": {},
   "outputs": [],
   "source": [
    "coef_with_index.sort(key=lambda x: x[1])"
   ]
  },
  {
   "cell_type": "code",
   "execution_count": 135,
   "metadata": {},
   "outputs": [],
   "source": [
    "# pick k indices of the most relevant features according to ridge\n",
    "def relevant_indices(k, list_with_indices):\n",
    "    negative = [el[0] for el in list_with_indices[:k//2]]\n",
    "    positive = [el[0] for el in list_with_indices[-k//2:]]\n",
    "    return negative + positive"
   ]
  },
  {
   "cell_type": "code",
   "execution_count": 136,
   "metadata": {},
   "outputs": [],
   "source": [
    "def evaluate_ridge(X_train_eval):\n",
    "    alphas = np.linspace(1e-10, 1000, 1500)\n",
    "    clf_ridge_relevant = RidgeCV(alphas=alphas, store_cv_values=True).fit(X_train_eval, y_train)\n",
    "    best_alpha_index = np.where(alphas == clf_ridge_relevant.alpha_)[0]\n",
    "    print(f\"best alpha: {clf_ridge_relevant.alpha_}\")\n",
    "    print(f\"mean error: {clf_ridge_relevant.cv_values_[:, ].mean()}\")"
   ]
  },
  {
   "cell_type": "code",
   "execution_count": 137,
   "metadata": {},
   "outputs": [
    {
     "name": "stdout",
     "output_type": "stream",
     "text": [
      "SNPs used: 1201231\n",
      "best alpha: 1000.0\n",
      "mean error: 0.11441279741829026\n",
      "SNPs used: 100000\n",
      "best alpha: 1e-10\n",
      "mean error: 0.013285589742792913\n",
      "SNPs used: 50000\n",
      "best alpha: 1e-10\n",
      "mean error: 0.013108024727601407\n",
      "SNPs used: 10000\n",
      "best alpha: 1e-10\n",
      "mean error: 0.031727779765802766\n",
      "SNPs used: 1000\n",
      "best alpha: 4.669779853335023\n",
      "mean error: 0.05478505288300849\n",
      "SNPs used: 100\n",
      "best alpha: 76.05070046707039\n",
      "mean error: 0.11688487206445203\n"
     ]
    }
   ],
   "source": [
    "indices_to_evaluate = [X_train.shape[1], 1e5, 50000, 1e4, 1e3, 1e2]\n",
    "for k in indices_to_evaluate:\n",
    "    print(f\"SNPs used: {int(k)}\")\n",
    "    indices = relevant_indices(int(k), coef_with_index)\n",
    "    evaluate_ridge(X_train.iloc[:, indices])"
   ]
  },
  {
   "cell_type": "markdown",
   "metadata": {},
   "source": [
    "We see that actually best scores are attained when we use only 100k most relevant SNPs, and using only 1k gives results not much worse. We decide to use only 1k for easier computation and better interpretability. "
   ]
  },
  {
   "cell_type": "markdown",
   "metadata": {},
   "source": [
    "Other measures of feature importance can be used. Here we compute the spearman correlation and pick the SNPs most positively or negatively correlated with the malaric susceptibility."
   ]
  },
  {
   "cell_type": "code",
   "execution_count": 138,
   "metadata": {},
   "outputs": [],
   "source": [
    "from scipy.stats import spearmanr"
   ]
  },
  {
   "cell_type": "code",
   "execution_count": 139,
   "metadata": {},
   "outputs": [
    {
     "name": "stdout",
     "output_type": "stream",
     "text": [
      "Time: 1014.3720483055858\n"
     ]
    }
   ],
   "source": [
    "import timeit\n",
    "number_of_samples = X_train.shape[1]\n",
    "spearman_values = []\n",
    "start = timeit.default_timer()\n",
    "for i in range(X_train.shape[1]):\n",
    "     spearman_values.append(spearmanr(X_train.iloc[:,i], y_train)[0])\n",
    "print(f\"Time: {timeit.default_timer() - start}\")"
   ]
  },
  {
   "cell_type": "code",
   "execution_count": 140,
   "metadata": {},
   "outputs": [],
   "source": [
    "spearman_values = np.array(spearman_values)\n",
    "np.save(\"processed_data/spearman_SNP_susceptibility.npy\", spearman_values)"
   ]
  },
  {
   "cell_type": "code",
   "execution_count": 141,
   "metadata": {},
   "outputs": [],
   "source": [
    "spearman_with_index = list(zip(range(spearman_values.shape[0]), spearman_values))\n",
    "spearman_with_index.sort(key=lambda x: x[1])"
   ]
  },
  {
   "cell_type": "code",
   "execution_count": 142,
   "metadata": {},
   "outputs": [
    {
     "name": "stdout",
     "output_type": "stream",
     "text": [
      "SNPs used: 1201231\n",
      "best alpha: 1000.0\n",
      "mean error: 0.11441279741829082\n",
      "SNPs used: 100000\n",
      "best alpha: 1000.0\n",
      "mean error: 0.04268402858421292\n",
      "SNPs used: 50000\n",
      "best alpha: 1000.0\n",
      "mean error: 0.042059489834478554\n",
      "SNPs used: 10000\n",
      "best alpha: 932.6217478318947\n",
      "mean error: 0.03571977156676782\n",
      "SNPs used: 1000\n",
      "best alpha: 130.75383589068065\n",
      "mean error: 0.043828214234133904\n",
      "SNPs used: 100\n",
      "best alpha: 36.69112741837518\n",
      "mean error: 0.06916577163298368\n"
     ]
    }
   ],
   "source": [
    "for k in indices_to_evaluate:\n",
    "    print(f\"SNPs used: {int(k)}\")\n",
    "    indices = relevant_indices(int(k), spearman_with_index)\n",
    "    evaluate_ridge(X_train.iloc[:, indices])"
   ]
  },
  {
   "cell_type": "code",
   "execution_count": 143,
   "metadata": {},
   "outputs": [
    {
     "name": "stdout",
     "output_type": "stream",
     "text": [
      "best alpha: 70.71380920623035\n",
      "mean error: 0.03105023943991128\n"
     ]
    }
   ],
   "source": [
    "indices_both = list(set(relevant_indices(400, spearman_with_index) + relevant_indices(400, coef_with_index)))\n",
    "evaluate_ridge(X_train.iloc[:, indices_both])\n",
    "pd.to_pickle(df_pheno[-1].iloc[:, :-1].iloc[:, indices_both], \"processed_data/selected_features.pkl\")"
   ]
  },
  {
   "cell_type": "markdown",
   "metadata": {},
   "source": [
    "We note that taking only the SNPs with significant spearman correlation doesn't give better results, but combining some of them with those previously selected does help. Since taking only"
   ]
  },
  {
   "cell_type": "markdown",
   "metadata": {},
   "source": [
    "Test of random forest regressor. As can be seen, it did not perform as well and we decided not to pursue this direction, using ridge regression only in the end."
   ]
  },
  {
   "cell_type": "code",
   "execution_count": 144,
   "metadata": {
    "scrolled": true
   },
   "outputs": [
    {
     "name": "stdout",
     "output_type": "stream",
     "text": [
      "Malaria susceptibility, murine Plasmodium yoelli 17X-lethal (PY17X-L) [0=100% resistant, 1= 100% susceptible], test+score: 0.5610690933096583, number_of_samples: 57\n",
      "Malaria susceptibility, murine Plasmodium yoelli 17X-lethal (PY17X-L) [0=100% resistant, 1= 100% susceptible], test+score: 0.6913644612476371, number_of_samples: 57\n",
      "Malaria susceptibility, murine Plasmodium yoelli 17X-lethal (PY17X-L) [0=100% resistant, 1= 100% susceptible], test+score: 0.5813735184879497, number_of_samples: 57\n",
      "Malaria susceptibility, murine Plasmodium yoelli 17X-lethal (PY17X-L) [0=100% resistant, 1= 100% susceptible], test+score: 0.49659829402248923, number_of_samples: 57\n",
      "Malaria susceptibility, murine Plasmodium yoelli 17X-lethal (PY17X-L) [0=100% resistant, 1= 100% susceptible], test+score: 0.5198664309696932, number_of_samples: 57\n",
      "Malaria susceptibility, murine Plasmodium yoelli 17X-lethal (PY17X-L) [0=100% resistant, 1= 100% susceptible], test+score: 0.07188980809292322, number_of_samples: 57\n",
      "Malaria susceptibility, murine Plasmodium yoelli 17X-lethal (PY17X-L) [0=100% resistant, 1= 100% susceptible], test+score: 0.6906361612096584, number_of_samples: 57\n",
      "Malaria susceptibility, murine Plasmodium yoelli 17X-lethal (PY17X-L) [0=100% resistant, 1= 100% susceptible], test+score: -0.0751372681281619, number_of_samples: 57\n",
      "Malaria susceptibility, murine Plasmodium yoelli 17X-lethal (PY17X-L) [0=100% resistant, 1= 100% susceptible], test+score: 0.5637211636796234, number_of_samples: 57\n",
      "Malaria susceptibility, murine Plasmodium yoelli 17X-lethal (PY17X-L) [0=100% resistant, 1= 100% susceptible], test+score: 0.14025723878598773, number_of_samples: 57\n",
      "Malaria susceptibility, murine Plasmodium yoelli 17X-lethal (PY17X-L) [0=100% resistant, 1= 100% susceptible], test+score: 0.5342990690175273, number_of_samples: 57\n",
      "Malaria susceptibility, murine Plasmodium yoelli 17X-lethal (PY17X-L) [0=100% resistant, 1= 100% susceptible], test+score: 0.4904866612772839, number_of_samples: 57\n",
      "Malaria susceptibility, murine Plasmodium yoelli 17X-lethal (PY17X-L) [0=100% resistant, 1= 100% susceptible], test+score: 0.34297085182528986, number_of_samples: 57\n",
      "Malaria susceptibility, murine Plasmodium yoelli 17X-lethal (PY17X-L) [0=100% resistant, 1= 100% susceptible], test+score: 0.6161018401043511, number_of_samples: 57\n",
      "Malaria susceptibility, murine Plasmodium yoelli 17X-lethal (PY17X-L) [0=100% resistant, 1= 100% susceptible], test+score: 0.3924106655660786, number_of_samples: 57\n",
      "Malaria susceptibility, murine Plasmodium yoelli 17X-lethal (PY17X-L) [0=100% resistant, 1= 100% susceptible], test+score: 0.7100298780487804, number_of_samples: 57\n",
      "Malaria susceptibility, murine Plasmodium yoelli 17X-lethal (PY17X-L) [0=100% resistant, 1= 100% susceptible], test+score: 0.5781827525237417, number_of_samples: 57\n",
      "Malaria susceptibility, murine Plasmodium yoelli 17X-lethal (PY17X-L) [0=100% resistant, 1= 100% susceptible], test+score: 0.671949569037735, number_of_samples: 57\n",
      "Malaria susceptibility, murine Plasmodium yoelli 17X-lethal (PY17X-L) [0=100% resistant, 1= 100% susceptible], test+score: 0.6268091210495048, number_of_samples: 57\n",
      "Malaria susceptibility, murine Plasmodium yoelli 17X-lethal (PY17X-L) [0=100% resistant, 1= 100% susceptible], test+score: 0.5556692852863807, number_of_samples: 57\n",
      "percentage of positive R^2 scores: 95.0\n"
     ]
    }
   ],
   "source": [
    "from sklearn.ensemble import RandomForestRegressor\n",
    "positive_test_score = 0\n",
    "num_tests = 20\n",
    "for random_state in range(num_tests):\n",
    "    for pheno_idx in malaria_susceptibility_idx:    \n",
    "        X_train, X_test, y_train, y_test = train_test_split(\n",
    "            df_pheno[pheno_idx].iloc[:, :-1].fillna(0), df_pheno[pheno_idx].iloc[:, -1].fillna(0), test_size=0.3, random_state=random_state)\n",
    "\n",
    "        clf = RandomForestRegressor(max_depth=10, random_state=0)\n",
    "        clf.fit(X_train.iloc[:, indices_both], y_train)\n",
    "        test_score = clf.score(X_test.iloc[:, indices_both], y_test)\n",
    "        if test_score > 0:\n",
    "            positive_test_score += 1\n",
    "        print(f\"{df_pheno[pheno_idx].columns[-1]}, test+score: {test_score}, number_of_samples: {len(df_pheno[pheno_idx])}\")\n",
    "print(f\"percentage of positive R^2 scores: {float(positive_test_score) / num_tests * 100}\")"
   ]
  },
  {
   "cell_type": "markdown",
   "metadata": {},
   "source": [
    "Testing the model with only selected features. We see that it performs much better."
   ]
  },
  {
   "cell_type": "code",
   "execution_count": 145,
   "metadata": {
    "scrolled": true
   },
   "outputs": [
    {
     "name": "stdout",
     "output_type": "stream",
     "text": [
      "Malaria susceptibility, murine Plasmodium yoelli 17X-lethal (PY17X-L) [0=100% resistant, 1= 100% susceptible], test+score: 0.8070006754865503, number_of_samples: 57\n",
      "Malaria susceptibility, murine Plasmodium yoelli 17X-lethal (PY17X-L) [0=100% resistant, 1= 100% susceptible], test+score: 0.8784954038917556, number_of_samples: 57\n",
      "Malaria susceptibility, murine Plasmodium yoelli 17X-lethal (PY17X-L) [0=100% resistant, 1= 100% susceptible], test+score: 0.7708790128025211, number_of_samples: 57\n",
      "Malaria susceptibility, murine Plasmodium yoelli 17X-lethal (PY17X-L) [0=100% resistant, 1= 100% susceptible], test+score: 0.5744964561652106, number_of_samples: 57\n",
      "Malaria susceptibility, murine Plasmodium yoelli 17X-lethal (PY17X-L) [0=100% resistant, 1= 100% susceptible], test+score: 0.8143591532790917, number_of_samples: 57\n",
      "Malaria susceptibility, murine Plasmodium yoelli 17X-lethal (PY17X-L) [0=100% resistant, 1= 100% susceptible], test+score: 0.7522962378892999, number_of_samples: 57\n",
      "Malaria susceptibility, murine Plasmodium yoelli 17X-lethal (PY17X-L) [0=100% resistant, 1= 100% susceptible], test+score: 0.8694264097625571, number_of_samples: 57\n",
      "Malaria susceptibility, murine Plasmodium yoelli 17X-lethal (PY17X-L) [0=100% resistant, 1= 100% susceptible], test+score: 0.6867869189870279, number_of_samples: 57\n",
      "Malaria susceptibility, murine Plasmodium yoelli 17X-lethal (PY17X-L) [0=100% resistant, 1= 100% susceptible], test+score: 0.717890372379154, number_of_samples: 57\n",
      "Malaria susceptibility, murine Plasmodium yoelli 17X-lethal (PY17X-L) [0=100% resistant, 1= 100% susceptible], test+score: 0.8038688896357955, number_of_samples: 57\n",
      "Malaria susceptibility, murine Plasmodium yoelli 17X-lethal (PY17X-L) [0=100% resistant, 1= 100% susceptible], test+score: 0.8848267747135743, number_of_samples: 57\n",
      "Malaria susceptibility, murine Plasmodium yoelli 17X-lethal (PY17X-L) [0=100% resistant, 1= 100% susceptible], test+score: 0.7857102854702621, number_of_samples: 57\n",
      "Malaria susceptibility, murine Plasmodium yoelli 17X-lethal (PY17X-L) [0=100% resistant, 1= 100% susceptible], test+score: 0.84992585540473, number_of_samples: 57\n",
      "Malaria susceptibility, murine Plasmodium yoelli 17X-lethal (PY17X-L) [0=100% resistant, 1= 100% susceptible], test+score: 0.7294450620991952, number_of_samples: 57\n",
      "Malaria susceptibility, murine Plasmodium yoelli 17X-lethal (PY17X-L) [0=100% resistant, 1= 100% susceptible], test+score: 0.7587946312133362, number_of_samples: 57\n",
      "Malaria susceptibility, murine Plasmodium yoelli 17X-lethal (PY17X-L) [0=100% resistant, 1= 100% susceptible], test+score: 0.7915007560173102, number_of_samples: 57\n",
      "Malaria susceptibility, murine Plasmodium yoelli 17X-lethal (PY17X-L) [0=100% resistant, 1= 100% susceptible], test+score: 0.7870597048382609, number_of_samples: 57\n",
      "Malaria susceptibility, murine Plasmodium yoelli 17X-lethal (PY17X-L) [0=100% resistant, 1= 100% susceptible], test+score: 0.8860613206700453, number_of_samples: 57\n",
      "Malaria susceptibility, murine Plasmodium yoelli 17X-lethal (PY17X-L) [0=100% resistant, 1= 100% susceptible], test+score: 0.8123123879493153, number_of_samples: 57\n",
      "Malaria susceptibility, murine Plasmodium yoelli 17X-lethal (PY17X-L) [0=100% resistant, 1= 100% susceptible], test+score: 0.8835041798120334, number_of_samples: 57\n",
      "percentage of positive R^2 scores: 100.0\n"
     ]
    }
   ],
   "source": [
    "positive_test_score = 0\n",
    "num_tests = 20\n",
    "for random_state in range(num_tests):\n",
    "    for pheno_idx in malaria_susceptibility_idx:    \n",
    "        X_train, X_test, y_train, y_test = train_test_split(\n",
    "            df_pheno[pheno_idx].iloc[:, :-1].fillna(0), df_pheno[pheno_idx].iloc[:, -1].fillna(0), test_size=0.3, random_state=random_state)\n",
    "\n",
    "        clf = RidgeCV(store_cv_values=True, alphas=[1e-99, 1e-5, 1e-4, 1e-3, 1e-2, 1e-1, 1, 1e2, 1e3, 1e4, 1e5, 1e6, 1e7, 1e8, 1e9, 1e10, 1e11, 1e12]).fit(X_train.iloc[:, indices_both], y_train)\n",
    "        if (clf.alpha_ == 1e12 or clf.alpha_ == 1e-5):\n",
    "            print(clf.alpha_)\n",
    "            print(\"Might need to update alpha\")\n",
    "        test_score = clf.score(X_test.iloc[:, indices_both], y_test)\n",
    "        if test_score > 0:\n",
    "            positive_test_score += 1\n",
    "        print(f\"{df_pheno[pheno_idx].columns[-1]}, test+score: {test_score}, number_of_samples: {len(df_pheno[pheno_idx])}\")\n",
    "print(f\"percentage of positive R^2 scores: {float(positive_test_score) / num_tests * 100}\")"
   ]
  },
  {
   "cell_type": "code",
   "execution_count": 146,
   "metadata": {},
   "outputs": [],
   "source": [
    "X_train, y_train = df_malaria.iloc[:, :-1].fillna(0), df_malaria.iloc[:, -1].fillna(0)"
   ]
  },
  {
   "cell_type": "code",
   "execution_count": 147,
   "metadata": {},
   "outputs": [],
   "source": [
    "clf.fit(X_train.iloc[:, indices_both], y_train);"
   ]
  },
  {
   "cell_type": "code",
   "execution_count": 148,
   "metadata": {},
   "outputs": [
    {
     "data": {
      "text/plain": [
       "Text(0.5, 0, 'malaria susceptibility %')"
      ]
     },
     "execution_count": 148,
     "metadata": {},
     "output_type": "execute_result"
    },
    {
     "data": {
      "image/png": "[encoded data removed]",
      "text/plain": [
       "<Figure size 432x288 with 1 Axes>"
      ]
     },
     "metadata": {
      "needs_background": "light"
     },
     "output_type": "display_data"
    }
   ],
   "source": [
    "# error distribution by mice susceptibility\n",
    "plt.scatter(x=y_train, y=clf.cv_values_[:,0])\n",
    "plt.title(\"Classification error as a function of susceptibility\")\n",
    "plt.ylabel(\"classification error %\")\n",
    "plt.xlabel(\"malaria susceptibility %\")"
   ]
  },
  {
   "cell_type": "markdown",
   "metadata": {},
   "source": [
    "Clearly this model is very accurate on the data"
   ]
  }
 ],
 "metadata": {
  "kernelspec": {
   "display_name": "Python 3",
   "language": "python",
   "name": "python3"
  },
  "language_info": {
   "codemirror_mode": {
    "name": "ipython",
    "version": 3
   },
   "file_extension": ".py",
   "mimetype": "text/x-python",
   "name": "python",
   "nbconvert_exporter": "python",
   "pygments_lexer": "ipython3",
   "version": "3.6.7"
  }
 },
 "nbformat": 4,
 "nbformat_minor": 4
}
